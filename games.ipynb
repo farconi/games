{
 "cells": [
  {
   "cell_type": "markdown",
   "metadata": {},
   "source": [
    "<h1>ICE - Successful Games</h1>"
   ]
  },
  {
   "cell_type": "markdown",
   "metadata": {},
   "source": [
    "# Index <a id='back'></a>\n",
    "\n",
    "* [Intro](#intro)\n",
    "* [Library Loading](#load_library)\n",
    "* [Data Loading](#data_loading)\n",
    "* [Data exploration](#data_exploring)\n",
    "     * [First Conclusions and Next Steps](#first_conclusions)\n",
    "* [Data Preprocessing](#data_preprocessing)\n",
    "     * [Header Style](#header_style)\n",
    "     * [Converting Data Types](#data_types)\n",
    "     * [Duplicates](#duplicates)\n",
    "     * [Handling missing values](#missing)\n",
    "     * [Enriching data](#enrich)\n",
    "* [Data Categorizing](#categorizing)\n",
    "* [Study of Fundamental Parameters](#parameters1)\n",
    "* [Study and Solution for Outliers](#parameters2)\n",
    "* [Study of Fundamental Parameters Without Outliers](#parameters3)\n",
    "* [Testing Hypothesis](#testing_hypothesis)\n",
    "* [General Conclusion](#general_conclusion)"
   ]
  },
  {
   "cell_type": "markdown",
   "metadata": {},
   "source": [
    "# Introduction <a id='intro'></a>\n",
    "\n",
    "\n"
   ]
  },
  {
   "cell_type": "markdown",
   "metadata": {},
   "source": [
    "The fictional online store Ice sells video games worldwide.\n",
    "\n",
    "Ratings from users, experts, genres, platforms (eg Xbox or PlayStation) and historical game sales data are available from open sources.\n",
    "\n",
    "We need to identify **patterns that determine whether a game is successful or not.**\n",
    "\n",
    "This will allow us to identify potential big winners and plan advertising campaigns.\n",
    "\n",
    "\n",
    "We will also test the following hypotheses:\n",
    "\n",
    "- Are the average user ratings of Xbox One and PC platforms the same?\n",
    "\n",
    "\n",
    "- Are the average user ratings for the Action and Sports genres different?"
   ]
  },
  {
   "cell_type": "markdown",
   "metadata": {},
   "source": [
    "[Back to index](#back)"
   ]
  },
  {
   "cell_type": "markdown",
   "metadata": {},
   "source": [
    "# Library Loading <a id='load_library'></a>\n",
    "\n",
    "\n"
   ]
  },
  {
   "cell_type": "markdown",
   "metadata": {},
   "source": [
    "As we consider our plans for this study, we know that we will need to work with columns, generate graphs, perform numerical calculations, statistics, and hypothesis testing. So we will already load the following libraries. If we find a need, we can load others later:"
   ]
  },
  {
   "cell_type": "code",
   "execution_count": 73,
   "metadata": {},
   "outputs": [],
   "source": [
    "# Loading all libraries\n",
    "\n",
    "import pandas as pd # pandas: for manipulation and analysis of tabular data\n",
    "\n",
    "from matplotlib import pyplot as plt # matplotlib.pyplot: for visualizing data in graphs and plots\n",
    "\n",
    "import numpy as np # numpy: for numeric calculations and array operations\n",
    "\n",
    "from scipy import stats as st # scipy.stats: for statistical calculations and hypothesis testing\n",
    "\n",
    "import seaborn as sns"
   ]
  },
  {
   "cell_type": "markdown",
   "metadata": {},
   "source": [
    "[Back to Index](#back)"
   ]
  },
  {
   "cell_type": "markdown",
   "metadata": {},
   "source": [
    "# Data Loading <a id='data_loading'></a>\n",
    "\n",
    "\n"
   ]
  },
  {
   "cell_type": "markdown",
   "metadata": {},
   "source": [
    "Reading the `games.csv` file from the `/datasets/` folder and linking it to the `df` variable:"
   ]
  },
  {
   "cell_type": "code",
   "execution_count": 74,
   "metadata": {},
   "outputs": [],
   "source": [
    "# Reading the file and storing it in df\n",
    "\n",
    "df = pd.read_csv('/datasets/games.csv')"
   ]
  },
  {
   "cell_type": "markdown",
   "metadata": {},
   "source": [
    "[Back to Index](#back)"
   ]
  },
  {
   "cell_type": "markdown",
   "metadata": {},
   "source": [
    "# Data Exploration <a id='data_exploring'></a>"
   ]
  },
  {
   "cell_type": "markdown",
   "metadata": {},
   "source": [
    "Now let's explore our data, see how many columns and rows it has, as well as look at some rows to check for possible problems with the data."
   ]
  },
  {
   "cell_type": "code",
   "execution_count": 75,
   "metadata": {},
   "outputs": [
    {
     "data": {
      "text/plain": [
       "(16715, 11)"
      ]
     },
     "execution_count": 75,
     "metadata": {},
     "output_type": "execute_result"
    }
   ],
   "source": [
    "# Let's see how many rows and columns our dataset has\n",
    "\n",
    "df.shape"
   ]
  },
  {
   "cell_type": "markdown",
   "metadata": {},
   "source": [
    "Displaying the first 10 rows of the table:"
   ]
  },
  {
   "cell_type": "code",
   "execution_count": 76,
   "metadata": {
    "scrolled": false
   },
   "outputs": [
    {
     "data": {
      "text/html": [
       "<div>\n",
       "<style scoped>\n",
       "    .dataframe tbody tr th:only-of-type {\n",
       "        vertical-align: middle;\n",
       "    }\n",
       "\n",
       "    .dataframe tbody tr th {\n",
       "        vertical-align: top;\n",
       "    }\n",
       "\n",
       "    .dataframe thead th {\n",
       "        text-align: right;\n",
       "    }\n",
       "</style>\n",
       "<table border=\"1\" class=\"dataframe\">\n",
       "  <thead>\n",
       "    <tr style=\"text-align: right;\">\n",
       "      <th></th>\n",
       "      <th>Name</th>\n",
       "      <th>Platform</th>\n",
       "      <th>Year_of_Release</th>\n",
       "      <th>Genre</th>\n",
       "      <th>NA_sales</th>\n",
       "      <th>EU_sales</th>\n",
       "      <th>JP_sales</th>\n",
       "      <th>Other_sales</th>\n",
       "      <th>Critic_Score</th>\n",
       "      <th>User_Score</th>\n",
       "      <th>Rating</th>\n",
       "    </tr>\n",
       "  </thead>\n",
       "  <tbody>\n",
       "    <tr>\n",
       "      <th>0</th>\n",
       "      <td>Wii Sports</td>\n",
       "      <td>Wii</td>\n",
       "      <td>2006.0</td>\n",
       "      <td>Sports</td>\n",
       "      <td>41.36</td>\n",
       "      <td>28.96</td>\n",
       "      <td>3.77</td>\n",
       "      <td>8.45</td>\n",
       "      <td>76.0</td>\n",
       "      <td>8</td>\n",
       "      <td>E</td>\n",
       "    </tr>\n",
       "    <tr>\n",
       "      <th>1</th>\n",
       "      <td>Super Mario Bros.</td>\n",
       "      <td>NES</td>\n",
       "      <td>1985.0</td>\n",
       "      <td>Platform</td>\n",
       "      <td>29.08</td>\n",
       "      <td>3.58</td>\n",
       "      <td>6.81</td>\n",
       "      <td>0.77</td>\n",
       "      <td>NaN</td>\n",
       "      <td>NaN</td>\n",
       "      <td>NaN</td>\n",
       "    </tr>\n",
       "    <tr>\n",
       "      <th>2</th>\n",
       "      <td>Mario Kart Wii</td>\n",
       "      <td>Wii</td>\n",
       "      <td>2008.0</td>\n",
       "      <td>Racing</td>\n",
       "      <td>15.68</td>\n",
       "      <td>12.76</td>\n",
       "      <td>3.79</td>\n",
       "      <td>3.29</td>\n",
       "      <td>82.0</td>\n",
       "      <td>8.3</td>\n",
       "      <td>E</td>\n",
       "    </tr>\n",
       "    <tr>\n",
       "      <th>3</th>\n",
       "      <td>Wii Sports Resort</td>\n",
       "      <td>Wii</td>\n",
       "      <td>2009.0</td>\n",
       "      <td>Sports</td>\n",
       "      <td>15.61</td>\n",
       "      <td>10.93</td>\n",
       "      <td>3.28</td>\n",
       "      <td>2.95</td>\n",
       "      <td>80.0</td>\n",
       "      <td>8</td>\n",
       "      <td>E</td>\n",
       "    </tr>\n",
       "    <tr>\n",
       "      <th>4</th>\n",
       "      <td>Pokemon Red/Pokemon Blue</td>\n",
       "      <td>GB</td>\n",
       "      <td>1996.0</td>\n",
       "      <td>Role-Playing</td>\n",
       "      <td>11.27</td>\n",
       "      <td>8.89</td>\n",
       "      <td>10.22</td>\n",
       "      <td>1.00</td>\n",
       "      <td>NaN</td>\n",
       "      <td>NaN</td>\n",
       "      <td>NaN</td>\n",
       "    </tr>\n",
       "    <tr>\n",
       "      <th>5</th>\n",
       "      <td>Tetris</td>\n",
       "      <td>GB</td>\n",
       "      <td>1989.0</td>\n",
       "      <td>Puzzle</td>\n",
       "      <td>23.20</td>\n",
       "      <td>2.26</td>\n",
       "      <td>4.22</td>\n",
       "      <td>0.58</td>\n",
       "      <td>NaN</td>\n",
       "      <td>NaN</td>\n",
       "      <td>NaN</td>\n",
       "    </tr>\n",
       "    <tr>\n",
       "      <th>6</th>\n",
       "      <td>New Super Mario Bros.</td>\n",
       "      <td>DS</td>\n",
       "      <td>2006.0</td>\n",
       "      <td>Platform</td>\n",
       "      <td>11.28</td>\n",
       "      <td>9.14</td>\n",
       "      <td>6.50</td>\n",
       "      <td>2.88</td>\n",
       "      <td>89.0</td>\n",
       "      <td>8.5</td>\n",
       "      <td>E</td>\n",
       "    </tr>\n",
       "    <tr>\n",
       "      <th>7</th>\n",
       "      <td>Wii Play</td>\n",
       "      <td>Wii</td>\n",
       "      <td>2006.0</td>\n",
       "      <td>Misc</td>\n",
       "      <td>13.96</td>\n",
       "      <td>9.18</td>\n",
       "      <td>2.93</td>\n",
       "      <td>2.84</td>\n",
       "      <td>58.0</td>\n",
       "      <td>6.6</td>\n",
       "      <td>E</td>\n",
       "    </tr>\n",
       "    <tr>\n",
       "      <th>8</th>\n",
       "      <td>New Super Mario Bros. Wii</td>\n",
       "      <td>Wii</td>\n",
       "      <td>2009.0</td>\n",
       "      <td>Platform</td>\n",
       "      <td>14.44</td>\n",
       "      <td>6.94</td>\n",
       "      <td>4.70</td>\n",
       "      <td>2.24</td>\n",
       "      <td>87.0</td>\n",
       "      <td>8.4</td>\n",
       "      <td>E</td>\n",
       "    </tr>\n",
       "    <tr>\n",
       "      <th>9</th>\n",
       "      <td>Duck Hunt</td>\n",
       "      <td>NES</td>\n",
       "      <td>1984.0</td>\n",
       "      <td>Shooter</td>\n",
       "      <td>26.93</td>\n",
       "      <td>0.63</td>\n",
       "      <td>0.28</td>\n",
       "      <td>0.47</td>\n",
       "      <td>NaN</td>\n",
       "      <td>NaN</td>\n",
       "      <td>NaN</td>\n",
       "    </tr>\n",
       "  </tbody>\n",
       "</table>\n",
       "</div>"
      ],
      "text/plain": [
       "                        Name Platform  Year_of_Release         Genre  \\\n",
       "0                 Wii Sports      Wii           2006.0        Sports   \n",
       "1          Super Mario Bros.      NES           1985.0      Platform   \n",
       "2             Mario Kart Wii      Wii           2008.0        Racing   \n",
       "3          Wii Sports Resort      Wii           2009.0        Sports   \n",
       "4   Pokemon Red/Pokemon Blue       GB           1996.0  Role-Playing   \n",
       "5                     Tetris       GB           1989.0        Puzzle   \n",
       "6      New Super Mario Bros.       DS           2006.0      Platform   \n",
       "7                   Wii Play      Wii           2006.0          Misc   \n",
       "8  New Super Mario Bros. Wii      Wii           2009.0      Platform   \n",
       "9                  Duck Hunt      NES           1984.0       Shooter   \n",
       "\n",
       "   NA_sales  EU_sales  JP_sales  Other_sales  Critic_Score User_Score Rating  \n",
       "0     41.36     28.96      3.77         8.45          76.0          8      E  \n",
       "1     29.08      3.58      6.81         0.77           NaN        NaN    NaN  \n",
       "2     15.68     12.76      3.79         3.29          82.0        8.3      E  \n",
       "3     15.61     10.93      3.28         2.95          80.0          8      E  \n",
       "4     11.27      8.89     10.22         1.00           NaN        NaN    NaN  \n",
       "5     23.20      2.26      4.22         0.58           NaN        NaN    NaN  \n",
       "6     11.28      9.14      6.50         2.88          89.0        8.5      E  \n",
       "7     13.96      9.18      2.93         2.84          58.0        6.6      E  \n",
       "8     14.44      6.94      4.70         2.24          87.0        8.4      E  \n",
       "9     26.93      0.63      0.28         0.47           NaN        NaN    NaN  "
      ]
     },
     "execution_count": 76,
     "metadata": {},
     "output_type": "execute_result"
    }
   ],
   "source": [
    "# Getting first 10 rows from table df\n",
    "\n",
    "df.head(10)"
   ]
  },
  {
   "cell_type": "markdown",
   "metadata": {},
   "source": [
    "Getting general information and basic statistics from the `df` table:"
   ]
  },
  {
   "cell_type": "code",
   "execution_count": 77,
   "metadata": {
    "scrolled": true
   },
   "outputs": [
    {
     "name": "stdout",
     "output_type": "stream",
     "text": [
      "<class 'pandas.core.frame.DataFrame'>\n",
      "RangeIndex: 16715 entries, 0 to 16714\n",
      "Data columns (total 11 columns):\n",
      " #   Column           Non-Null Count  Dtype  \n",
      "---  ------           --------------  -----  \n",
      " 0   Name             16713 non-null  object \n",
      " 1   Platform         16715 non-null  object \n",
      " 2   Year_of_Release  16446 non-null  float64\n",
      " 3   Genre            16713 non-null  object \n",
      " 4   NA_sales         16715 non-null  float64\n",
      " 5   EU_sales         16715 non-null  float64\n",
      " 6   JP_sales         16715 non-null  float64\n",
      " 7   Other_sales      16715 non-null  float64\n",
      " 8   Critic_Score     8137 non-null   float64\n",
      " 9   User_Score       10014 non-null  object \n",
      " 10  Rating           9949 non-null   object \n",
      "dtypes: float64(6), object(5)\n",
      "memory usage: 1.4+ MB\n"
     ]
    }
   ],
   "source": [
    "# General information\n",
    "\n",
    "df.info()"
   ]
  },
  {
   "cell_type": "code",
   "execution_count": 78,
   "metadata": {},
   "outputs": [
    {
     "data": {
      "text/html": [
       "<div>\n",
       "<style scoped>\n",
       "    .dataframe tbody tr th:only-of-type {\n",
       "        vertical-align: middle;\n",
       "    }\n",
       "\n",
       "    .dataframe tbody tr th {\n",
       "        vertical-align: top;\n",
       "    }\n",
       "\n",
       "    .dataframe thead th {\n",
       "        text-align: right;\n",
       "    }\n",
       "</style>\n",
       "<table border=\"1\" class=\"dataframe\">\n",
       "  <thead>\n",
       "    <tr style=\"text-align: right;\">\n",
       "      <th></th>\n",
       "      <th>Year_of_Release</th>\n",
       "      <th>NA_sales</th>\n",
       "      <th>EU_sales</th>\n",
       "      <th>JP_sales</th>\n",
       "      <th>Other_sales</th>\n",
       "      <th>Critic_Score</th>\n",
       "    </tr>\n",
       "  </thead>\n",
       "  <tbody>\n",
       "    <tr>\n",
       "      <th>count</th>\n",
       "      <td>16446.000000</td>\n",
       "      <td>16715.000000</td>\n",
       "      <td>16715.000000</td>\n",
       "      <td>16715.000000</td>\n",
       "      <td>16715.000000</td>\n",
       "      <td>8137.000000</td>\n",
       "    </tr>\n",
       "    <tr>\n",
       "      <th>mean</th>\n",
       "      <td>2006.484616</td>\n",
       "      <td>0.263377</td>\n",
       "      <td>0.145060</td>\n",
       "      <td>0.077617</td>\n",
       "      <td>0.047342</td>\n",
       "      <td>68.967679</td>\n",
       "    </tr>\n",
       "    <tr>\n",
       "      <th>std</th>\n",
       "      <td>5.877050</td>\n",
       "      <td>0.813604</td>\n",
       "      <td>0.503339</td>\n",
       "      <td>0.308853</td>\n",
       "      <td>0.186731</td>\n",
       "      <td>13.938165</td>\n",
       "    </tr>\n",
       "    <tr>\n",
       "      <th>min</th>\n",
       "      <td>1980.000000</td>\n",
       "      <td>0.000000</td>\n",
       "      <td>0.000000</td>\n",
       "      <td>0.000000</td>\n",
       "      <td>0.000000</td>\n",
       "      <td>13.000000</td>\n",
       "    </tr>\n",
       "    <tr>\n",
       "      <th>25%</th>\n",
       "      <td>2003.000000</td>\n",
       "      <td>0.000000</td>\n",
       "      <td>0.000000</td>\n",
       "      <td>0.000000</td>\n",
       "      <td>0.000000</td>\n",
       "      <td>60.000000</td>\n",
       "    </tr>\n",
       "    <tr>\n",
       "      <th>50%</th>\n",
       "      <td>2007.000000</td>\n",
       "      <td>0.080000</td>\n",
       "      <td>0.020000</td>\n",
       "      <td>0.000000</td>\n",
       "      <td>0.010000</td>\n",
       "      <td>71.000000</td>\n",
       "    </tr>\n",
       "    <tr>\n",
       "      <th>75%</th>\n",
       "      <td>2010.000000</td>\n",
       "      <td>0.240000</td>\n",
       "      <td>0.110000</td>\n",
       "      <td>0.040000</td>\n",
       "      <td>0.030000</td>\n",
       "      <td>79.000000</td>\n",
       "    </tr>\n",
       "    <tr>\n",
       "      <th>max</th>\n",
       "      <td>2016.000000</td>\n",
       "      <td>41.360000</td>\n",
       "      <td>28.960000</td>\n",
       "      <td>10.220000</td>\n",
       "      <td>10.570000</td>\n",
       "      <td>98.000000</td>\n",
       "    </tr>\n",
       "  </tbody>\n",
       "</table>\n",
       "</div>"
      ],
      "text/plain": [
       "       Year_of_Release      NA_sales      EU_sales      JP_sales  \\\n",
       "count     16446.000000  16715.000000  16715.000000  16715.000000   \n",
       "mean       2006.484616      0.263377      0.145060      0.077617   \n",
       "std           5.877050      0.813604      0.503339      0.308853   \n",
       "min        1980.000000      0.000000      0.000000      0.000000   \n",
       "25%        2003.000000      0.000000      0.000000      0.000000   \n",
       "50%        2007.000000      0.080000      0.020000      0.000000   \n",
       "75%        2010.000000      0.240000      0.110000      0.040000   \n",
       "max        2016.000000     41.360000     28.960000     10.220000   \n",
       "\n",
       "        Other_sales  Critic_Score  \n",
       "count  16715.000000   8137.000000  \n",
       "mean       0.047342     68.967679  \n",
       "std        0.186731     13.938165  \n",
       "min        0.000000     13.000000  \n",
       "25%        0.000000     60.000000  \n",
       "50%        0.010000     71.000000  \n",
       "75%        0.030000     79.000000  \n",
       "max       10.570000     98.000000  "
      ]
     },
     "execution_count": 78,
     "metadata": {},
     "output_type": "execute_result"
    }
   ],
   "source": [
    "# Printing statistical table descriptions\n",
    "\n",
    "df.describe()"
   ]
  },
  {
   "cell_type": "code",
   "execution_count": 79,
   "metadata": {},
   "outputs": [
    {
     "data": {
      "text/plain": [
       "Name               11559\n",
       "Platform              31\n",
       "Year_of_Release       37\n",
       "Genre                 12\n",
       "NA_sales             402\n",
       "EU_sales             307\n",
       "JP_sales             244\n",
       "Other_sales          155\n",
       "Critic_Score          82\n",
       "User_Score            96\n",
       "Rating                 8\n",
       "dtype: int64"
      ]
     },
     "execution_count": 79,
     "metadata": {},
     "output_type": "execute_result"
    }
   ],
   "source": [
    "# Counting unique values for each column\n",
    "\n",
    "df.nunique()"
   ]
  },
  {
   "cell_type": "markdown",
   "metadata": {},
   "source": [
    "The initial dataset contains the following fields:\n",
    "\n",
    "\n",
    "- `Name` (game name)\n",
    "\n",
    "\n",
    "- `Platform` (original platform the game was produced for)\n",
    "\n",
    "\n",
    "- `Year_of_Release` (game release year on the market)\n",
    "\n",
    "\n",
    "- `Genre` (genre: way to categorize electronic games based on their distinct mechanics and functioning)\n",
    "\n",
    "\n",
    "- `NA_sales` (North American sales in millions of USD)\n",
    "\n",
    "\n",
    "- `EU_sales` (European sales in millions of USD)\n",
    "\n",
    "\n",
    "- `JP_sales` (Japan sales in millions of USD)\n",
    "\n",
    "\n",
    "- `Other_sales` (sales in other countries in millions of USD)\n",
    "\n",
    "\n",
    "- `Critic_Score` - (Critical score - max 100)\n",
    "\n",
    "\n",
    "- `User_Score` - (User score - max 10)\n",
    "\n",
    "\n",
    "- `Rating` (Entertainment Software Rating Board (ESRB) - organization that analyzes the indicative age ratings for electronic games marketed in North America)"
   ]
  },
  {
   "cell_type": "markdown",
   "metadata": {},
   "source": [
    "[Back to Index](#back)"
   ]
  },
  {
   "cell_type": "markdown",
   "metadata": {},
   "source": [
    "## First Conclusions and Next Steps <a id='first_conclusions'></a>"
   ]
  },
  {
   "cell_type": "markdown",
   "metadata": {},
   "source": [
    "In this first exploration of the data, we were able to extract the following observations:\n",
    "- In **general lines**, we are dealing with data from 11559 electronic games classified in 12 possible genres, distributed in 31 platforms during 37 different years, between 1980 and 2016;\n",
    "\n",
    "\n",
    "- The **column names** do not follow a pattern: we will leave all of them with lowercase letters only;\n",
    "\n",
    "\n",
    "- We have **eleven columns**: let's add at least one more, adding sales from North America, with Europe, Japan and other locations to observe total sales/revenue for each game;\n",
    "\n",
    "\n",
    "- We will create new columns in *integer* format, mapping the `Platform` and `Genre` columns so that we can more easily observe their correlations with data from other columns;\n",
    "\n",
    "\n",
    "- Maybe we can also create new columns related to `User_Score` and `Critic_Score`, categorizing your data in groups that facilitate your analysis, comparing with other variables.\n",
    "\n",
    "\n",
    "- Six of the eleven columns have **missing values**, some missing less than half of the data and others less than 10 lines. We will analyze individually to decide if we should substitute values or keep them blank;\n",
    "\n",
    "\n",
    "- Columns `Year_of_Release` (*float64*) and `User_Score` (*object*) have their **data types** incorrect. We'll change `Year_of_Release` to *datetime* and `User_Score` to *float*;\n",
    "\n",
    "\n",
    "- In this set, the maximum sale of a game was around 41 million dollars, while (suspicious fact that) we also had game without any revenue. We will look at this more closely;\n",
    "\n",
    "\n",
    "- After pre-processing and categorization of data, we will use the `.info()` and `.describe()` methods again to check important changes and possible new actions to be followed."
   ]
  },
  {
   "cell_type": "markdown",
   "metadata": {},
   "source": [
    "[Back to Index](#back)"
   ]
  },
  {
   "cell_type": "markdown",
   "metadata": {},
   "source": [
    "# Data Preprocessing <a id='data_preprocessing'></a>"
   ]
  },
  {
   "cell_type": "markdown",
   "metadata": {},
   "source": [
    "In this section we will prepare the data for further analysis."
   ]
  },
  {
   "cell_type": "markdown",
   "metadata": {},
   "source": [
    "## Header Style <a id='header_style'></a>"
   ]
  },
  {
   "cell_type": "markdown",
   "metadata": {},
   "source": [
    "Let's check the before and after using `str.lower()` to change the column names:"
   ]
  },
  {
   "cell_type": "code",
   "execution_count": 80,
   "metadata": {},
   "outputs": [
    {
     "data": {
      "text/plain": [
       "Index(['Name', 'Platform', 'Year_of_Release', 'Genre', 'NA_sales', 'EU_sales',\n",
       "       'JP_sales', 'Other_sales', 'Critic_Score', 'User_Score', 'Rating'],\n",
       "      dtype='object')"
      ]
     },
     "execution_count": 80,
     "metadata": {},
     "output_type": "execute_result"
    }
   ],
   "source": [
    "# Column names before conversion\n",
    "\n",
    "df.columns"
   ]
  },
  {
   "cell_type": "code",
   "execution_count": 81,
   "metadata": {},
   "outputs": [],
   "source": [
    "# Applying the \"lower\" method\n",
    "\n",
    "df.columns = df.columns.str.lower()"
   ]
  },
  {
   "cell_type": "code",
   "execution_count": 82,
   "metadata": {},
   "outputs": [
    {
     "data": {
      "text/plain": [
       "Index(['name', 'platform', 'year_of_release', 'genre', 'na_sales', 'eu_sales',\n",
       "       'jp_sales', 'other_sales', 'critic_score', 'user_score', 'rating'],\n",
       "      dtype='object')"
      ]
     },
     "execution_count": 82,
     "metadata": {},
     "output_type": "execute_result"
    }
   ],
   "source": [
    "# Column names after conversion\n",
    "\n",
    "df.columns"
   ]
  },
  {
   "cell_type": "markdown",
   "metadata": {},
   "source": [
    "[Back to Index](#back)"
   ]
  },
  {
   "cell_type": "markdown",
   "metadata": {},
   "source": [
    "## Converting data types <a id='data_types'></a>"
   ]
  },
  {
   "cell_type": "markdown",
   "metadata": {},
   "source": [
    "### Column `year_of_release`"
   ]
  },
  {
   "cell_type": "code",
   "execution_count": 83,
   "metadata": {},
   "outputs": [],
   "source": [
    "# Using 'pd.to_datetime' to convert the release date\n",
    "\n",
    "df['year_of_release'] = pd.to_datetime(df['year_of_release'], format='%Y')\n",
    "df['year_of_release'] = df['year_of_release'].dt.year"
   ]
  },
  {
   "cell_type": "code",
   "execution_count": 84,
   "metadata": {},
   "outputs": [
    {
     "data": {
      "text/plain": [
       "2008.0    1427\n",
       "2009.0    1426\n",
       "2010.0    1255\n",
       "2007.0    1197\n",
       "2011.0    1136\n",
       "2006.0    1006\n",
       "2005.0     939\n",
       "2002.0     829\n",
       "2003.0     775\n",
       "2004.0     762\n",
       "2012.0     653\n",
       "2015.0     606\n",
       "2014.0     581\n",
       "2013.0     544\n",
       "2016.0     502\n",
       "2001.0     482\n",
       "1998.0     379\n",
       "2000.0     350\n",
       "1999.0     338\n",
       "1997.0     289\n",
       "1996.0     263\n",
       "1995.0     219\n",
       "1994.0     121\n",
       "1993.0      62\n",
       "1981.0      46\n",
       "1992.0      43\n",
       "1991.0      41\n",
       "1982.0      36\n",
       "1986.0      21\n",
       "1989.0      17\n",
       "1983.0      17\n",
       "1987.0      16\n",
       "1990.0      16\n",
       "1988.0      15\n",
       "1984.0      14\n",
       "1985.0      14\n",
       "1980.0       9\n",
       "Name: year_of_release, dtype: int64"
      ]
     },
     "execution_count": 84,
     "metadata": {},
     "output_type": "execute_result"
    }
   ],
   "source": [
    "df['year_of_release'].value_counts()"
   ]
  },
  {
   "cell_type": "markdown",
   "metadata": {},
   "source": [
    "### Column `user_score`"
   ]
  },
  {
   "cell_type": "markdown",
   "metadata": {},
   "source": [
    "We tried using 'pd.to_numeric' to convert the user's score data but got an error:\n",
    "\n",
    "**ValueError: Unable to parse string \"tbd\" at position 119**\n",
    "\n",
    "This indicates that there is something wrong with row 119.\n",
    "\n",
    "Let's take a look."
   ]
  },
  {
   "cell_type": "code",
   "execution_count": 85,
   "metadata": {},
   "outputs": [
    {
     "data": {
      "text/plain": [
       "name               Zumba Fitness\n",
       "platform                     Wii\n",
       "year_of_release           2010.0\n",
       "genre                     Sports\n",
       "na_sales                    3.45\n",
       "eu_sales                    2.59\n",
       "jp_sales                     0.0\n",
       "other_sales                 0.66\n",
       "critic_score                 NaN\n",
       "user_score                   tbd\n",
       "rating                         E\n",
       "Name: 119, dtype: object"
      ]
     },
     "execution_count": 85,
     "metadata": {},
     "output_type": "execute_result"
    }
   ],
   "source": [
    "# According to the error mentioned in the previous code, let's visualize the data from line 119\n",
    "\n",
    "df.iloc[119]"
   ]
  },
  {
   "cell_type": "markdown",
   "metadata": {},
   "source": [
    "Despite the fact that this game was released in 2010 and this data was collected in 2016, apparently the **user score** had not yet been determined, as it said `tbd` (to be determined).\n",
    "\n",
    "In any case, for us this data is a non-numerical value that does not give us any evidence of the possibility of substitution where numerical values should appear. That is, it can later be analyzed together with the missing values (NaN) of this column, if at this moment we use `coerce` in the `errors` parameter of the `to_numeric()` method."
   ]
  },
  {
   "cell_type": "code",
   "execution_count": 86,
   "metadata": {},
   "outputs": [],
   "source": [
    "# Now using the 'error=coerce' parameter in the 'pd.to_numeric' method\n",
    "# to convert this column's data to 'float'\n",
    "# and \"coerce\" the errors to be converted as NaN values\n",
    "\n",
    "df['user_score'] = pd.to_numeric(df['user_score'], errors='coerce')"
   ]
  },
  {
   "cell_type": "markdown",
   "metadata": {},
   "source": [
    "Great! We no longer have an error in the code!\n",
    "\n",
    "This indicates that our `user_score` column is now `float` and has one more NaN value for us to analyze later.\n",
    "\n",
    "Let's check the **data types** one last time before moving on:"
   ]
  },
  {
   "cell_type": "code",
   "execution_count": 87,
   "metadata": {},
   "outputs": [
    {
     "name": "stdout",
     "output_type": "stream",
     "text": [
      "<class 'pandas.core.frame.DataFrame'>\n",
      "RangeIndex: 16715 entries, 0 to 16714\n",
      "Data columns (total 11 columns):\n",
      " #   Column           Non-Null Count  Dtype  \n",
      "---  ------           --------------  -----  \n",
      " 0   name             16713 non-null  object \n",
      " 1   platform         16715 non-null  object \n",
      " 2   year_of_release  16446 non-null  float64\n",
      " 3   genre            16713 non-null  object \n",
      " 4   na_sales         16715 non-null  float64\n",
      " 5   eu_sales         16715 non-null  float64\n",
      " 6   jp_sales         16715 non-null  float64\n",
      " 7   other_sales      16715 non-null  float64\n",
      " 8   critic_score     8137 non-null   float64\n",
      " 9   user_score       7590 non-null   float64\n",
      " 10  rating           9949 non-null   object \n",
      "dtypes: float64(7), object(4)\n",
      "memory usage: 1.4+ MB\n"
     ]
    }
   ],
   "source": [
    "# Checking the datatypes\n",
    "\n",
    "df.info()"
   ]
  },
  {
   "cell_type": "markdown",
   "metadata": {},
   "source": [
    "[Back to Index](#back)"
   ]
  },
  {
   "cell_type": "markdown",
   "metadata": {},
   "source": [
    "## Duplicates <a id='duplicates'></a>\n",
    "\n"
   ]
  },
  {
   "cell_type": "markdown",
   "metadata": {},
   "source": [
    "Let's check the total sum of duplicate integer rows, so that, in case of incident, we can remove them:"
   ]
  },
  {
   "cell_type": "code",
   "execution_count": 88,
   "metadata": {},
   "outputs": [
    {
     "data": {
      "text/plain": [
       "0"
      ]
     },
     "execution_count": 88,
     "metadata": {},
     "output_type": "execute_result"
    }
   ],
   "source": [
    "df.duplicated().sum()"
   ]
  },
  {
   "cell_type": "markdown",
   "metadata": {},
   "source": [
    "At least with equal data in the entire row we didn't find any.\n",
    "\n",
    "We probably have a game releasing on more than one platform.\n",
    "\n",
    "So let's also look at the games with the same names that, in addition, appear with the same data about 'platform':"
   ]
  },
  {
   "cell_type": "code",
   "execution_count": 89,
   "metadata": {},
   "outputs": [
    {
     "data": {
      "text/html": [
       "<div>\n",
       "<style scoped>\n",
       "    .dataframe tbody tr th:only-of-type {\n",
       "        vertical-align: middle;\n",
       "    }\n",
       "\n",
       "    .dataframe tbody tr th {\n",
       "        vertical-align: top;\n",
       "    }\n",
       "\n",
       "    .dataframe thead th {\n",
       "        text-align: right;\n",
       "    }\n",
       "</style>\n",
       "<table border=\"1\" class=\"dataframe\">\n",
       "  <thead>\n",
       "    <tr style=\"text-align: right;\">\n",
       "      <th></th>\n",
       "      <th>name</th>\n",
       "      <th>platform</th>\n",
       "      <th>year_of_release</th>\n",
       "      <th>genre</th>\n",
       "      <th>na_sales</th>\n",
       "      <th>eu_sales</th>\n",
       "      <th>jp_sales</th>\n",
       "      <th>other_sales</th>\n",
       "      <th>critic_score</th>\n",
       "      <th>user_score</th>\n",
       "      <th>rating</th>\n",
       "    </tr>\n",
       "  </thead>\n",
       "  <tbody>\n",
       "    <tr>\n",
       "      <th>604</th>\n",
       "      <td>Madden NFL 13</td>\n",
       "      <td>PS3</td>\n",
       "      <td>2012.0</td>\n",
       "      <td>Sports</td>\n",
       "      <td>2.11</td>\n",
       "      <td>0.22</td>\n",
       "      <td>0.00</td>\n",
       "      <td>0.23</td>\n",
       "      <td>83.0</td>\n",
       "      <td>5.5</td>\n",
       "      <td>E</td>\n",
       "    </tr>\n",
       "    <tr>\n",
       "      <th>16230</th>\n",
       "      <td>Madden NFL 13</td>\n",
       "      <td>PS3</td>\n",
       "      <td>2012.0</td>\n",
       "      <td>Sports</td>\n",
       "      <td>0.00</td>\n",
       "      <td>0.01</td>\n",
       "      <td>0.00</td>\n",
       "      <td>0.00</td>\n",
       "      <td>83.0</td>\n",
       "      <td>5.5</td>\n",
       "      <td>E</td>\n",
       "    </tr>\n",
       "    <tr>\n",
       "      <th>1190</th>\n",
       "      <td>Need for Speed: Most Wanted</td>\n",
       "      <td>X360</td>\n",
       "      <td>2012.0</td>\n",
       "      <td>Racing</td>\n",
       "      <td>0.62</td>\n",
       "      <td>0.78</td>\n",
       "      <td>0.01</td>\n",
       "      <td>0.15</td>\n",
       "      <td>83.0</td>\n",
       "      <td>8.5</td>\n",
       "      <td>T</td>\n",
       "    </tr>\n",
       "    <tr>\n",
       "      <th>1591</th>\n",
       "      <td>Need for Speed: Most Wanted</td>\n",
       "      <td>X360</td>\n",
       "      <td>2005.0</td>\n",
       "      <td>Racing</td>\n",
       "      <td>1.00</td>\n",
       "      <td>0.13</td>\n",
       "      <td>0.02</td>\n",
       "      <td>0.10</td>\n",
       "      <td>83.0</td>\n",
       "      <td>8.5</td>\n",
       "      <td>T</td>\n",
       "    </tr>\n",
       "    <tr>\n",
       "      <th>5972</th>\n",
       "      <td>Need for Speed: Most Wanted</td>\n",
       "      <td>PC</td>\n",
       "      <td>2005.0</td>\n",
       "      <td>Racing</td>\n",
       "      <td>0.02</td>\n",
       "      <td>0.23</td>\n",
       "      <td>0.00</td>\n",
       "      <td>0.04</td>\n",
       "      <td>82.0</td>\n",
       "      <td>8.5</td>\n",
       "      <td>T</td>\n",
       "    </tr>\n",
       "    <tr>\n",
       "      <th>11715</th>\n",
       "      <td>Need for Speed: Most Wanted</td>\n",
       "      <td>PC</td>\n",
       "      <td>2012.0</td>\n",
       "      <td>Racing</td>\n",
       "      <td>0.00</td>\n",
       "      <td>0.06</td>\n",
       "      <td>0.00</td>\n",
       "      <td>0.02</td>\n",
       "      <td>82.0</td>\n",
       "      <td>8.5</td>\n",
       "      <td>T</td>\n",
       "    </tr>\n",
       "    <tr>\n",
       "      <th>1745</th>\n",
       "      <td>Sonic the Hedgehog</td>\n",
       "      <td>PS3</td>\n",
       "      <td>2006.0</td>\n",
       "      <td>Platform</td>\n",
       "      <td>0.41</td>\n",
       "      <td>0.06</td>\n",
       "      <td>0.04</td>\n",
       "      <td>0.66</td>\n",
       "      <td>43.0</td>\n",
       "      <td>4.1</td>\n",
       "      <td>E10+</td>\n",
       "    </tr>\n",
       "    <tr>\n",
       "      <th>4127</th>\n",
       "      <td>Sonic the Hedgehog</td>\n",
       "      <td>PS3</td>\n",
       "      <td>NaN</td>\n",
       "      <td>Platform</td>\n",
       "      <td>0.00</td>\n",
       "      <td>0.48</td>\n",
       "      <td>0.00</td>\n",
       "      <td>0.00</td>\n",
       "      <td>43.0</td>\n",
       "      <td>4.1</td>\n",
       "      <td>E10+</td>\n",
       "    </tr>\n",
       "    <tr>\n",
       "      <th>659</th>\n",
       "      <td>NaN</td>\n",
       "      <td>GEN</td>\n",
       "      <td>1993.0</td>\n",
       "      <td>NaN</td>\n",
       "      <td>1.78</td>\n",
       "      <td>0.53</td>\n",
       "      <td>0.00</td>\n",
       "      <td>0.08</td>\n",
       "      <td>NaN</td>\n",
       "      <td>NaN</td>\n",
       "      <td>NaN</td>\n",
       "    </tr>\n",
       "    <tr>\n",
       "      <th>14244</th>\n",
       "      <td>NaN</td>\n",
       "      <td>GEN</td>\n",
       "      <td>1993.0</td>\n",
       "      <td>NaN</td>\n",
       "      <td>0.00</td>\n",
       "      <td>0.00</td>\n",
       "      <td>0.03</td>\n",
       "      <td>0.00</td>\n",
       "      <td>NaN</td>\n",
       "      <td>NaN</td>\n",
       "      <td>NaN</td>\n",
       "    </tr>\n",
       "  </tbody>\n",
       "</table>\n",
       "</div>"
      ],
      "text/plain": [
       "                              name platform  year_of_release     genre  \\\n",
       "604                  Madden NFL 13      PS3           2012.0    Sports   \n",
       "16230                Madden NFL 13      PS3           2012.0    Sports   \n",
       "1190   Need for Speed: Most Wanted     X360           2012.0    Racing   \n",
       "1591   Need for Speed: Most Wanted     X360           2005.0    Racing   \n",
       "5972   Need for Speed: Most Wanted       PC           2005.0    Racing   \n",
       "11715  Need for Speed: Most Wanted       PC           2012.0    Racing   \n",
       "1745            Sonic the Hedgehog      PS3           2006.0  Platform   \n",
       "4127            Sonic the Hedgehog      PS3              NaN  Platform   \n",
       "659                            NaN      GEN           1993.0       NaN   \n",
       "14244                          NaN      GEN           1993.0       NaN   \n",
       "\n",
       "       na_sales  eu_sales  jp_sales  other_sales  critic_score  user_score  \\\n",
       "604        2.11      0.22      0.00         0.23          83.0         5.5   \n",
       "16230      0.00      0.01      0.00         0.00          83.0         5.5   \n",
       "1190       0.62      0.78      0.01         0.15          83.0         8.5   \n",
       "1591       1.00      0.13      0.02         0.10          83.0         8.5   \n",
       "5972       0.02      0.23      0.00         0.04          82.0         8.5   \n",
       "11715      0.00      0.06      0.00         0.02          82.0         8.5   \n",
       "1745       0.41      0.06      0.04         0.66          43.0         4.1   \n",
       "4127       0.00      0.48      0.00         0.00          43.0         4.1   \n",
       "659        1.78      0.53      0.00         0.08           NaN         NaN   \n",
       "14244      0.00      0.00      0.03         0.00           NaN         NaN   \n",
       "\n",
       "      rating  \n",
       "604        E  \n",
       "16230      E  \n",
       "1190       T  \n",
       "1591       T  \n",
       "5972       T  \n",
       "11715      T  \n",
       "1745    E10+  \n",
       "4127    E10+  \n",
       "659      NaN  \n",
       "14244    NaN  "
      ]
     },
     "execution_count": 89,
     "metadata": {},
     "output_type": "execute_result"
    }
   ],
   "source": [
    "# Printing duplicate values in both 'name' and 'platform' columns\n",
    "\n",
    "df[df.duplicated(['name', 'platform'], keep=False)].sort_values(by='name')"
   ]
  },
  {
   "cell_type": "markdown",
   "metadata": {},
   "source": [
    "After a quick search we could see that these are some examples of games that had more than one release for the same platform, but with different dates for different regions.\n",
    "\n",
    "That is, at this moment we don't need to worry about removing specific lines.\n",
    "\n",
    "But this little filter opened our eyes to rows that have missing values specifically in the `name` column, which we will most likely need to remove next."
   ]
  },
  {
   "cell_type": "markdown",
   "metadata": {},
   "source": [
    "[Back to Index](#back)"
   ]
  },
  {
   "cell_type": "markdown",
   "metadata": {},
   "source": [
    "## Categorization pre-clean data <a id='missing'></a>"
   ]
  },
  {
   "cell_type": "markdown",
   "metadata": {},
   "source": [
    "Before we remove missing values, let's look for correlations between the columns with the most missing values and other variables."
   ]
  },
  {
   "cell_type": "code",
   "execution_count": 90,
   "metadata": {},
   "outputs": [
    {
     "data": {
      "text/html": [
       "<div>\n",
       "<style scoped>\n",
       "    .dataframe tbody tr th:only-of-type {\n",
       "        vertical-align: middle;\n",
       "    }\n",
       "\n",
       "    .dataframe tbody tr th {\n",
       "        vertical-align: top;\n",
       "    }\n",
       "\n",
       "    .dataframe thead th {\n",
       "        text-align: right;\n",
       "    }\n",
       "</style>\n",
       "<table border=\"1\" class=\"dataframe\">\n",
       "  <thead>\n",
       "    <tr style=\"text-align: right;\">\n",
       "      <th></th>\n",
       "      <th>year_of_release</th>\n",
       "      <th>na_sales</th>\n",
       "      <th>eu_sales</th>\n",
       "      <th>jp_sales</th>\n",
       "      <th>other_sales</th>\n",
       "      <th>critic_score</th>\n",
       "      <th>user_score</th>\n",
       "    </tr>\n",
       "  </thead>\n",
       "  <tbody>\n",
       "    <tr>\n",
       "      <th>year_of_release</th>\n",
       "      <td>1.000000</td>\n",
       "      <td>-0.092500</td>\n",
       "      <td>0.003978</td>\n",
       "      <td>-0.168366</td>\n",
       "      <td>0.037820</td>\n",
       "      <td>0.011411</td>\n",
       "      <td>-0.267851</td>\n",
       "    </tr>\n",
       "    <tr>\n",
       "      <th>na_sales</th>\n",
       "      <td>-0.092500</td>\n",
       "      <td>1.000000</td>\n",
       "      <td>0.765335</td>\n",
       "      <td>0.449594</td>\n",
       "      <td>0.638649</td>\n",
       "      <td>0.240755</td>\n",
       "      <td>0.086200</td>\n",
       "    </tr>\n",
       "    <tr>\n",
       "      <th>eu_sales</th>\n",
       "      <td>0.003978</td>\n",
       "      <td>0.765335</td>\n",
       "      <td>1.000000</td>\n",
       "      <td>0.435061</td>\n",
       "      <td>0.722792</td>\n",
       "      <td>0.220752</td>\n",
       "      <td>0.055337</td>\n",
       "    </tr>\n",
       "    <tr>\n",
       "      <th>jp_sales</th>\n",
       "      <td>-0.168366</td>\n",
       "      <td>0.449594</td>\n",
       "      <td>0.435061</td>\n",
       "      <td>1.000000</td>\n",
       "      <td>0.291089</td>\n",
       "      <td>0.152593</td>\n",
       "      <td>0.125598</td>\n",
       "    </tr>\n",
       "    <tr>\n",
       "      <th>other_sales</th>\n",
       "      <td>0.037820</td>\n",
       "      <td>0.638649</td>\n",
       "      <td>0.722792</td>\n",
       "      <td>0.291089</td>\n",
       "      <td>1.000000</td>\n",
       "      <td>0.198554</td>\n",
       "      <td>0.057119</td>\n",
       "    </tr>\n",
       "    <tr>\n",
       "      <th>critic_score</th>\n",
       "      <td>0.011411</td>\n",
       "      <td>0.240755</td>\n",
       "      <td>0.220752</td>\n",
       "      <td>0.152593</td>\n",
       "      <td>0.198554</td>\n",
       "      <td>1.000000</td>\n",
       "      <td>0.580878</td>\n",
       "    </tr>\n",
       "    <tr>\n",
       "      <th>user_score</th>\n",
       "      <td>-0.267851</td>\n",
       "      <td>0.086200</td>\n",
       "      <td>0.055337</td>\n",
       "      <td>0.125598</td>\n",
       "      <td>0.057119</td>\n",
       "      <td>0.580878</td>\n",
       "      <td>1.000000</td>\n",
       "    </tr>\n",
       "  </tbody>\n",
       "</table>\n",
       "</div>"
      ],
      "text/plain": [
       "                 year_of_release  na_sales  eu_sales  jp_sales  other_sales  \\\n",
       "year_of_release         1.000000 -0.092500  0.003978 -0.168366     0.037820   \n",
       "na_sales               -0.092500  1.000000  0.765335  0.449594     0.638649   \n",
       "eu_sales                0.003978  0.765335  1.000000  0.435061     0.722792   \n",
       "jp_sales               -0.168366  0.449594  0.435061  1.000000     0.291089   \n",
       "other_sales             0.037820  0.638649  0.722792  0.291089     1.000000   \n",
       "critic_score            0.011411  0.240755  0.220752  0.152593     0.198554   \n",
       "user_score             -0.267851  0.086200  0.055337  0.125598     0.057119   \n",
       "\n",
       "                 critic_score  user_score  \n",
       "year_of_release      0.011411   -0.267851  \n",
       "na_sales             0.240755    0.086200  \n",
       "eu_sales             0.220752    0.055337  \n",
       "jp_sales             0.152593    0.125598  \n",
       "other_sales          0.198554    0.057119  \n",
       "critic_score         1.000000    0.580878  \n",
       "user_score           0.580878    1.000000  "
      ]
     },
     "execution_count": 90,
     "metadata": {},
     "output_type": "execute_result"
    }
   ],
   "source": [
    "# Checking correlatable columns\n",
    "\n",
    "df.corr()"
   ]
  },
  {
   "cell_type": "markdown",
   "metadata": {},
   "source": [
    "Some columns were not considered because they did not contain numeric values. For them to participate in this matrix, we will need to create categories related to the values of these columns.\n",
    "\n",
    "Let's create new columns with integer values corresponding to each unique value in the `platform`, `genre` and `rating` columns using the *method* **astype('category')** followed by the *attribute* **cat.codes **.\n",
    "\n",
    "The astype('category') method will convert the column to a categorical type and cat.codes returns an integer code for each unique value."
   ]
  },
  {
   "cell_type": "code",
   "execution_count": 91,
   "metadata": {},
   "outputs": [
    {
     "data": {
      "text/html": [
       "<div>\n",
       "<style scoped>\n",
       "    .dataframe tbody tr th:only-of-type {\n",
       "        vertical-align: middle;\n",
       "    }\n",
       "\n",
       "    .dataframe tbody tr th {\n",
       "        vertical-align: top;\n",
       "    }\n",
       "\n",
       "    .dataframe thead th {\n",
       "        text-align: right;\n",
       "    }\n",
       "</style>\n",
       "<table border=\"1\" class=\"dataframe\">\n",
       "  <thead>\n",
       "    <tr style=\"text-align: right;\">\n",
       "      <th></th>\n",
       "      <th>name</th>\n",
       "      <th>platform</th>\n",
       "      <th>platform_id</th>\n",
       "      <th>year_of_release</th>\n",
       "      <th>genre</th>\n",
       "      <th>genre_id</th>\n",
       "      <th>na_sales</th>\n",
       "      <th>eu_sales</th>\n",
       "      <th>jp_sales</th>\n",
       "      <th>other_sales</th>\n",
       "      <th>critic_score</th>\n",
       "      <th>user_score</th>\n",
       "      <th>rating</th>\n",
       "      <th>rating_id</th>\n",
       "    </tr>\n",
       "  </thead>\n",
       "  <tbody>\n",
       "    <tr>\n",
       "      <th>0</th>\n",
       "      <td>Wii Sports</td>\n",
       "      <td>Wii</td>\n",
       "      <td>26</td>\n",
       "      <td>2006.0</td>\n",
       "      <td>Sports</td>\n",
       "      <td>10</td>\n",
       "      <td>41.36</td>\n",
       "      <td>28.96</td>\n",
       "      <td>3.77</td>\n",
       "      <td>8.45</td>\n",
       "      <td>76.0</td>\n",
       "      <td>8.0</td>\n",
       "      <td>E</td>\n",
       "      <td>1</td>\n",
       "    </tr>\n",
       "    <tr>\n",
       "      <th>1</th>\n",
       "      <td>Super Mario Bros.</td>\n",
       "      <td>NES</td>\n",
       "      <td>11</td>\n",
       "      <td>1985.0</td>\n",
       "      <td>Platform</td>\n",
       "      <td>4</td>\n",
       "      <td>29.08</td>\n",
       "      <td>3.58</td>\n",
       "      <td>6.81</td>\n",
       "      <td>0.77</td>\n",
       "      <td>NaN</td>\n",
       "      <td>NaN</td>\n",
       "      <td>NaN</td>\n",
       "      <td>-1</td>\n",
       "    </tr>\n",
       "    <tr>\n",
       "      <th>2</th>\n",
       "      <td>Mario Kart Wii</td>\n",
       "      <td>Wii</td>\n",
       "      <td>26</td>\n",
       "      <td>2008.0</td>\n",
       "      <td>Racing</td>\n",
       "      <td>6</td>\n",
       "      <td>15.68</td>\n",
       "      <td>12.76</td>\n",
       "      <td>3.79</td>\n",
       "      <td>3.29</td>\n",
       "      <td>82.0</td>\n",
       "      <td>8.3</td>\n",
       "      <td>E</td>\n",
       "      <td>1</td>\n",
       "    </tr>\n",
       "    <tr>\n",
       "      <th>3</th>\n",
       "      <td>Wii Sports Resort</td>\n",
       "      <td>Wii</td>\n",
       "      <td>26</td>\n",
       "      <td>2009.0</td>\n",
       "      <td>Sports</td>\n",
       "      <td>10</td>\n",
       "      <td>15.61</td>\n",
       "      <td>10.93</td>\n",
       "      <td>3.28</td>\n",
       "      <td>2.95</td>\n",
       "      <td>80.0</td>\n",
       "      <td>8.0</td>\n",
       "      <td>E</td>\n",
       "      <td>1</td>\n",
       "    </tr>\n",
       "    <tr>\n",
       "      <th>4</th>\n",
       "      <td>Pokemon Red/Pokemon Blue</td>\n",
       "      <td>GB</td>\n",
       "      <td>5</td>\n",
       "      <td>1996.0</td>\n",
       "      <td>Role-Playing</td>\n",
       "      <td>7</td>\n",
       "      <td>11.27</td>\n",
       "      <td>8.89</td>\n",
       "      <td>10.22</td>\n",
       "      <td>1.00</td>\n",
       "      <td>NaN</td>\n",
       "      <td>NaN</td>\n",
       "      <td>NaN</td>\n",
       "      <td>-1</td>\n",
       "    </tr>\n",
       "  </tbody>\n",
       "</table>\n",
       "</div>"
      ],
      "text/plain": [
       "                       name platform  platform_id  year_of_release  \\\n",
       "0                Wii Sports      Wii           26           2006.0   \n",
       "1         Super Mario Bros.      NES           11           1985.0   \n",
       "2            Mario Kart Wii      Wii           26           2008.0   \n",
       "3         Wii Sports Resort      Wii           26           2009.0   \n",
       "4  Pokemon Red/Pokemon Blue       GB            5           1996.0   \n",
       "\n",
       "          genre  genre_id  na_sales  eu_sales  jp_sales  other_sales  \\\n",
       "0        Sports        10     41.36     28.96      3.77         8.45   \n",
       "1      Platform         4     29.08      3.58      6.81         0.77   \n",
       "2        Racing         6     15.68     12.76      3.79         3.29   \n",
       "3        Sports        10     15.61     10.93      3.28         2.95   \n",
       "4  Role-Playing         7     11.27      8.89     10.22         1.00   \n",
       "\n",
       "   critic_score  user_score rating  rating_id  \n",
       "0          76.0         8.0      E          1  \n",
       "1           NaN         NaN    NaN         -1  \n",
       "2          82.0         8.3      E          1  \n",
       "3          80.0         8.0      E          1  \n",
       "4           NaN         NaN    NaN         -1  "
      ]
     },
     "execution_count": 91,
     "metadata": {},
     "output_type": "execute_result"
    }
   ],
   "source": [
    "# Creating new columns with integer codes for 'platform', 'genre' and 'rating'\n",
    "df['platform_id'] = df['platform'].astype('category').cat.codes\n",
    "df['genre_id'] = df['genre'].astype('category').cat.codes\n",
    "df['rating_id'] = df['rating'].astype('category').cat.codes\n",
    "\n",
    "# Rearranging the columns\n",
    "df = df[['name', 'platform', 'platform_id', 'year_of_release', 'genre', 'genre_id', 'na_sales', 'eu_sales', 'jp_sales', 'other_sales', 'critic_score', 'user_score', 'rating', 'rating_id']]\n",
    "\n",
    "\n",
    "df.head()"
   ]
  },
  {
   "cell_type": "code",
   "execution_count": 92,
   "metadata": {},
   "outputs": [
    {
     "data": {
      "text/html": [
       "<div>\n",
       "<style scoped>\n",
       "    .dataframe tbody tr th:only-of-type {\n",
       "        vertical-align: middle;\n",
       "    }\n",
       "\n",
       "    .dataframe tbody tr th {\n",
       "        vertical-align: top;\n",
       "    }\n",
       "\n",
       "    .dataframe thead th {\n",
       "        text-align: right;\n",
       "    }\n",
       "</style>\n",
       "<table border=\"1\" class=\"dataframe\">\n",
       "  <thead>\n",
       "    <tr style=\"text-align: right;\">\n",
       "      <th></th>\n",
       "      <th>platform_id</th>\n",
       "      <th>year_of_release</th>\n",
       "      <th>genre_id</th>\n",
       "      <th>na_sales</th>\n",
       "      <th>eu_sales</th>\n",
       "      <th>jp_sales</th>\n",
       "      <th>other_sales</th>\n",
       "      <th>critic_score</th>\n",
       "      <th>user_score</th>\n",
       "      <th>rating_id</th>\n",
       "    </tr>\n",
       "  </thead>\n",
       "  <tbody>\n",
       "    <tr>\n",
       "      <th>platform_id</th>\n",
       "      <td>1.000000</td>\n",
       "      <td>0.172184</td>\n",
       "      <td>0.025970</td>\n",
       "      <td>0.040787</td>\n",
       "      <td>0.044897</td>\n",
       "      <td>-0.079622</td>\n",
       "      <td>0.054936</td>\n",
       "      <td>0.018264</td>\n",
       "      <td>-0.090643</td>\n",
       "      <td>0.219780</td>\n",
       "    </tr>\n",
       "    <tr>\n",
       "      <th>year_of_release</th>\n",
       "      <td>0.172184</td>\n",
       "      <td>1.000000</td>\n",
       "      <td>-0.129210</td>\n",
       "      <td>-0.092500</td>\n",
       "      <td>0.003978</td>\n",
       "      <td>-0.168366</td>\n",
       "      <td>0.037820</td>\n",
       "      <td>0.011411</td>\n",
       "      <td>-0.267851</td>\n",
       "      <td>0.175135</td>\n",
       "    </tr>\n",
       "    <tr>\n",
       "      <th>genre_id</th>\n",
       "      <td>0.025970</td>\n",
       "      <td>-0.129210</td>\n",
       "      <td>1.000000</td>\n",
       "      <td>0.019266</td>\n",
       "      <td>0.019162</td>\n",
       "      <td>0.030971</td>\n",
       "      <td>0.011828</td>\n",
       "      <td>0.140810</td>\n",
       "      <td>0.011294</td>\n",
       "      <td>-0.027279</td>\n",
       "    </tr>\n",
       "    <tr>\n",
       "      <th>na_sales</th>\n",
       "      <td>0.040787</td>\n",
       "      <td>-0.092500</td>\n",
       "      <td>0.019266</td>\n",
       "      <td>1.000000</td>\n",
       "      <td>0.765335</td>\n",
       "      <td>0.449594</td>\n",
       "      <td>0.638649</td>\n",
       "      <td>0.240755</td>\n",
       "      <td>0.086200</td>\n",
       "      <td>0.055759</td>\n",
       "    </tr>\n",
       "    <tr>\n",
       "      <th>eu_sales</th>\n",
       "      <td>0.044897</td>\n",
       "      <td>0.003978</td>\n",
       "      <td>0.019162</td>\n",
       "      <td>0.765335</td>\n",
       "      <td>1.000000</td>\n",
       "      <td>0.435061</td>\n",
       "      <td>0.722792</td>\n",
       "      <td>0.220752</td>\n",
       "      <td>0.055337</td>\n",
       "      <td>0.068143</td>\n",
       "    </tr>\n",
       "    <tr>\n",
       "      <th>jp_sales</th>\n",
       "      <td>-0.079622</td>\n",
       "      <td>-0.168366</td>\n",
       "      <td>0.030971</td>\n",
       "      <td>0.449594</td>\n",
       "      <td>0.435061</td>\n",
       "      <td>1.000000</td>\n",
       "      <td>0.291089</td>\n",
       "      <td>0.152593</td>\n",
       "      <td>0.125598</td>\n",
       "      <td>-0.090096</td>\n",
       "    </tr>\n",
       "    <tr>\n",
       "      <th>other_sales</th>\n",
       "      <td>0.054936</td>\n",
       "      <td>0.037820</td>\n",
       "      <td>0.011828</td>\n",
       "      <td>0.638649</td>\n",
       "      <td>0.722792</td>\n",
       "      <td>0.291089</td>\n",
       "      <td>1.000000</td>\n",
       "      <td>0.198554</td>\n",
       "      <td>0.057119</td>\n",
       "      <td>0.089935</td>\n",
       "    </tr>\n",
       "    <tr>\n",
       "      <th>critic_score</th>\n",
       "      <td>0.018264</td>\n",
       "      <td>0.011411</td>\n",
       "      <td>0.140810</td>\n",
       "      <td>0.240755</td>\n",
       "      <td>0.220752</td>\n",
       "      <td>0.152593</td>\n",
       "      <td>0.198554</td>\n",
       "      <td>1.000000</td>\n",
       "      <td>0.580878</td>\n",
       "      <td>0.040429</td>\n",
       "    </tr>\n",
       "    <tr>\n",
       "      <th>user_score</th>\n",
       "      <td>-0.090643</td>\n",
       "      <td>-0.267851</td>\n",
       "      <td>0.011294</td>\n",
       "      <td>0.086200</td>\n",
       "      <td>0.055337</td>\n",
       "      <td>0.125598</td>\n",
       "      <td>0.057119</td>\n",
       "      <td>0.580878</td>\n",
       "      <td>1.000000</td>\n",
       "      <td>0.081388</td>\n",
       "    </tr>\n",
       "    <tr>\n",
       "      <th>rating_id</th>\n",
       "      <td>0.219780</td>\n",
       "      <td>0.175135</td>\n",
       "      <td>-0.027279</td>\n",
       "      <td>0.055759</td>\n",
       "      <td>0.068143</td>\n",
       "      <td>-0.090096</td>\n",
       "      <td>0.089935</td>\n",
       "      <td>0.040429</td>\n",
       "      <td>0.081388</td>\n",
       "      <td>1.000000</td>\n",
       "    </tr>\n",
       "  </tbody>\n",
       "</table>\n",
       "</div>"
      ],
      "text/plain": [
       "                 platform_id  year_of_release  genre_id  na_sales  eu_sales  \\\n",
       "platform_id         1.000000         0.172184  0.025970  0.040787  0.044897   \n",
       "year_of_release     0.172184         1.000000 -0.129210 -0.092500  0.003978   \n",
       "genre_id            0.025970        -0.129210  1.000000  0.019266  0.019162   \n",
       "na_sales            0.040787        -0.092500  0.019266  1.000000  0.765335   \n",
       "eu_sales            0.044897         0.003978  0.019162  0.765335  1.000000   \n",
       "jp_sales           -0.079622        -0.168366  0.030971  0.449594  0.435061   \n",
       "other_sales         0.054936         0.037820  0.011828  0.638649  0.722792   \n",
       "critic_score        0.018264         0.011411  0.140810  0.240755  0.220752   \n",
       "user_score         -0.090643        -0.267851  0.011294  0.086200  0.055337   \n",
       "rating_id           0.219780         0.175135 -0.027279  0.055759  0.068143   \n",
       "\n",
       "                 jp_sales  other_sales  critic_score  user_score  rating_id  \n",
       "platform_id     -0.079622     0.054936      0.018264   -0.090643   0.219780  \n",
       "year_of_release -0.168366     0.037820      0.011411   -0.267851   0.175135  \n",
       "genre_id         0.030971     0.011828      0.140810    0.011294  -0.027279  \n",
       "na_sales         0.449594     0.638649      0.240755    0.086200   0.055759  \n",
       "eu_sales         0.435061     0.722792      0.220752    0.055337   0.068143  \n",
       "jp_sales         1.000000     0.291089      0.152593    0.125598  -0.090096  \n",
       "other_sales      0.291089     1.000000      0.198554    0.057119   0.089935  \n",
       "critic_score     0.152593     0.198554      1.000000    0.580878   0.040429  \n",
       "user_score       0.125598     0.057119      0.580878    1.000000   0.081388  \n",
       "rating_id       -0.090096     0.089935      0.040429    0.081388   1.000000  "
      ]
     },
     "execution_count": 92,
     "metadata": {},
     "output_type": "execute_result"
    }
   ],
   "source": [
    "# Printing the correlation matrix\n",
    "\n",
    "df.corr()"
   ]
  },
  {
   "cell_type": "markdown",
   "metadata": {},
   "source": [
    "We will probably use these categorical columns later on.\n",
    "\n",
    "But for now we observe a very low correlation between all variables considered.\n",
    "\n",
    "Those that are most closely related are sales-oriented, such as sales in Europe being linked to sales in North America.\n",
    "\n",
    "Among the low correlations that the critics' score (`critic_score`) establishes, apparently North American customers pay more attention to this data.\n",
    "\n",
    "**Or is it that the critics are American, have a taste for games and an American cultural background?**\n",
    "\n",
    "But if we had to choose between `platform_id`, `rating_id` and `genre_id` for greater relationship with `critic_score`, we see that the game's genre has more influence on the game's critical score than the platform it's on or even indicative classification.\n",
    "\n",
    "Anyway, at least for the purpose of looking for a direct relationship to remove or replace missing values, this correlation matrix did not serve much purpose.\n",
    "\n",
    "**But one thing we do know, the higher your sales, the higher the critics score.**"
   ]
  },
  {
   "cell_type": "markdown",
   "metadata": {},
   "source": [
    "## Enriching the data <a id='enrich1'></a>"
   ]
  },
  {
   "cell_type": "markdown",
   "metadata": {},
   "source": [
    "Let's add a new column `total_sales`, considering sales in all regions.\n",
    "\n",
    "Who knows, maybe it will help us in reviewing whether or not we should remove some rows of data, when they are about games that generated a lot of revenue:"
   ]
  },
  {
   "cell_type": "code",
   "execution_count": 93,
   "metadata": {},
   "outputs": [
    {
     "data": {
      "text/plain": [
       "Index(['name', 'platform', 'platform_id', 'year_of_release', 'genre',\n",
       "       'genre_id', 'na_sales', 'eu_sales', 'jp_sales', 'other_sales',\n",
       "       'critic_score', 'user_score', 'rating', 'rating_id'],\n",
       "      dtype='object')"
      ]
     },
     "execution_count": 93,
     "metadata": {},
     "output_type": "execute_result"
    }
   ],
   "source": [
    "# Checking column names and order\n",
    "\n",
    "df.columns"
   ]
  },
  {
   "cell_type": "code",
   "execution_count": 94,
   "metadata": {},
   "outputs": [
    {
     "data": {
      "text/html": [
       "<div>\n",
       "<style scoped>\n",
       "    .dataframe tbody tr th:only-of-type {\n",
       "        vertical-align: middle;\n",
       "    }\n",
       "\n",
       "    .dataframe tbody tr th {\n",
       "        vertical-align: top;\n",
       "    }\n",
       "\n",
       "    .dataframe thead th {\n",
       "        text-align: right;\n",
       "    }\n",
       "</style>\n",
       "<table border=\"1\" class=\"dataframe\">\n",
       "  <thead>\n",
       "    <tr style=\"text-align: right;\">\n",
       "      <th></th>\n",
       "      <th>name</th>\n",
       "      <th>platform</th>\n",
       "      <th>platform_id</th>\n",
       "      <th>year_of_release</th>\n",
       "      <th>genre</th>\n",
       "      <th>genre_id</th>\n",
       "      <th>na_sales</th>\n",
       "      <th>eu_sales</th>\n",
       "      <th>jp_sales</th>\n",
       "      <th>other_sales</th>\n",
       "      <th>total_sales</th>\n",
       "      <th>critic_score</th>\n",
       "      <th>user_score</th>\n",
       "      <th>rating</th>\n",
       "      <th>rating_id</th>\n",
       "    </tr>\n",
       "  </thead>\n",
       "  <tbody>\n",
       "    <tr>\n",
       "      <th>0</th>\n",
       "      <td>Wii Sports</td>\n",
       "      <td>Wii</td>\n",
       "      <td>26</td>\n",
       "      <td>2006.0</td>\n",
       "      <td>Sports</td>\n",
       "      <td>10</td>\n",
       "      <td>41.36</td>\n",
       "      <td>28.96</td>\n",
       "      <td>3.77</td>\n",
       "      <td>8.45</td>\n",
       "      <td>82.54</td>\n",
       "      <td>76.0</td>\n",
       "      <td>8.0</td>\n",
       "      <td>E</td>\n",
       "      <td>1</td>\n",
       "    </tr>\n",
       "    <tr>\n",
       "      <th>1</th>\n",
       "      <td>Super Mario Bros.</td>\n",
       "      <td>NES</td>\n",
       "      <td>11</td>\n",
       "      <td>1985.0</td>\n",
       "      <td>Platform</td>\n",
       "      <td>4</td>\n",
       "      <td>29.08</td>\n",
       "      <td>3.58</td>\n",
       "      <td>6.81</td>\n",
       "      <td>0.77</td>\n",
       "      <td>40.24</td>\n",
       "      <td>NaN</td>\n",
       "      <td>NaN</td>\n",
       "      <td>NaN</td>\n",
       "      <td>-1</td>\n",
       "    </tr>\n",
       "    <tr>\n",
       "      <th>2</th>\n",
       "      <td>Mario Kart Wii</td>\n",
       "      <td>Wii</td>\n",
       "      <td>26</td>\n",
       "      <td>2008.0</td>\n",
       "      <td>Racing</td>\n",
       "      <td>6</td>\n",
       "      <td>15.68</td>\n",
       "      <td>12.76</td>\n",
       "      <td>3.79</td>\n",
       "      <td>3.29</td>\n",
       "      <td>35.52</td>\n",
       "      <td>82.0</td>\n",
       "      <td>8.3</td>\n",
       "      <td>E</td>\n",
       "      <td>1</td>\n",
       "    </tr>\n",
       "    <tr>\n",
       "      <th>3</th>\n",
       "      <td>Wii Sports Resort</td>\n",
       "      <td>Wii</td>\n",
       "      <td>26</td>\n",
       "      <td>2009.0</td>\n",
       "      <td>Sports</td>\n",
       "      <td>10</td>\n",
       "      <td>15.61</td>\n",
       "      <td>10.93</td>\n",
       "      <td>3.28</td>\n",
       "      <td>2.95</td>\n",
       "      <td>32.77</td>\n",
       "      <td>80.0</td>\n",
       "      <td>8.0</td>\n",
       "      <td>E</td>\n",
       "      <td>1</td>\n",
       "    </tr>\n",
       "    <tr>\n",
       "      <th>4</th>\n",
       "      <td>Pokemon Red/Pokemon Blue</td>\n",
       "      <td>GB</td>\n",
       "      <td>5</td>\n",
       "      <td>1996.0</td>\n",
       "      <td>Role-Playing</td>\n",
       "      <td>7</td>\n",
       "      <td>11.27</td>\n",
       "      <td>8.89</td>\n",
       "      <td>10.22</td>\n",
       "      <td>1.00</td>\n",
       "      <td>31.38</td>\n",
       "      <td>NaN</td>\n",
       "      <td>NaN</td>\n",
       "      <td>NaN</td>\n",
       "      <td>-1</td>\n",
       "    </tr>\n",
       "  </tbody>\n",
       "</table>\n",
       "</div>"
      ],
      "text/plain": [
       "                       name platform  platform_id  year_of_release  \\\n",
       "0                Wii Sports      Wii           26           2006.0   \n",
       "1         Super Mario Bros.      NES           11           1985.0   \n",
       "2            Mario Kart Wii      Wii           26           2008.0   \n",
       "3         Wii Sports Resort      Wii           26           2009.0   \n",
       "4  Pokemon Red/Pokemon Blue       GB            5           1996.0   \n",
       "\n",
       "          genre  genre_id  na_sales  eu_sales  jp_sales  other_sales  \\\n",
       "0        Sports        10     41.36     28.96      3.77         8.45   \n",
       "1      Platform         4     29.08      3.58      6.81         0.77   \n",
       "2        Racing         6     15.68     12.76      3.79         3.29   \n",
       "3        Sports        10     15.61     10.93      3.28         2.95   \n",
       "4  Role-Playing         7     11.27      8.89     10.22         1.00   \n",
       "\n",
       "   total_sales  critic_score  user_score rating  rating_id  \n",
       "0        82.54          76.0         8.0      E          1  \n",
       "1        40.24           NaN         NaN    NaN         -1  \n",
       "2        35.52          82.0         8.3      E          1  \n",
       "3        32.77          80.0         8.0      E          1  \n",
       "4        31.38           NaN         NaN    NaN         -1  "
      ]
     },
     "execution_count": 94,
     "metadata": {},
     "output_type": "execute_result"
    }
   ],
   "source": [
    "# Adding the values of the columns of sales by region to generate 'total_sales'\n",
    "\n",
    "df['total_sales'] = df['na_sales'] + df['eu_sales'] + df['jp_sales'] + df['other_sales']\n",
    "\n",
    "# Rearranging the columns\n",
    "df = df[['name', 'platform', 'platform_id', 'year_of_release', 'genre', 'genre_id', 'na_sales', 'eu_sales', 'jp_sales', 'other_sales', 'total_sales', 'critic_score', 'user_score', 'rating', 'rating_id']]\n",
    "\n",
    "\n",
    "# Checking the new column\n",
    "df.head()"
   ]
  },
  {
   "cell_type": "markdown",
   "metadata": {},
   "source": [
    "## Handling missing values <a id='missing'></a>"
   ]
  },
  {
   "cell_type": "markdown",
   "metadata": {},
   "source": [
    "We will analyze missing values paying attention to each column, as some have different data types and in each one there may be different reasons why they happened.\n",
    "\n",
    "At first, let's confirm the number of null values in each column and use the `heatmap` viewer from the `seaborn` library to show the presence of NaN values:"
   ]
  },
  {
   "cell_type": "code",
   "execution_count": 95,
   "metadata": {},
   "outputs": [
    {
     "data": {
      "text/plain": [
       "name                  2\n",
       "platform              0\n",
       "platform_id           0\n",
       "year_of_release     269\n",
       "genre                 2\n",
       "genre_id              0\n",
       "na_sales              0\n",
       "eu_sales              0\n",
       "jp_sales              0\n",
       "other_sales           0\n",
       "total_sales           0\n",
       "critic_score       8578\n",
       "user_score         9125\n",
       "rating             6766\n",
       "rating_id             0\n",
       "dtype: int64"
      ]
     },
     "execution_count": 95,
     "metadata": {},
     "output_type": "execute_result"
    }
   ],
   "source": [
    "# Summing the null values per column\n",
    "\n",
    "df.isnull().sum()"
   ]
  },
  {
   "cell_type": "code",
   "execution_count": 96,
   "metadata": {},
   "outputs": [
    {
     "data": {
      "image/png": "[encoded data removed]",
      "text/plain": [
       "<Figure size 432x288 with 2 Axes>"
      ]
     },
     "metadata": {
      "needs_background": "light"
     },
     "output_type": "display_data"
    }
   ],
   "source": [
    "# Visualizing the presence of NaN values by the dataframe\n",
    "\n",
    "sns.heatmap(df.isnull())\n",
    "plt.show()"
   ]
  },
  {
   "cell_type": "markdown",
   "metadata": {},
   "source": [
    "For now, we can see that:\n",
    "\n",
    "- Most of the missing data is found in columns of numerical values (this can facilitate our work with analysis and filling);\n",
    "\n",
    "\n",
    "- The `critic_score` column is where more data is missing, less than half of the column is filled;\n",
    "\n",
    "\n",
    "- `name` and `genre` can be more easily parsed and handled, as they only have 2 NaN values."
   ]
  },
  {
   "cell_type": "markdown",
   "metadata": {},
   "source": [
    "[Back to Index](#back)"
   ]
  },
  {
   "cell_type": "markdown",
   "metadata": {},
   "source": [
    "### Missing values in column `name` <a id='missing_name'></a>"
   ]
  },
  {
   "cell_type": "code",
   "execution_count": 97,
   "metadata": {},
   "outputs": [
    {
     "data": {
      "text/html": [
       "<div>\n",
       "<style scoped>\n",
       "    .dataframe tbody tr th:only-of-type {\n",
       "        vertical-align: middle;\n",
       "    }\n",
       "\n",
       "    .dataframe tbody tr th {\n",
       "        vertical-align: top;\n",
       "    }\n",
       "\n",
       "    .dataframe thead th {\n",
       "        text-align: right;\n",
       "    }\n",
       "</style>\n",
       "<table border=\"1\" class=\"dataframe\">\n",
       "  <thead>\n",
       "    <tr style=\"text-align: right;\">\n",
       "      <th></th>\n",
       "      <th>name</th>\n",
       "      <th>platform</th>\n",
       "      <th>platform_id</th>\n",
       "      <th>year_of_release</th>\n",
       "      <th>genre</th>\n",
       "      <th>genre_id</th>\n",
       "      <th>na_sales</th>\n",
       "      <th>eu_sales</th>\n",
       "      <th>jp_sales</th>\n",
       "      <th>other_sales</th>\n",
       "      <th>total_sales</th>\n",
       "      <th>critic_score</th>\n",
       "      <th>user_score</th>\n",
       "      <th>rating</th>\n",
       "      <th>rating_id</th>\n",
       "    </tr>\n",
       "  </thead>\n",
       "  <tbody>\n",
       "    <tr>\n",
       "      <th>659</th>\n",
       "      <td>NaN</td>\n",
       "      <td>GEN</td>\n",
       "      <td>8</td>\n",
       "      <td>1993.0</td>\n",
       "      <td>NaN</td>\n",
       "      <td>-1</td>\n",
       "      <td>1.78</td>\n",
       "      <td>0.53</td>\n",
       "      <td>0.00</td>\n",
       "      <td>0.08</td>\n",
       "      <td>2.39</td>\n",
       "      <td>NaN</td>\n",
       "      <td>NaN</td>\n",
       "      <td>NaN</td>\n",
       "      <td>-1</td>\n",
       "    </tr>\n",
       "    <tr>\n",
       "      <th>14244</th>\n",
       "      <td>NaN</td>\n",
       "      <td>GEN</td>\n",
       "      <td>8</td>\n",
       "      <td>1993.0</td>\n",
       "      <td>NaN</td>\n",
       "      <td>-1</td>\n",
       "      <td>0.00</td>\n",
       "      <td>0.00</td>\n",
       "      <td>0.03</td>\n",
       "      <td>0.00</td>\n",
       "      <td>0.03</td>\n",
       "      <td>NaN</td>\n",
       "      <td>NaN</td>\n",
       "      <td>NaN</td>\n",
       "      <td>-1</td>\n",
       "    </tr>\n",
       "  </tbody>\n",
       "</table>\n",
       "</div>"
      ],
      "text/plain": [
       "      name platform  platform_id  year_of_release genre  genre_id  na_sales  \\\n",
       "659    NaN      GEN            8           1993.0   NaN        -1      1.78   \n",
       "14244  NaN      GEN            8           1993.0   NaN        -1      0.00   \n",
       "\n",
       "       eu_sales  jp_sales  other_sales  total_sales  critic_score  user_score  \\\n",
       "659        0.53      0.00         0.08         2.39           NaN         NaN   \n",
       "14244      0.00      0.03         0.00         0.03           NaN         NaN   \n",
       "\n",
       "      rating  rating_id  \n",
       "659      NaN         -1  \n",
       "14244    NaN         -1  "
      ]
     },
     "execution_count": 97,
     "metadata": {},
     "output_type": "execute_result"
    }
   ],
   "source": [
    "# Let's filter the data that appears without the name of the game\n",
    "\n",
    "df[df['name'].isnull()]"
   ]
  },
  {
   "cell_type": "markdown",
   "metadata": {},
   "source": [
    "In addition to being missing what is one of the most important data, these two rows, compared to the others, have unimpressive values in relation to sales and do not have reviews from critics or users. Let's remove both, reindex the *dataframe* and check the result of this action:"
   ]
  },
  {
   "cell_type": "code",
   "execution_count": 98,
   "metadata": {},
   "outputs": [
    {
     "data": {
      "text/plain": [
       "0"
      ]
     },
     "execution_count": 98,
     "metadata": {},
     "output_type": "execute_result"
    }
   ],
   "source": [
    "# Removing the rows with missing names, reindexing the remaining data and checking the result\n",
    "\n",
    "df = df.dropna(subset=['name']).reset_index(drop=True)\n",
    "\n",
    "df['name'].isnull().sum()"
   ]
  },
  {
   "cell_type": "markdown",
   "metadata": {},
   "source": [
    "[Back to Index](#back)"
   ]
  },
  {
   "cell_type": "markdown",
   "metadata": {},
   "source": [
    "### Missing values in column `genre is='missing genre'></a>"
   ]
  },
  {
   "cell_type": "code",
   "execution_count": 99,
   "metadata": {},
   "outputs": [
    {
     "data": {
      "text/html": [
       "<div>\n",
       "<style scoped>\n",
       "    .dataframe tbody tr th:only-of-type {\n",
       "        vertical-align: middle;\n",
       "    }\n",
       "\n",
       "    .dataframe tbody tr th {\n",
       "        vertical-align: top;\n",
       "    }\n",
       "\n",
       "    .dataframe thead th {\n",
       "        text-align: right;\n",
       "    }\n",
       "</style>\n",
       "<table border=\"1\" class=\"dataframe\">\n",
       "  <thead>\n",
       "    <tr style=\"text-align: right;\">\n",
       "      <th></th>\n",
       "      <th>name</th>\n",
       "      <th>platform</th>\n",
       "      <th>platform_id</th>\n",
       "      <th>year_of_release</th>\n",
       "      <th>genre</th>\n",
       "      <th>genre_id</th>\n",
       "      <th>na_sales</th>\n",
       "      <th>eu_sales</th>\n",
       "      <th>jp_sales</th>\n",
       "      <th>other_sales</th>\n",
       "      <th>total_sales</th>\n",
       "      <th>critic_score</th>\n",
       "      <th>user_score</th>\n",
       "      <th>rating</th>\n",
       "      <th>rating_id</th>\n",
       "    </tr>\n",
       "  </thead>\n",
       "  <tbody>\n",
       "  </tbody>\n",
       "</table>\n",
       "</div>"
      ],
      "text/plain": [
       "Empty DataFrame\n",
       "Columns: [name, platform, platform_id, year_of_release, genre, genre_id, na_sales, eu_sales, jp_sales, other_sales, total_sales, critic_score, user_score, rating, rating_id]\n",
       "Index: []"
      ]
     },
     "execution_count": 99,
     "metadata": {},
     "output_type": "execute_result"
    }
   ],
   "source": [
    "# Let's filter the data that appears without the game's genre\n",
    "\n",
    "df[df['genre'].isnull()]"
   ]
  },
  {
   "cell_type": "markdown",
   "metadata": {},
   "source": [
    "They don't exist anymore!\n",
    "\n",
    "Coincidentally, the rows with missing data in `genre` were the same ones that were missing in the `name` column.\n",
    "\n",
    "Let's go to the next ones."
   ]
  },
  {
   "cell_type": "markdown",
   "metadata": {},
   "source": [
    "[Back to Index](#back)"
   ]
  },
  {
   "cell_type": "markdown",
   "metadata": {},
   "source": [
    "### Missing values in column `year_of_release` <a id='missing_release'></a>"
   ]
  },
  {
   "cell_type": "code",
   "execution_count": 100,
   "metadata": {},
   "outputs": [
    {
     "name": "stdout",
     "output_type": "stream",
     "text": [
      "The number of missing values in column \"year_of_release\" is 269, which correspond to 1.6095255190570215% of data in column.\n"
     ]
    }
   ],
   "source": [
    "# Let's review how many NaN values we have in the 'year_of_release' column\n",
    "\n",
    "print('The number of missing values in column \"year_of_release\" is ' + str(df['year_of_release'].isnull().sum()) + ', which correspond to ' + (str((df['year_of_release' ].isnull().sum()) / len(df['year_of_release']) * 100)) + '% of data in column.')"
   ]
  },
  {
   "cell_type": "markdown",
   "metadata": {},
   "source": [
    "Considering the low percentage, let's remove the rows of null data about the release year:"
   ]
  },
  {
   "cell_type": "code",
   "execution_count": 101,
   "metadata": {},
   "outputs": [
    {
     "data": {
      "text/plain": [
       "0"
      ]
     },
     "execution_count": 101,
     "metadata": {},
     "output_type": "execute_result"
    }
   ],
   "source": [
    "# Removing NaN values, reindexing the remaining data and checking the result\n",
    "\n",
    "df = df.dropna(subset= ['year_of_release']).reset_index(drop=True)\n",
    "\n",
    "df['year_of_release'].isnull().sum()"
   ]
  },
  {
   "cell_type": "markdown",
   "metadata": {},
   "source": [
    "### Missing values in `critic_score` column <a id='missing_release'></a>"
   ]
  },
  {
   "cell_type": "code",
   "execution_count": 102,
   "metadata": {},
   "outputs": [
    {
     "name": "stdout",
     "output_type": "stream",
     "text": [
      "The number of missing values in column \"critic_score\" is 8461, which correspond to 51.453417659936754% of data in column.\n"
     ]
    }
   ],
   "source": [
    "# Let's review how many NaN values we have in the 'critic_score' column\n",
    "\n",
    "print('The number of missing values in column \"critic_score\" is ' + str(df['critic_score'].isnull().sum()) + ', which correspond to ' + (str((df['critic_score' ].isnull().sum()) / len(df['critic_score']) * 100)) + '% of data in column.')"
   ]
  },
  {
   "cell_type": "markdown",
   "metadata": {},
   "source": [
    "As the percentage of NaN values in the `critic_score` column is quite significant, we will need to analyze carefully before making any decisions.\n",
    "\n",
    "Let's look at some rows with this data to see if we have any idea how to proceed:"
   ]
  },
  {
   "cell_type": "code",
   "execution_count": 103,
   "metadata": {
    "scrolled": false
   },
   "outputs": [
    {
     "data": {
      "text/html": [
       "<div>\n",
       "<style scoped>\n",
       "    .dataframe tbody tr th:only-of-type {\n",
       "        vertical-align: middle;\n",
       "    }\n",
       "\n",
       "    .dataframe tbody tr th {\n",
       "        vertical-align: top;\n",
       "    }\n",
       "\n",
       "    .dataframe thead th {\n",
       "        text-align: right;\n",
       "    }\n",
       "</style>\n",
       "<table border=\"1\" class=\"dataframe\">\n",
       "  <thead>\n",
       "    <tr style=\"text-align: right;\">\n",
       "      <th></th>\n",
       "      <th>name</th>\n",
       "      <th>platform</th>\n",
       "      <th>platform_id</th>\n",
       "      <th>year_of_release</th>\n",
       "      <th>genre</th>\n",
       "      <th>genre_id</th>\n",
       "      <th>na_sales</th>\n",
       "      <th>eu_sales</th>\n",
       "      <th>jp_sales</th>\n",
       "      <th>other_sales</th>\n",
       "      <th>total_sales</th>\n",
       "      <th>critic_score</th>\n",
       "      <th>user_score</th>\n",
       "      <th>rating</th>\n",
       "      <th>rating_id</th>\n",
       "    </tr>\n",
       "  </thead>\n",
       "  <tbody>\n",
       "    <tr>\n",
       "      <th>1</th>\n",
       "      <td>Super Mario Bros.</td>\n",
       "      <td>NES</td>\n",
       "      <td>11</td>\n",
       "      <td>1985.0</td>\n",
       "      <td>Platform</td>\n",
       "      <td>4</td>\n",
       "      <td>29.08</td>\n",
       "      <td>3.58</td>\n",
       "      <td>6.81</td>\n",
       "      <td>0.77</td>\n",
       "      <td>40.24</td>\n",
       "      <td>NaN</td>\n",
       "      <td>NaN</td>\n",
       "      <td>NaN</td>\n",
       "      <td>-1</td>\n",
       "    </tr>\n",
       "    <tr>\n",
       "      <th>4</th>\n",
       "      <td>Pokemon Red/Pokemon Blue</td>\n",
       "      <td>GB</td>\n",
       "      <td>5</td>\n",
       "      <td>1996.0</td>\n",
       "      <td>Role-Playing</td>\n",
       "      <td>7</td>\n",
       "      <td>11.27</td>\n",
       "      <td>8.89</td>\n",
       "      <td>10.22</td>\n",
       "      <td>1.00</td>\n",
       "      <td>31.38</td>\n",
       "      <td>NaN</td>\n",
       "      <td>NaN</td>\n",
       "      <td>NaN</td>\n",
       "      <td>-1</td>\n",
       "    </tr>\n",
       "    <tr>\n",
       "      <th>5</th>\n",
       "      <td>Tetris</td>\n",
       "      <td>GB</td>\n",
       "      <td>5</td>\n",
       "      <td>1989.0</td>\n",
       "      <td>Puzzle</td>\n",
       "      <td>5</td>\n",
       "      <td>23.20</td>\n",
       "      <td>2.26</td>\n",
       "      <td>4.22</td>\n",
       "      <td>0.58</td>\n",
       "      <td>30.26</td>\n",
       "      <td>NaN</td>\n",
       "      <td>NaN</td>\n",
       "      <td>NaN</td>\n",
       "      <td>-1</td>\n",
       "    </tr>\n",
       "    <tr>\n",
       "      <th>9</th>\n",
       "      <td>Duck Hunt</td>\n",
       "      <td>NES</td>\n",
       "      <td>11</td>\n",
       "      <td>1984.0</td>\n",
       "      <td>Shooter</td>\n",
       "      <td>8</td>\n",
       "      <td>26.93</td>\n",
       "      <td>0.63</td>\n",
       "      <td>0.28</td>\n",
       "      <td>0.47</td>\n",
       "      <td>28.31</td>\n",
       "      <td>NaN</td>\n",
       "      <td>NaN</td>\n",
       "      <td>NaN</td>\n",
       "      <td>-1</td>\n",
       "    </tr>\n",
       "    <tr>\n",
       "      <th>10</th>\n",
       "      <td>Nintendogs</td>\n",
       "      <td>DS</td>\n",
       "      <td>4</td>\n",
       "      <td>2005.0</td>\n",
       "      <td>Simulation</td>\n",
       "      <td>9</td>\n",
       "      <td>9.05</td>\n",
       "      <td>10.95</td>\n",
       "      <td>1.93</td>\n",
       "      <td>2.74</td>\n",
       "      <td>24.67</td>\n",
       "      <td>NaN</td>\n",
       "      <td>NaN</td>\n",
       "      <td>NaN</td>\n",
       "      <td>-1</td>\n",
       "    </tr>\n",
       "    <tr>\n",
       "      <th>12</th>\n",
       "      <td>Pokemon Gold/Pokemon Silver</td>\n",
       "      <td>GB</td>\n",
       "      <td>5</td>\n",
       "      <td>1999.0</td>\n",
       "      <td>Role-Playing</td>\n",
       "      <td>7</td>\n",
       "      <td>9.00</td>\n",
       "      <td>6.18</td>\n",
       "      <td>7.20</td>\n",
       "      <td>0.71</td>\n",
       "      <td>23.09</td>\n",
       "      <td>NaN</td>\n",
       "      <td>NaN</td>\n",
       "      <td>NaN</td>\n",
       "      <td>-1</td>\n",
       "    </tr>\n",
       "    <tr>\n",
       "      <th>18</th>\n",
       "      <td>Super Mario World</td>\n",
       "      <td>SNES</td>\n",
       "      <td>23</td>\n",
       "      <td>1990.0</td>\n",
       "      <td>Platform</td>\n",
       "      <td>4</td>\n",
       "      <td>12.78</td>\n",
       "      <td>3.75</td>\n",
       "      <td>3.54</td>\n",
       "      <td>0.55</td>\n",
       "      <td>20.62</td>\n",
       "      <td>NaN</td>\n",
       "      <td>NaN</td>\n",
       "      <td>NaN</td>\n",
       "      <td>-1</td>\n",
       "    </tr>\n",
       "    <tr>\n",
       "      <th>20</th>\n",
       "      <td>Pokemon Diamond/Pokemon Pearl</td>\n",
       "      <td>DS</td>\n",
       "      <td>4</td>\n",
       "      <td>2006.0</td>\n",
       "      <td>Role-Playing</td>\n",
       "      <td>7</td>\n",
       "      <td>6.38</td>\n",
       "      <td>4.46</td>\n",
       "      <td>6.04</td>\n",
       "      <td>1.36</td>\n",
       "      <td>18.24</td>\n",
       "      <td>NaN</td>\n",
       "      <td>NaN</td>\n",
       "      <td>NaN</td>\n",
       "      <td>-1</td>\n",
       "    </tr>\n",
       "    <tr>\n",
       "      <th>21</th>\n",
       "      <td>Super Mario Land</td>\n",
       "      <td>GB</td>\n",
       "      <td>5</td>\n",
       "      <td>1989.0</td>\n",
       "      <td>Platform</td>\n",
       "      <td>4</td>\n",
       "      <td>10.83</td>\n",
       "      <td>2.71</td>\n",
       "      <td>4.18</td>\n",
       "      <td>0.42</td>\n",
       "      <td>18.14</td>\n",
       "      <td>NaN</td>\n",
       "      <td>NaN</td>\n",
       "      <td>NaN</td>\n",
       "      <td>-1</td>\n",
       "    </tr>\n",
       "    <tr>\n",
       "      <th>22</th>\n",
       "      <td>Super Mario Bros. 3</td>\n",
       "      <td>NES</td>\n",
       "      <td>11</td>\n",
       "      <td>1988.0</td>\n",
       "      <td>Platform</td>\n",
       "      <td>4</td>\n",
       "      <td>9.54</td>\n",
       "      <td>3.44</td>\n",
       "      <td>3.84</td>\n",
       "      <td>0.46</td>\n",
       "      <td>17.28</td>\n",
       "      <td>NaN</td>\n",
       "      <td>NaN</td>\n",
       "      <td>NaN</td>\n",
       "      <td>-1</td>\n",
       "    </tr>\n",
       "    <tr>\n",
       "      <th>25</th>\n",
       "      <td>Pokemon Ruby/Pokemon Sapphire</td>\n",
       "      <td>GBA</td>\n",
       "      <td>6</td>\n",
       "      <td>2002.0</td>\n",
       "      <td>Role-Playing</td>\n",
       "      <td>7</td>\n",
       "      <td>6.06</td>\n",
       "      <td>3.90</td>\n",
       "      <td>5.38</td>\n",
       "      <td>0.50</td>\n",
       "      <td>15.84</td>\n",
       "      <td>NaN</td>\n",
       "      <td>NaN</td>\n",
       "      <td>NaN</td>\n",
       "      <td>-1</td>\n",
       "    </tr>\n",
       "    <tr>\n",
       "      <th>27</th>\n",
       "      <td>Pokemon Black/Pokemon White</td>\n",
       "      <td>DS</td>\n",
       "      <td>4</td>\n",
       "      <td>2010.0</td>\n",
       "      <td>Role-Playing</td>\n",
       "      <td>7</td>\n",
       "      <td>5.51</td>\n",
       "      <td>3.17</td>\n",
       "      <td>5.65</td>\n",
       "      <td>0.80</td>\n",
       "      <td>15.13</td>\n",
       "      <td>NaN</td>\n",
       "      <td>NaN</td>\n",
       "      <td>NaN</td>\n",
       "      <td>-1</td>\n",
       "    </tr>\n",
       "    <tr>\n",
       "      <th>30</th>\n",
       "      <td>Pokémon Yellow: Special Pikachu Edition</td>\n",
       "      <td>GB</td>\n",
       "      <td>5</td>\n",
       "      <td>1998.0</td>\n",
       "      <td>Role-Playing</td>\n",
       "      <td>7</td>\n",
       "      <td>5.89</td>\n",
       "      <td>5.04</td>\n",
       "      <td>3.12</td>\n",
       "      <td>0.59</td>\n",
       "      <td>14.64</td>\n",
       "      <td>NaN</td>\n",
       "      <td>NaN</td>\n",
       "      <td>NaN</td>\n",
       "      <td>-1</td>\n",
       "    </tr>\n",
       "    <tr>\n",
       "      <th>31</th>\n",
       "      <td>Call of Duty: Black Ops 3</td>\n",
       "      <td>PS4</td>\n",
       "      <td>18</td>\n",
       "      <td>2015.0</td>\n",
       "      <td>Shooter</td>\n",
       "      <td>8</td>\n",
       "      <td>6.03</td>\n",
       "      <td>5.86</td>\n",
       "      <td>0.36</td>\n",
       "      <td>2.38</td>\n",
       "      <td>14.63</td>\n",
       "      <td>NaN</td>\n",
       "      <td>NaN</td>\n",
       "      <td>NaN</td>\n",
       "      <td>-1</td>\n",
       "    </tr>\n",
       "    <tr>\n",
       "      <th>33</th>\n",
       "      <td>Pokemon X/Pokemon Y</td>\n",
       "      <td>3DS</td>\n",
       "      <td>2</td>\n",
       "      <td>2013.0</td>\n",
       "      <td>Role-Playing</td>\n",
       "      <td>7</td>\n",
       "      <td>5.28</td>\n",
       "      <td>4.19</td>\n",
       "      <td>4.35</td>\n",
       "      <td>0.78</td>\n",
       "      <td>14.60</td>\n",
       "      <td>NaN</td>\n",
       "      <td>NaN</td>\n",
       "      <td>NaN</td>\n",
       "      <td>-1</td>\n",
       "    </tr>\n",
       "    <tr>\n",
       "      <th>45</th>\n",
       "      <td>Super Mario 64</td>\n",
       "      <td>N64</td>\n",
       "      <td>10</td>\n",
       "      <td>1996.0</td>\n",
       "      <td>Platform</td>\n",
       "      <td>4</td>\n",
       "      <td>6.91</td>\n",
       "      <td>2.85</td>\n",
       "      <td>1.91</td>\n",
       "      <td>0.23</td>\n",
       "      <td>11.90</td>\n",
       "      <td>NaN</td>\n",
       "      <td>NaN</td>\n",
       "      <td>NaN</td>\n",
       "      <td>-1</td>\n",
       "    </tr>\n",
       "    <tr>\n",
       "      <th>46</th>\n",
       "      <td>Pokemon HeartGold/Pokemon SoulSilver</td>\n",
       "      <td>DS</td>\n",
       "      <td>4</td>\n",
       "      <td>2009.0</td>\n",
       "      <td>Action</td>\n",
       "      <td>0</td>\n",
       "      <td>4.34</td>\n",
       "      <td>2.71</td>\n",
       "      <td>3.96</td>\n",
       "      <td>0.76</td>\n",
       "      <td>11.77</td>\n",
       "      <td>NaN</td>\n",
       "      <td>NaN</td>\n",
       "      <td>NaN</td>\n",
       "      <td>-1</td>\n",
       "    </tr>\n",
       "    <tr>\n",
       "      <th>47</th>\n",
       "      <td>Pokemon Omega Ruby/Pokemon Alpha Sapphire</td>\n",
       "      <td>3DS</td>\n",
       "      <td>2</td>\n",
       "      <td>2014.0</td>\n",
       "      <td>Role-Playing</td>\n",
       "      <td>7</td>\n",
       "      <td>4.35</td>\n",
       "      <td>3.49</td>\n",
       "      <td>3.10</td>\n",
       "      <td>0.74</td>\n",
       "      <td>11.68</td>\n",
       "      <td>NaN</td>\n",
       "      <td>NaN</td>\n",
       "      <td>NaN</td>\n",
       "      <td>-1</td>\n",
       "    </tr>\n",
       "    <tr>\n",
       "      <th>50</th>\n",
       "      <td>Super Mario Land 2: 6 Golden Coins</td>\n",
       "      <td>GB</td>\n",
       "      <td>5</td>\n",
       "      <td>1992.0</td>\n",
       "      <td>Adventure</td>\n",
       "      <td>1</td>\n",
       "      <td>6.16</td>\n",
       "      <td>2.04</td>\n",
       "      <td>2.69</td>\n",
       "      <td>0.29</td>\n",
       "      <td>11.18</td>\n",
       "      <td>NaN</td>\n",
       "      <td>NaN</td>\n",
       "      <td>NaN</td>\n",
       "      <td>-1</td>\n",
       "    </tr>\n",
       "    <tr>\n",
       "      <th>56</th>\n",
       "      <td>Super Mario All-Stars</td>\n",
       "      <td>SNES</td>\n",
       "      <td>23</td>\n",
       "      <td>1993.0</td>\n",
       "      <td>Platform</td>\n",
       "      <td>4</td>\n",
       "      <td>5.99</td>\n",
       "      <td>2.15</td>\n",
       "      <td>2.12</td>\n",
       "      <td>0.29</td>\n",
       "      <td>10.55</td>\n",
       "      <td>NaN</td>\n",
       "      <td>NaN</td>\n",
       "      <td>NaN</td>\n",
       "      <td>-1</td>\n",
       "    </tr>\n",
       "    <tr>\n",
       "      <th>58</th>\n",
       "      <td>Pokemon FireRed/Pokemon LeafGreen</td>\n",
       "      <td>GBA</td>\n",
       "      <td>6</td>\n",
       "      <td>2004.0</td>\n",
       "      <td>Role-Playing</td>\n",
       "      <td>7</td>\n",
       "      <td>4.34</td>\n",
       "      <td>2.65</td>\n",
       "      <td>3.15</td>\n",
       "      <td>0.35</td>\n",
       "      <td>10.49</td>\n",
       "      <td>NaN</td>\n",
       "      <td>NaN</td>\n",
       "      <td>NaN</td>\n",
       "      <td>-1</td>\n",
       "    </tr>\n",
       "    <tr>\n",
       "      <th>59</th>\n",
       "      <td>Super Mario 64</td>\n",
       "      <td>DS</td>\n",
       "      <td>4</td>\n",
       "      <td>2004.0</td>\n",
       "      <td>Platform</td>\n",
       "      <td>4</td>\n",
       "      <td>5.01</td>\n",
       "      <td>3.07</td>\n",
       "      <td>1.25</td>\n",
       "      <td>0.97</td>\n",
       "      <td>10.30</td>\n",
       "      <td>NaN</td>\n",
       "      <td>NaN</td>\n",
       "      <td>NaN</td>\n",
       "      <td>-1</td>\n",
       "    </tr>\n",
       "    <tr>\n",
       "      <th>63</th>\n",
       "      <td>Mario Kart 64</td>\n",
       "      <td>N64</td>\n",
       "      <td>10</td>\n",
       "      <td>1996.0</td>\n",
       "      <td>Racing</td>\n",
       "      <td>6</td>\n",
       "      <td>5.55</td>\n",
       "      <td>1.94</td>\n",
       "      <td>2.23</td>\n",
       "      <td>0.15</td>\n",
       "      <td>9.87</td>\n",
       "      <td>NaN</td>\n",
       "      <td>NaN</td>\n",
       "      <td>NaN</td>\n",
       "      <td>-1</td>\n",
       "    </tr>\n",
       "    <tr>\n",
       "      <th>71</th>\n",
       "      <td>Donkey Kong Country</td>\n",
       "      <td>SNES</td>\n",
       "      <td>23</td>\n",
       "      <td>1994.0</td>\n",
       "      <td>Platform</td>\n",
       "      <td>4</td>\n",
       "      <td>4.36</td>\n",
       "      <td>1.71</td>\n",
       "      <td>3.00</td>\n",
       "      <td>0.23</td>\n",
       "      <td>9.30</td>\n",
       "      <td>NaN</td>\n",
       "      <td>NaN</td>\n",
       "      <td>NaN</td>\n",
       "      <td>-1</td>\n",
       "    </tr>\n",
       "    <tr>\n",
       "      <th>72</th>\n",
       "      <td>Minecraft</td>\n",
       "      <td>X360</td>\n",
       "      <td>28</td>\n",
       "      <td>2013.0</td>\n",
       "      <td>Misc</td>\n",
       "      <td>3</td>\n",
       "      <td>5.70</td>\n",
       "      <td>2.65</td>\n",
       "      <td>0.02</td>\n",
       "      <td>0.81</td>\n",
       "      <td>9.18</td>\n",
       "      <td>NaN</td>\n",
       "      <td>NaN</td>\n",
       "      <td>NaN</td>\n",
       "      <td>-1</td>\n",
       "    </tr>\n",
       "    <tr>\n",
       "      <th>76</th>\n",
       "      <td>Super Mario Kart</td>\n",
       "      <td>SNES</td>\n",
       "      <td>23</td>\n",
       "      <td>1992.0</td>\n",
       "      <td>Racing</td>\n",
       "      <td>6</td>\n",
       "      <td>3.54</td>\n",
       "      <td>1.24</td>\n",
       "      <td>3.81</td>\n",
       "      <td>0.18</td>\n",
       "      <td>8.77</td>\n",
       "      <td>NaN</td>\n",
       "      <td>NaN</td>\n",
       "      <td>NaN</td>\n",
       "      <td>-1</td>\n",
       "    </tr>\n",
       "    <tr>\n",
       "      <th>82</th>\n",
       "      <td>GoldenEye 007</td>\n",
       "      <td>N64</td>\n",
       "      <td>10</td>\n",
       "      <td>1997.0</td>\n",
       "      <td>Shooter</td>\n",
       "      <td>8</td>\n",
       "      <td>5.80</td>\n",
       "      <td>2.01</td>\n",
       "      <td>0.13</td>\n",
       "      <td>0.15</td>\n",
       "      <td>8.09</td>\n",
       "      <td>NaN</td>\n",
       "      <td>NaN</td>\n",
       "      <td>NaN</td>\n",
       "      <td>-1</td>\n",
       "    </tr>\n",
       "    <tr>\n",
       "      <th>83</th>\n",
       "      <td>Pokemon Black 2/Pokemon White 2</td>\n",
       "      <td>DS</td>\n",
       "      <td>4</td>\n",
       "      <td>2012.0</td>\n",
       "      <td>Role-Playing</td>\n",
       "      <td>7</td>\n",
       "      <td>2.79</td>\n",
       "      <td>1.72</td>\n",
       "      <td>3.14</td>\n",
       "      <td>0.41</td>\n",
       "      <td>8.06</td>\n",
       "      <td>NaN</td>\n",
       "      <td>NaN</td>\n",
       "      <td>NaN</td>\n",
       "      <td>-1</td>\n",
       "    </tr>\n",
       "    <tr>\n",
       "      <th>86</th>\n",
       "      <td>Mario &amp; Sonic at the Olympic Games</td>\n",
       "      <td>Wii</td>\n",
       "      <td>26</td>\n",
       "      <td>2007.0</td>\n",
       "      <td>Sports</td>\n",
       "      <td>10</td>\n",
       "      <td>2.57</td>\n",
       "      <td>3.86</td>\n",
       "      <td>0.66</td>\n",
       "      <td>0.91</td>\n",
       "      <td>8.00</td>\n",
       "      <td>NaN</td>\n",
       "      <td>NaN</td>\n",
       "      <td>NaN</td>\n",
       "      <td>-1</td>\n",
       "    </tr>\n",
       "    <tr>\n",
       "      <th>87</th>\n",
       "      <td>Star Wars Battlefront (2015)</td>\n",
       "      <td>PS4</td>\n",
       "      <td>18</td>\n",
       "      <td>2015.0</td>\n",
       "      <td>Shooter</td>\n",
       "      <td>8</td>\n",
       "      <td>2.99</td>\n",
       "      <td>3.49</td>\n",
       "      <td>0.22</td>\n",
       "      <td>1.28</td>\n",
       "      <td>7.98</td>\n",
       "      <td>NaN</td>\n",
       "      <td>NaN</td>\n",
       "      <td>NaN</td>\n",
       "      <td>-1</td>\n",
       "    </tr>\n",
       "    <tr>\n",
       "      <th>89</th>\n",
       "      <td>Pac-Man</td>\n",
       "      <td>2600</td>\n",
       "      <td>0</td>\n",
       "      <td>1982.0</td>\n",
       "      <td>Puzzle</td>\n",
       "      <td>5</td>\n",
       "      <td>7.28</td>\n",
       "      <td>0.45</td>\n",
       "      <td>0.00</td>\n",
       "      <td>0.08</td>\n",
       "      <td>7.81</td>\n",
       "      <td>NaN</td>\n",
       "      <td>NaN</td>\n",
       "      <td>NaN</td>\n",
       "      <td>-1</td>\n",
       "    </tr>\n",
       "    <tr>\n",
       "      <th>93</th>\n",
       "      <td>The Legend of Zelda: Ocarina of Time</td>\n",
       "      <td>N64</td>\n",
       "      <td>10</td>\n",
       "      <td>1998.0</td>\n",
       "      <td>Action</td>\n",
       "      <td>0</td>\n",
       "      <td>4.10</td>\n",
       "      <td>1.89</td>\n",
       "      <td>1.45</td>\n",
       "      <td>0.16</td>\n",
       "      <td>7.60</td>\n",
       "      <td>NaN</td>\n",
       "      <td>NaN</td>\n",
       "      <td>NaN</td>\n",
       "      <td>-1</td>\n",
       "    </tr>\n",
       "    <tr>\n",
       "      <th>95</th>\n",
       "      <td>Crash Bandicoot 2: Cortex Strikes Back</td>\n",
       "      <td>PS</td>\n",
       "      <td>15</td>\n",
       "      <td>1997.0</td>\n",
       "      <td>Platform</td>\n",
       "      <td>4</td>\n",
       "      <td>3.78</td>\n",
       "      <td>2.17</td>\n",
       "      <td>1.31</td>\n",
       "      <td>0.31</td>\n",
       "      <td>7.57</td>\n",
       "      <td>NaN</td>\n",
       "      <td>NaN</td>\n",
       "      <td>NaN</td>\n",
       "      <td>-1</td>\n",
       "    </tr>\n",
       "    <tr>\n",
       "      <th>96</th>\n",
       "      <td>Super Smash Bros. for Wii U and 3DS</td>\n",
       "      <td>3DS</td>\n",
       "      <td>2</td>\n",
       "      <td>2014.0</td>\n",
       "      <td>Fighting</td>\n",
       "      <td>2</td>\n",
       "      <td>3.27</td>\n",
       "      <td>1.37</td>\n",
       "      <td>2.43</td>\n",
       "      <td>0.48</td>\n",
       "      <td>7.55</td>\n",
       "      <td>NaN</td>\n",
       "      <td>NaN</td>\n",
       "      <td>NaN</td>\n",
       "      <td>-1</td>\n",
       "    </tr>\n",
       "    <tr>\n",
       "      <th>98</th>\n",
       "      <td>Super Mario Bros. 2</td>\n",
       "      <td>NES</td>\n",
       "      <td>11</td>\n",
       "      <td>1988.0</td>\n",
       "      <td>Platform</td>\n",
       "      <td>4</td>\n",
       "      <td>5.39</td>\n",
       "      <td>1.18</td>\n",
       "      <td>0.70</td>\n",
       "      <td>0.19</td>\n",
       "      <td>7.46</td>\n",
       "      <td>NaN</td>\n",
       "      <td>NaN</td>\n",
       "      <td>NaN</td>\n",
       "      <td>-1</td>\n",
       "    </tr>\n",
       "    <tr>\n",
       "      <th>99</th>\n",
       "      <td>Call of Duty: Black Ops 3</td>\n",
       "      <td>XOne</td>\n",
       "      <td>30</td>\n",
       "      <td>2015.0</td>\n",
       "      <td>Shooter</td>\n",
       "      <td>8</td>\n",
       "      <td>4.59</td>\n",
       "      <td>2.11</td>\n",
       "      <td>0.01</td>\n",
       "      <td>0.68</td>\n",
       "      <td>7.39</td>\n",
       "      <td>NaN</td>\n",
       "      <td>NaN</td>\n",
       "      <td>NaN</td>\n",
       "      <td>-1</td>\n",
       "    </tr>\n",
       "    <tr>\n",
       "      <th>108</th>\n",
       "      <td>Pokemon Sun/Moon</td>\n",
       "      <td>3DS</td>\n",
       "      <td>2</td>\n",
       "      <td>2016.0</td>\n",
       "      <td>Role-Playing</td>\n",
       "      <td>7</td>\n",
       "      <td>2.98</td>\n",
       "      <td>1.45</td>\n",
       "      <td>2.26</td>\n",
       "      <td>0.45</td>\n",
       "      <td>7.14</td>\n",
       "      <td>NaN</td>\n",
       "      <td>NaN</td>\n",
       "      <td>NaN</td>\n",
       "      <td>-1</td>\n",
       "    </tr>\n",
       "    <tr>\n",
       "      <th>112</th>\n",
       "      <td>Mario Kart: Double Dash!!</td>\n",
       "      <td>GC</td>\n",
       "      <td>7</td>\n",
       "      <td>2003.0</td>\n",
       "      <td>Racing</td>\n",
       "      <td>6</td>\n",
       "      <td>4.12</td>\n",
       "      <td>1.77</td>\n",
       "      <td>0.87</td>\n",
       "      <td>0.19</td>\n",
       "      <td>6.95</td>\n",
       "      <td>NaN</td>\n",
       "      <td>NaN</td>\n",
       "      <td>NaN</td>\n",
       "      <td>-1</td>\n",
       "    </tr>\n",
       "    <tr>\n",
       "      <th>115</th>\n",
       "      <td>Crash Bandicoot</td>\n",
       "      <td>PS</td>\n",
       "      <td>15</td>\n",
       "      <td>1996.0</td>\n",
       "      <td>Platform</td>\n",
       "      <td>4</td>\n",
       "      <td>3.23</td>\n",
       "      <td>2.35</td>\n",
       "      <td>0.94</td>\n",
       "      <td>0.30</td>\n",
       "      <td>6.82</td>\n",
       "      <td>NaN</td>\n",
       "      <td>NaN</td>\n",
       "      <td>NaN</td>\n",
       "      <td>-1</td>\n",
       "    </tr>\n",
       "    <tr>\n",
       "      <th>119</th>\n",
       "      <td>Zumba Fitness</td>\n",
       "      <td>Wii</td>\n",
       "      <td>26</td>\n",
       "      <td>2010.0</td>\n",
       "      <td>Sports</td>\n",
       "      <td>10</td>\n",
       "      <td>3.45</td>\n",
       "      <td>2.59</td>\n",
       "      <td>0.00</td>\n",
       "      <td>0.66</td>\n",
       "      <td>6.70</td>\n",
       "      <td>NaN</td>\n",
       "      <td>NaN</td>\n",
       "      <td>E</td>\n",
       "      <td>1</td>\n",
       "    </tr>\n",
       "    <tr>\n",
       "      <th>122</th>\n",
       "      <td>FIFA 12</td>\n",
       "      <td>PS3</td>\n",
       "      <td>17</td>\n",
       "      <td>2011.0</td>\n",
       "      <td>Sports</td>\n",
       "      <td>10</td>\n",
       "      <td>0.84</td>\n",
       "      <td>4.30</td>\n",
       "      <td>0.11</td>\n",
       "      <td>1.39</td>\n",
       "      <td>6.64</td>\n",
       "      <td>NaN</td>\n",
       "      <td>NaN</td>\n",
       "      <td>NaN</td>\n",
       "      <td>-1</td>\n",
       "    </tr>\n",
       "    <tr>\n",
       "      <th>124</th>\n",
       "      <td>The Legend of Zelda</td>\n",
       "      <td>NES</td>\n",
       "      <td>11</td>\n",
       "      <td>1986.0</td>\n",
       "      <td>Action</td>\n",
       "      <td>0</td>\n",
       "      <td>3.74</td>\n",
       "      <td>0.93</td>\n",
       "      <td>1.69</td>\n",
       "      <td>0.14</td>\n",
       "      <td>6.50</td>\n",
       "      <td>NaN</td>\n",
       "      <td>NaN</td>\n",
       "      <td>NaN</td>\n",
       "      <td>-1</td>\n",
       "    </tr>\n",
       "    <tr>\n",
       "      <th>133</th>\n",
       "      <td>Pokémon Crystal Version</td>\n",
       "      <td>GB</td>\n",
       "      <td>5</td>\n",
       "      <td>2000.0</td>\n",
       "      <td>Role-Playing</td>\n",
       "      <td>7</td>\n",
       "      <td>2.55</td>\n",
       "      <td>1.56</td>\n",
       "      <td>1.29</td>\n",
       "      <td>0.99</td>\n",
       "      <td>6.39</td>\n",
       "      <td>NaN</td>\n",
       "      <td>NaN</td>\n",
       "      <td>NaN</td>\n",
       "      <td>-1</td>\n",
       "    </tr>\n",
       "    <tr>\n",
       "      <th>137</th>\n",
       "      <td>Street Fighter II: The World Warrior</td>\n",
       "      <td>SNES</td>\n",
       "      <td>23</td>\n",
       "      <td>1992.0</td>\n",
       "      <td>Fighting</td>\n",
       "      <td>2</td>\n",
       "      <td>2.47</td>\n",
       "      <td>0.83</td>\n",
       "      <td>2.87</td>\n",
       "      <td>0.12</td>\n",
       "      <td>6.29</td>\n",
       "      <td>NaN</td>\n",
       "      <td>NaN</td>\n",
       "      <td>NaN</td>\n",
       "      <td>-1</td>\n",
       "    </tr>\n",
       "    <tr>\n",
       "      <th>145</th>\n",
       "      <td>Sonic the Hedgehog 2</td>\n",
       "      <td>GEN</td>\n",
       "      <td>8</td>\n",
       "      <td>1992.0</td>\n",
       "      <td>Platform</td>\n",
       "      <td>4</td>\n",
       "      <td>4.47</td>\n",
       "      <td>1.20</td>\n",
       "      <td>0.16</td>\n",
       "      <td>0.19</td>\n",
       "      <td>6.02</td>\n",
       "      <td>NaN</td>\n",
       "      <td>NaN</td>\n",
       "      <td>NaN</td>\n",
       "      <td>-1</td>\n",
       "    </tr>\n",
       "    <tr>\n",
       "      <th>157</th>\n",
       "      <td>Tetris</td>\n",
       "      <td>NES</td>\n",
       "      <td>11</td>\n",
       "      <td>1988.0</td>\n",
       "      <td>Puzzle</td>\n",
       "      <td>5</td>\n",
       "      <td>2.97</td>\n",
       "      <td>0.69</td>\n",
       "      <td>1.81</td>\n",
       "      <td>0.11</td>\n",
       "      <td>5.58</td>\n",
       "      <td>NaN</td>\n",
       "      <td>NaN</td>\n",
       "      <td>NaN</td>\n",
       "      <td>-1</td>\n",
       "    </tr>\n",
       "    <tr>\n",
       "      <th>158</th>\n",
       "      <td>Super Smash Bros.</td>\n",
       "      <td>N64</td>\n",
       "      <td>10</td>\n",
       "      <td>1999.0</td>\n",
       "      <td>Fighting</td>\n",
       "      <td>2</td>\n",
       "      <td>2.95</td>\n",
       "      <td>0.60</td>\n",
       "      <td>1.97</td>\n",
       "      <td>0.04</td>\n",
       "      <td>5.56</td>\n",
       "      <td>NaN</td>\n",
       "      <td>NaN</td>\n",
       "      <td>NaN</td>\n",
       "      <td>-1</td>\n",
       "    </tr>\n",
       "    <tr>\n",
       "      <th>167</th>\n",
       "      <td>Super Mario World</td>\n",
       "      <td>GBA</td>\n",
       "      <td>6</td>\n",
       "      <td>2001.0</td>\n",
       "      <td>Platform</td>\n",
       "      <td>4</td>\n",
       "      <td>3.21</td>\n",
       "      <td>1.11</td>\n",
       "      <td>0.95</td>\n",
       "      <td>0.20</td>\n",
       "      <td>5.47</td>\n",
       "      <td>NaN</td>\n",
       "      <td>NaN</td>\n",
       "      <td>NaN</td>\n",
       "      <td>-1</td>\n",
       "    </tr>\n",
       "    <tr>\n",
       "      <th>168</th>\n",
       "      <td>Pokemon Stadium</td>\n",
       "      <td>N64</td>\n",
       "      <td>10</td>\n",
       "      <td>1999.0</td>\n",
       "      <td>Strategy</td>\n",
       "      <td>11</td>\n",
       "      <td>3.18</td>\n",
       "      <td>1.24</td>\n",
       "      <td>0.94</td>\n",
       "      <td>0.09</td>\n",
       "      <td>5.45</td>\n",
       "      <td>NaN</td>\n",
       "      <td>NaN</td>\n",
       "      <td>NaN</td>\n",
       "      <td>-1</td>\n",
       "    </tr>\n",
       "    <tr>\n",
       "      <th>172</th>\n",
       "      <td>Dr. Mario</td>\n",
       "      <td>GB</td>\n",
       "      <td>5</td>\n",
       "      <td>1989.0</td>\n",
       "      <td>Puzzle</td>\n",
       "      <td>5</td>\n",
       "      <td>2.18</td>\n",
       "      <td>0.96</td>\n",
       "      <td>2.00</td>\n",
       "      <td>0.20</td>\n",
       "      <td>5.34</td>\n",
       "      <td>NaN</td>\n",
       "      <td>NaN</td>\n",
       "      <td>NaN</td>\n",
       "      <td>-1</td>\n",
       "    </tr>\n",
       "    <tr>\n",
       "      <th>174</th>\n",
       "      <td>Pokemon Pinball</td>\n",
       "      <td>GB</td>\n",
       "      <td>5</td>\n",
       "      <td>1999.0</td>\n",
       "      <td>Misc</td>\n",
       "      <td>3</td>\n",
       "      <td>3.02</td>\n",
       "      <td>1.12</td>\n",
       "      <td>1.01</td>\n",
       "      <td>0.16</td>\n",
       "      <td>5.31</td>\n",
       "      <td>NaN</td>\n",
       "      <td>NaN</td>\n",
       "      <td>NaN</td>\n",
       "      <td>-1</td>\n",
       "    </tr>\n",
       "    <tr>\n",
       "      <th>178</th>\n",
       "      <td>Donkey Kong 64</td>\n",
       "      <td>N64</td>\n",
       "      <td>10</td>\n",
       "      <td>1999.0</td>\n",
       "      <td>Platform</td>\n",
       "      <td>4</td>\n",
       "      <td>3.33</td>\n",
       "      <td>0.79</td>\n",
       "      <td>1.09</td>\n",
       "      <td>0.06</td>\n",
       "      <td>5.27</td>\n",
       "      <td>NaN</td>\n",
       "      <td>NaN</td>\n",
       "      <td>NaN</td>\n",
       "      <td>-1</td>\n",
       "    </tr>\n",
       "    <tr>\n",
       "      <th>180</th>\n",
       "      <td>Minecraft</td>\n",
       "      <td>PS3</td>\n",
       "      <td>17</td>\n",
       "      <td>2014.0</td>\n",
       "      <td>Misc</td>\n",
       "      <td>3</td>\n",
       "      <td>2.03</td>\n",
       "      <td>2.37</td>\n",
       "      <td>0.00</td>\n",
       "      <td>0.87</td>\n",
       "      <td>5.27</td>\n",
       "      <td>NaN</td>\n",
       "      <td>NaN</td>\n",
       "      <td>NaN</td>\n",
       "      <td>-1</td>\n",
       "    </tr>\n",
       "    <tr>\n",
       "      <th>183</th>\n",
       "      <td>Tomodachi Life</td>\n",
       "      <td>3DS</td>\n",
       "      <td>2</td>\n",
       "      <td>2013.0</td>\n",
       "      <td>Simulation</td>\n",
       "      <td>9</td>\n",
       "      <td>0.97</td>\n",
       "      <td>2.11</td>\n",
       "      <td>1.90</td>\n",
       "      <td>0.24</td>\n",
       "      <td>5.22</td>\n",
       "      <td>NaN</td>\n",
       "      <td>NaN</td>\n",
       "      <td>NaN</td>\n",
       "      <td>-1</td>\n",
       "    </tr>\n",
       "    <tr>\n",
       "      <th>186</th>\n",
       "      <td>Super Mario Bros. 3</td>\n",
       "      <td>GBA</td>\n",
       "      <td>6</td>\n",
       "      <td>2003.0</td>\n",
       "      <td>Platform</td>\n",
       "      <td>4</td>\n",
       "      <td>2.93</td>\n",
       "      <td>1.25</td>\n",
       "      <td>0.83</td>\n",
       "      <td>0.20</td>\n",
       "      <td>5.21</td>\n",
       "      <td>NaN</td>\n",
       "      <td>NaN</td>\n",
       "      <td>NaN</td>\n",
       "      <td>-1</td>\n",
       "    </tr>\n",
       "    <tr>\n",
       "      <th>188</th>\n",
       "      <td>Super Mario Land 3: Wario Land</td>\n",
       "      <td>GB</td>\n",
       "      <td>5</td>\n",
       "      <td>1994.0</td>\n",
       "      <td>Platform</td>\n",
       "      <td>4</td>\n",
       "      <td>2.49</td>\n",
       "      <td>0.98</td>\n",
       "      <td>1.57</td>\n",
       "      <td>0.15</td>\n",
       "      <td>5.19</td>\n",
       "      <td>NaN</td>\n",
       "      <td>NaN</td>\n",
       "      <td>NaN</td>\n",
       "      <td>-1</td>\n",
       "    </tr>\n",
       "    <tr>\n",
       "      <th>190</th>\n",
       "      <td>Donkey Kong Country 2: Diddy's Kong Quest</td>\n",
       "      <td>SNES</td>\n",
       "      <td>23</td>\n",
       "      <td>1995.0</td>\n",
       "      <td>Platform</td>\n",
       "      <td>4</td>\n",
       "      <td>2.10</td>\n",
       "      <td>0.74</td>\n",
       "      <td>2.20</td>\n",
       "      <td>0.11</td>\n",
       "      <td>5.15</td>\n",
       "      <td>NaN</td>\n",
       "      <td>NaN</td>\n",
       "      <td>NaN</td>\n",
       "      <td>-1</td>\n",
       "    </tr>\n",
       "    <tr>\n",
       "      <th>193</th>\n",
       "      <td>Kirby's Dream Land</td>\n",
       "      <td>GB</td>\n",
       "      <td>5</td>\n",
       "      <td>1992.0</td>\n",
       "      <td>Platform</td>\n",
       "      <td>4</td>\n",
       "      <td>2.71</td>\n",
       "      <td>0.61</td>\n",
       "      <td>1.70</td>\n",
       "      <td>0.11</td>\n",
       "      <td>5.13</td>\n",
       "      <td>NaN</td>\n",
       "      <td>NaN</td>\n",
       "      <td>NaN</td>\n",
       "      <td>-1</td>\n",
       "    </tr>\n",
       "    <tr>\n",
       "      <th>194</th>\n",
       "      <td>Microsoft Flight Simulator</td>\n",
       "      <td>PC</td>\n",
       "      <td>13</td>\n",
       "      <td>1996.0</td>\n",
       "      <td>Simulation</td>\n",
       "      <td>9</td>\n",
       "      <td>3.22</td>\n",
       "      <td>1.69</td>\n",
       "      <td>0.00</td>\n",
       "      <td>0.20</td>\n",
       "      <td>5.11</td>\n",
       "      <td>NaN</td>\n",
       "      <td>NaN</td>\n",
       "      <td>NaN</td>\n",
       "      <td>-1</td>\n",
       "    </tr>\n",
       "    <tr>\n",
       "      <th>197</th>\n",
       "      <td>Mario &amp; Sonic at the Olympic Games</td>\n",
       "      <td>DS</td>\n",
       "      <td>4</td>\n",
       "      <td>2008.0</td>\n",
       "      <td>Sports</td>\n",
       "      <td>10</td>\n",
       "      <td>1.63</td>\n",
       "      <td>2.45</td>\n",
       "      <td>0.44</td>\n",
       "      <td>0.57</td>\n",
       "      <td>5.09</td>\n",
       "      <td>NaN</td>\n",
       "      <td>NaN</td>\n",
       "      <td>NaN</td>\n",
       "      <td>-1</td>\n",
       "    </tr>\n",
       "  </tbody>\n",
       "</table>\n",
       "</div>"
      ],
      "text/plain": [
       "                                          name platform  platform_id  \\\n",
       "1                            Super Mario Bros.      NES           11   \n",
       "4                     Pokemon Red/Pokemon Blue       GB            5   \n",
       "5                                       Tetris       GB            5   \n",
       "9                                    Duck Hunt      NES           11   \n",
       "10                                  Nintendogs       DS            4   \n",
       "12                 Pokemon Gold/Pokemon Silver       GB            5   \n",
       "18                           Super Mario World     SNES           23   \n",
       "20               Pokemon Diamond/Pokemon Pearl       DS            4   \n",
       "21                            Super Mario Land       GB            5   \n",
       "22                         Super Mario Bros. 3      NES           11   \n",
       "25               Pokemon Ruby/Pokemon Sapphire      GBA            6   \n",
       "27                 Pokemon Black/Pokemon White       DS            4   \n",
       "30     Pokémon Yellow: Special Pikachu Edition       GB            5   \n",
       "31                   Call of Duty: Black Ops 3      PS4           18   \n",
       "33                         Pokemon X/Pokemon Y      3DS            2   \n",
       "45                              Super Mario 64      N64           10   \n",
       "46        Pokemon HeartGold/Pokemon SoulSilver       DS            4   \n",
       "47   Pokemon Omega Ruby/Pokemon Alpha Sapphire      3DS            2   \n",
       "50          Super Mario Land 2: 6 Golden Coins       GB            5   \n",
       "56                       Super Mario All-Stars     SNES           23   \n",
       "58           Pokemon FireRed/Pokemon LeafGreen      GBA            6   \n",
       "59                              Super Mario 64       DS            4   \n",
       "63                               Mario Kart 64      N64           10   \n",
       "71                         Donkey Kong Country     SNES           23   \n",
       "72                                   Minecraft     X360           28   \n",
       "76                            Super Mario Kart     SNES           23   \n",
       "82                               GoldenEye 007      N64           10   \n",
       "83             Pokemon Black 2/Pokemon White 2       DS            4   \n",
       "86          Mario & Sonic at the Olympic Games      Wii           26   \n",
       "87                Star Wars Battlefront (2015)      PS4           18   \n",
       "89                                     Pac-Man     2600            0   \n",
       "93        The Legend of Zelda: Ocarina of Time      N64           10   \n",
       "95      Crash Bandicoot 2: Cortex Strikes Back       PS           15   \n",
       "96         Super Smash Bros. for Wii U and 3DS      3DS            2   \n",
       "98                         Super Mario Bros. 2      NES           11   \n",
       "99                   Call of Duty: Black Ops 3     XOne           30   \n",
       "108                           Pokemon Sun/Moon      3DS            2   \n",
       "112                  Mario Kart: Double Dash!!       GC            7   \n",
       "115                            Crash Bandicoot       PS           15   \n",
       "119                              Zumba Fitness      Wii           26   \n",
       "122                                    FIFA 12      PS3           17   \n",
       "124                        The Legend of Zelda      NES           11   \n",
       "133                    Pokémon Crystal Version       GB            5   \n",
       "137       Street Fighter II: The World Warrior     SNES           23   \n",
       "145                       Sonic the Hedgehog 2      GEN            8   \n",
       "157                                     Tetris      NES           11   \n",
       "158                          Super Smash Bros.      N64           10   \n",
       "167                          Super Mario World      GBA            6   \n",
       "168                            Pokemon Stadium      N64           10   \n",
       "172                                  Dr. Mario       GB            5   \n",
       "174                            Pokemon Pinball       GB            5   \n",
       "178                             Donkey Kong 64      N64           10   \n",
       "180                                  Minecraft      PS3           17   \n",
       "183                             Tomodachi Life      3DS            2   \n",
       "186                        Super Mario Bros. 3      GBA            6   \n",
       "188             Super Mario Land 3: Wario Land       GB            5   \n",
       "190  Donkey Kong Country 2: Diddy's Kong Quest     SNES           23   \n",
       "193                         Kirby's Dream Land       GB            5   \n",
       "194                 Microsoft Flight Simulator       PC           13   \n",
       "197         Mario & Sonic at the Olympic Games       DS            4   \n",
       "\n",
       "     year_of_release         genre  genre_id  na_sales  eu_sales  jp_sales  \\\n",
       "1             1985.0      Platform         4     29.08      3.58      6.81   \n",
       "4             1996.0  Role-Playing         7     11.27      8.89     10.22   \n",
       "5             1989.0        Puzzle         5     23.20      2.26      4.22   \n",
       "9             1984.0       Shooter         8     26.93      0.63      0.28   \n",
       "10            2005.0    Simulation         9      9.05     10.95      1.93   \n",
       "12            1999.0  Role-Playing         7      9.00      6.18      7.20   \n",
       "18            1990.0      Platform         4     12.78      3.75      3.54   \n",
       "20            2006.0  Role-Playing         7      6.38      4.46      6.04   \n",
       "21            1989.0      Platform         4     10.83      2.71      4.18   \n",
       "22            1988.0      Platform         4      9.54      3.44      3.84   \n",
       "25            2002.0  Role-Playing         7      6.06      3.90      5.38   \n",
       "27            2010.0  Role-Playing         7      5.51      3.17      5.65   \n",
       "30            1998.0  Role-Playing         7      5.89      5.04      3.12   \n",
       "31            2015.0       Shooter         8      6.03      5.86      0.36   \n",
       "33            2013.0  Role-Playing         7      5.28      4.19      4.35   \n",
       "45            1996.0      Platform         4      6.91      2.85      1.91   \n",
       "46            2009.0        Action         0      4.34      2.71      3.96   \n",
       "47            2014.0  Role-Playing         7      4.35      3.49      3.10   \n",
       "50            1992.0     Adventure         1      6.16      2.04      2.69   \n",
       "56            1993.0      Platform         4      5.99      2.15      2.12   \n",
       "58            2004.0  Role-Playing         7      4.34      2.65      3.15   \n",
       "59            2004.0      Platform         4      5.01      3.07      1.25   \n",
       "63            1996.0        Racing         6      5.55      1.94      2.23   \n",
       "71            1994.0      Platform         4      4.36      1.71      3.00   \n",
       "72            2013.0          Misc         3      5.70      2.65      0.02   \n",
       "76            1992.0        Racing         6      3.54      1.24      3.81   \n",
       "82            1997.0       Shooter         8      5.80      2.01      0.13   \n",
       "83            2012.0  Role-Playing         7      2.79      1.72      3.14   \n",
       "86            2007.0        Sports        10      2.57      3.86      0.66   \n",
       "87            2015.0       Shooter         8      2.99      3.49      0.22   \n",
       "89            1982.0        Puzzle         5      7.28      0.45      0.00   \n",
       "93            1998.0        Action         0      4.10      1.89      1.45   \n",
       "95            1997.0      Platform         4      3.78      2.17      1.31   \n",
       "96            2014.0      Fighting         2      3.27      1.37      2.43   \n",
       "98            1988.0      Platform         4      5.39      1.18      0.70   \n",
       "99            2015.0       Shooter         8      4.59      2.11      0.01   \n",
       "108           2016.0  Role-Playing         7      2.98      1.45      2.26   \n",
       "112           2003.0        Racing         6      4.12      1.77      0.87   \n",
       "115           1996.0      Platform         4      3.23      2.35      0.94   \n",
       "119           2010.0        Sports        10      3.45      2.59      0.00   \n",
       "122           2011.0        Sports        10      0.84      4.30      0.11   \n",
       "124           1986.0        Action         0      3.74      0.93      1.69   \n",
       "133           2000.0  Role-Playing         7      2.55      1.56      1.29   \n",
       "137           1992.0      Fighting         2      2.47      0.83      2.87   \n",
       "145           1992.0      Platform         4      4.47      1.20      0.16   \n",
       "157           1988.0        Puzzle         5      2.97      0.69      1.81   \n",
       "158           1999.0      Fighting         2      2.95      0.60      1.97   \n",
       "167           2001.0      Platform         4      3.21      1.11      0.95   \n",
       "168           1999.0      Strategy        11      3.18      1.24      0.94   \n",
       "172           1989.0        Puzzle         5      2.18      0.96      2.00   \n",
       "174           1999.0          Misc         3      3.02      1.12      1.01   \n",
       "178           1999.0      Platform         4      3.33      0.79      1.09   \n",
       "180           2014.0          Misc         3      2.03      2.37      0.00   \n",
       "183           2013.0    Simulation         9      0.97      2.11      1.90   \n",
       "186           2003.0      Platform         4      2.93      1.25      0.83   \n",
       "188           1994.0      Platform         4      2.49      0.98      1.57   \n",
       "190           1995.0      Platform         4      2.10      0.74      2.20   \n",
       "193           1992.0      Platform         4      2.71      0.61      1.70   \n",
       "194           1996.0    Simulation         9      3.22      1.69      0.00   \n",
       "197           2008.0        Sports        10      1.63      2.45      0.44   \n",
       "\n",
       "     other_sales  total_sales  critic_score  user_score rating  rating_id  \n",
       "1           0.77        40.24           NaN         NaN    NaN         -1  \n",
       "4           1.00        31.38           NaN         NaN    NaN         -1  \n",
       "5           0.58        30.26           NaN         NaN    NaN         -1  \n",
       "9           0.47        28.31           NaN         NaN    NaN         -1  \n",
       "10          2.74        24.67           NaN         NaN    NaN         -1  \n",
       "12          0.71        23.09           NaN         NaN    NaN         -1  \n",
       "18          0.55        20.62           NaN         NaN    NaN         -1  \n",
       "20          1.36        18.24           NaN         NaN    NaN         -1  \n",
       "21          0.42        18.14           NaN         NaN    NaN         -1  \n",
       "22          0.46        17.28           NaN         NaN    NaN         -1  \n",
       "25          0.50        15.84           NaN         NaN    NaN         -1  \n",
       "27          0.80        15.13           NaN         NaN    NaN         -1  \n",
       "30          0.59        14.64           NaN         NaN    NaN         -1  \n",
       "31          2.38        14.63           NaN         NaN    NaN         -1  \n",
       "33          0.78        14.60           NaN         NaN    NaN         -1  \n",
       "45          0.23        11.90           NaN         NaN    NaN         -1  \n",
       "46          0.76        11.77           NaN         NaN    NaN         -1  \n",
       "47          0.74        11.68           NaN         NaN    NaN         -1  \n",
       "50          0.29        11.18           NaN         NaN    NaN         -1  \n",
       "56          0.29        10.55           NaN         NaN    NaN         -1  \n",
       "58          0.35        10.49           NaN         NaN    NaN         -1  \n",
       "59          0.97        10.30           NaN         NaN    NaN         -1  \n",
       "63          0.15         9.87           NaN         NaN    NaN         -1  \n",
       "71          0.23         9.30           NaN         NaN    NaN         -1  \n",
       "72          0.81         9.18           NaN         NaN    NaN         -1  \n",
       "76          0.18         8.77           NaN         NaN    NaN         -1  \n",
       "82          0.15         8.09           NaN         NaN    NaN         -1  \n",
       "83          0.41         8.06           NaN         NaN    NaN         -1  \n",
       "86          0.91         8.00           NaN         NaN    NaN         -1  \n",
       "87          1.28         7.98           NaN         NaN    NaN         -1  \n",
       "89          0.08         7.81           NaN         NaN    NaN         -1  \n",
       "93          0.16         7.60           NaN         NaN    NaN         -1  \n",
       "95          0.31         7.57           NaN         NaN    NaN         -1  \n",
       "96          0.48         7.55           NaN         NaN    NaN         -1  \n",
       "98          0.19         7.46           NaN         NaN    NaN         -1  \n",
       "99          0.68         7.39           NaN         NaN    NaN         -1  \n",
       "108         0.45         7.14           NaN         NaN    NaN         -1  \n",
       "112         0.19         6.95           NaN         NaN    NaN         -1  \n",
       "115         0.30         6.82           NaN         NaN    NaN         -1  \n",
       "119         0.66         6.70           NaN         NaN      E          1  \n",
       "122         1.39         6.64           NaN         NaN    NaN         -1  \n",
       "124         0.14         6.50           NaN         NaN    NaN         -1  \n",
       "133         0.99         6.39           NaN         NaN    NaN         -1  \n",
       "137         0.12         6.29           NaN         NaN    NaN         -1  \n",
       "145         0.19         6.02           NaN         NaN    NaN         -1  \n",
       "157         0.11         5.58           NaN         NaN    NaN         -1  \n",
       "158         0.04         5.56           NaN         NaN    NaN         -1  \n",
       "167         0.20         5.47           NaN         NaN    NaN         -1  \n",
       "168         0.09         5.45           NaN         NaN    NaN         -1  \n",
       "172         0.20         5.34           NaN         NaN    NaN         -1  \n",
       "174         0.16         5.31           NaN         NaN    NaN         -1  \n",
       "178         0.06         5.27           NaN         NaN    NaN         -1  \n",
       "180         0.87         5.27           NaN         NaN    NaN         -1  \n",
       "183         0.24         5.22           NaN         NaN    NaN         -1  \n",
       "186         0.20         5.21           NaN         NaN    NaN         -1  \n",
       "188         0.15         5.19           NaN         NaN    NaN         -1  \n",
       "190         0.11         5.15           NaN         NaN    NaN         -1  \n",
       "193         0.11         5.13           NaN         NaN    NaN         -1  \n",
       "194         0.20         5.11           NaN         NaN    NaN         -1  \n",
       "197         0.57         5.09           NaN         NaN    NaN         -1  "
      ]
     },
     "execution_count": 103,
     "metadata": {},
     "output_type": "execute_result"
    }
   ],
   "source": [
    "df[df['critic_score'].isnull()].head(60)"
   ]
  },
  {
   "cell_type": "markdown",
   "metadata": {},
   "source": [
    "The data in the other columns looks pretty evenly distributed.\n",
    "\n",
    "But something to note in these first lines is that the platforms/consoles are old.\n",
    "\n",
    "Let's try to relate `critic_score` with `year_of_release`, who knows this score was not used after a certain year:"
   ]
  },
  {
   "cell_type": "code",
   "execution_count": 104,
   "metadata": {},
   "outputs": [
    {
     "data": {
      "text/plain": [
       "<AxesSubplot:xlabel='year_of_release'>"
      ]
     },
     "execution_count": 104,
     "metadata": {},
     "output_type": "execute_result"
    },
    {
     "data": {
      "image/png": "[encoded data removed]",
      "text/plain": [
       "<Figure size 432x288 with 1 Axes>"
      ]
     },
     "metadata": {
      "needs_background": "light"
     },
     "output_type": "display_data"
    }
   ],
   "source": [
    "# Let's create a line graph that represents the implementation of 'critic_score' over time\n",
    "\n",
    "df.groupby('year_of_release')['critic_score'].count().plot()"
   ]
  },
  {
   "cell_type": "markdown",
   "metadata": {},
   "source": [
    "We can observe that this is a metric more commonly used after the year 1995.\n",
    "\n",
    "Let's check how much data we have before and after this date:"
   ]
  },
  {
   "cell_type": "code",
   "execution_count": 105,
   "metadata": {},
   "outputs": [
    {
     "data": {
      "text/plain": [
       "705"
      ]
     },
     "execution_count": 105,
     "metadata": {},
     "output_type": "execute_result"
    }
   ],
   "source": [
    "# Number of games released until 1995\n",
    "\n",
    "games_pre95 = len(df.query('year_of_release < 1996'))\n",
    "games_pre95"
   ]
  },
  {
   "cell_type": "code",
   "execution_count": 106,
   "metadata": {},
   "outputs": [
    {
     "data": {
      "text/plain": [
       "15739"
      ]
     },
     "execution_count": 106,
     "metadata": {},
     "output_type": "execute_result"
    }
   ],
   "source": [
    "# Number of games released since 1995\n",
    "\n",
    "games_post95 = len(df.query('year_of_release >= 1996'))\n",
    "games_post95"
   ]
  },
  {
   "cell_type": "code",
   "execution_count": 107,
   "metadata": {},
   "outputs": [
    {
     "data": {
      "text/plain": [
       "747.5799999999999"
      ]
     },
     "execution_count": 107,
     "metadata": {},
     "output_type": "execute_result"
    }
   ],
   "source": [
    "# Millions of dollars earned from game sales up to 1995\n",
    "\n",
    "sales_pre95 = df.query('year_of_release < 1996')['total_sales'].sum()\n",
    "sales_pre95"
   ]
  },
  {
   "cell_type": "code",
   "execution_count": 108,
   "metadata": {},
   "outputs": [
    {
     "data": {
      "text/plain": [
       "8066.79"
      ]
     },
     "execution_count": 108,
     "metadata": {},
     "output_type": "execute_result"
    }
   ],
   "source": [
    "# Millions of dollars earned from game sales after 1995\n",
    "\n",
    "salespost_95 = df.query('year_of_release >= 1996')['total_sales'].sum()\n",
    "salespost_95"
   ]
  },
  {
   "cell_type": "code",
   "execution_count": 109,
   "metadata": {},
   "outputs": [
    {
     "name": "stdout",
     "output_type": "stream",
     "text": [
      "Before 1995, on average, each game released made a profit of $1.06mi, which increased to an average of $0.51mi after this year.\n"
     ]
    }
   ],
   "source": [
    "# Average earnings per game released before and after 1995\n",
    "\n",
    "print('Before 1995, on average, each game released made a profit of $' + str((sales_pre95/games_pre95).round(2)) + 'mi, which increased to an average of $' + str((salespost_95 /games_post95).round(2)) + 'mi after this year.')"
   ]
  },
  {
   "cell_type": "markdown",
   "metadata": {},
   "source": [
    "The NaN values of `critic_score` represent almost 5% of the total number of rows in our data, and although apparently the biggest part comes from old games and platforms, we saw that they raked in more profit than those after 1995, i.e. , they are quite important. So **we won't remove these rows.** Simply leaving them blank can be a poor choice when doing table analysis.\n",
    "\n",
    "Considering the note we made after parsing 'df.corr()' in the \"*Categorizing Pre-Data Cleansing*\" section, so we don't leave the data blank, rather than simply replacing it with the mean (or median):\n",
    "\n",
    "- we will create groups with similar sales values in `total_sales`\n",
    "\n",
    "\n",
    "- we will group the `critic_score` data averages by these groups\n",
    "\n",
    "\n",
    "- and we'll use their averages to replace what we're missing:"
   ]
  },
  {
   "cell_type": "code",
   "execution_count": 110,
   "metadata": {},
   "outputs": [
    {
     "data": {
      "text/plain": [
       "count    16444.000000\n",
       "mean         0.536023\n",
       "std          1.558786\n",
       "min          0.000000\n",
       "25%          0.060000\n",
       "50%          0.170000\n",
       "75%          0.470000\n",
       "max         82.540000\n",
       "Name: total_sales, dtype: float64"
      ]
     },
     "execution_count": 110,
     "metadata": {},
     "output_type": "execute_result"
    }
   ],
   "source": [
    "# Checking the game sales data distribution statistic\n",
    "\n",
    "df['total_sales'].describe()"
   ]
  },
  {
   "cell_type": "code",
   "execution_count": 111,
   "metadata": {},
   "outputs": [
    {
     "data": {
      "image/png": "[encoded data removed]",
      "text/plain": [
       "<Figure size 432x288 with 1 Axes>"
      ]
     },
     "metadata": {
      "needs_background": "light"
     },
     "output_type": "display_data"
    }
   ],
   "source": [
    "# Generating a scatter chart to analyze the concentration of sales values\n",
    "\n",
    "grouped = df.groupby('total_sales')['critic_score'].mean()\n",
    "plt.scatter(grouped.index, grouped.values)\n",
    "plt.xlabel('Total Sales')\n",
    "plt.ylabel('Mean Critic Score')\n",
    "plt.show()"
   ]
  },
  {
   "cell_type": "markdown",
   "metadata": {},
   "source": [
    "Based on '.describe()' and the scatter plot of total sales, let's divide sales into 10 groups (bins) that had different values:"
   ]
  },
  {
   "cell_type": "code",
   "execution_count": 112,
   "metadata": {},
   "outputs": [
    {
     "data": {
      "text/plain": [
       "total_sales\n",
       "(-0.1, 0.08]    64.144273\n",
       "(0.08, 0.16]    64.067784\n",
       "(0.16, 0.24]    65.397129\n",
       "(0.24, 0.32]    67.396382\n",
       "(0.32, 0.4]     69.277652\n",
       "(0.4, 0.6]      70.910539\n",
       "(0.6, 0.8]      72.684959\n",
       "(0.8, 1.0]      75.439628\n",
       "(1.0, 2.0]      76.746736\n",
       "(2.0, 83.0]     82.556140\n",
       "Name: critic_score, dtype: float64"
      ]
     },
     "execution_count": 112,
     "metadata": {},
     "output_type": "execute_result"
    }
   ],
   "source": [
    "# Categorizing 'total_sales' into 10 different bins\n",
    "sales_bins = pd.cut(df['total_sales'], bins=[-0.1, 0.08, 0.16, 0.24, 0.32, 0.4, 0.6, 0.8, 1.0, 2.0, 83.0])\n",
    "\n",
    "# Calculating and printing the average 'critic_score' for each group\n",
    "df.groupby(sales_bins)['critic_score'].mean()"
   ]
  },
  {
   "cell_type": "code",
   "execution_count": 113,
   "metadata": {},
   "outputs": [],
   "source": [
    "# Naming the average calculation 'critic_score' for each group\n",
    "grouped_sales = df.groupby(sales_bins)['critic_score'].mean()\n",
    "\n",
    "# Replacing NaN values in 'critic_score' with bin averages\n",
    "df['critic_score'] = df['critic_score'].fillna(sales_bins.map(grouped_sales))"
   ]
  },
  {
   "cell_type": "code",
   "execution_count": 114,
   "metadata": {},
   "outputs": [
    {
     "name": "stdout",
     "output_type": "stream",
     "text": [
      "Finally, the number of missing values in the critical_score column is 0\n"
     ]
    }
   ],
   "source": [
    "# Checking the NaN values in the 'critic_score' column\n",
    "\n",
    "print('Finally, the number of missing values in the critical_score column is ' + str(df['critic_score'].isnull().sum()))"
   ]
  },
  {
   "cell_type": "markdown",
   "metadata": {},
   "source": [
    "**Intermediate conclusion**\n",
    "\n",
    "Normally we would do this **categorization** later on.\n",
    "\n",
    "But as we could see the approximate interdependence between `total_sales` and the evaluations/scores given to the games, these categories created in advance make it easier for us to fill in the missing values in a more homogeneous/reliable way.\n",
    "\n",
    "Let's check if we'll use them next, with `user_score` and `rating`."
   ]
  },
  {
   "cell_type": "markdown",
   "metadata": {},
   "source": [
    "### Missing values in column `user_score` <a id='missing_user'></a>"
   ]
  },
  {
   "cell_type": "markdown",
   "metadata": {},
   "source": [
    "Let's start with the same steps for the `user_score` column:"
   ]
  },
  {
   "cell_type": "code",
   "execution_count": 115,
   "metadata": {
    "scrolled": true
   },
   "outputs": [
    {
     "name": "stdout",
     "output_type": "stream",
     "text": [
      "The number of missing values in column \"user_score\" is 8981, which correspond to 54.61566528825104% of data in column.\n"
     ]
    }
   ],
   "source": [
    "# Let's review how many NaN values we have in the 'user_score' column\n",
    "\n",
    "print('The number of missing values in column \"user_score\" is ' + str(df['user_score'].isnull().sum()) + ', which correspond to ' + (str((df['user_score' ].isnull().sum()) / len(df['user_score']) * 100)) + '% of data in column.')"
   ]
  },
  {
   "cell_type": "markdown",
   "metadata": {},
   "source": [
    "Apparently `user_score` is about 500 more NaN rows than `critic_score`.\n",
    "\n",
    "Let's once again visualize `total_sales` in a scatter plot, confirming the possibility of using our newly created `sales_bins` categories."
   ]
  },
  {
   "cell_type": "code",
   "execution_count": 116,
   "metadata": {},
   "outputs": [
    {
     "data": {
      "image/png": "[encoded data removed]",
      "text/plain": [
       "<Figure size 432x288 with 1 Axes>"
      ]
     },
     "metadata": {
      "needs_background": "light"
     },
     "output_type": "display_data"
    }
   ],
   "source": [
    "# Generating a scatter chart to analyze the concentration of sales values\n",
    "\n",
    "grouped = df.groupby('total_sales')['user_score'].mean()\n",
    "plt.scatter(grouped.index, grouped.values)\n",
    "plt.xlabel('Total Sales')\n",
    "plt.ylabel('Mean User Score')\n",
    "plt.show()"
   ]
  },
  {
   "cell_type": "code",
   "execution_count": 117,
   "metadata": {},
   "outputs": [
    {
     "name": "stdout",
     "output_type": "stream",
     "text": [
      "Finally, the number of missing values in the user_score column is 0\n"
     ]
    }
   ],
   "source": [
    "# Replacing NaN values in 'user_score' with bin averages\n",
    "\n",
    "df['user_score'] = df['user_score'].fillna(sales_bins.map(grouped_sales))\n",
    "\n",
    "\n",
    "# Checking the NaN values in the 'user_score' column\n",
    "\n",
    "print('Finally, the number of missing values in the user_score column is ' + str(df['user_score'].isnull().sum()))"
   ]
  },
  {
   "cell_type": "markdown",
   "metadata": {},
   "source": [
    "Apparently we just need to remove the NaN values from the last column.\n",
    "\n",
    "Let's do it and then check information from the table."
   ]
  },
  {
   "cell_type": "markdown",
   "metadata": {},
   "source": [
    "### Missing values in `rating` column <a is='missing rating'></a>"
   ]
  },
  {
   "cell_type": "markdown",
   "metadata": {},
   "source": [
    "The ESRB (Entertainment Software Rating Board), a system used primarily in North America, assigns a rating to each game based on its content, including violence, language, sexual themes, drug use, and other factors.\n",
    "\n",
    "There are several possible classifications:\n",
    "\n",
    "- **E** (Everyone): suitable for all ages.\n",
    "- **T** (Teen): suitable for teenagers from 13 years old.\n",
    "- **M** (Mature): suitable for people over 17 years old.\n",
    "- **E10+** (Everyone 10 and up): suitable for children from 10 years old.\n",
    "- **AO** (Adults Only): suitable only for adults, from 18 years old.\n",
    "- **RP** (Rating Pending): the rating has not yet been assigned.\n",
    "- **EC** (Early Childhood): suitable for young children, from 3 years old.\n",
    "- **K-A** (Kids to Adults): suitable for all ages (this classification is no longer used).\n",
    "\n",
    "The `value_counts()` function applied to the `rating` column returns a count of how many games are ranked in each of these categories:"
   ]
  },
  {
   "cell_type": "code",
   "execution_count": 118,
   "metadata": {
    "scrolled": true
   },
   "outputs": [
    {
     "data": {
      "text/plain": [
       "E       3921\n",
       "T       2905\n",
       "M       1536\n",
       "E10+    1393\n",
       "EC         8\n",
       "K-A        3\n",
       "RP         1\n",
       "AO         1\n",
       "Name: rating, dtype: int64"
      ]
     },
     "execution_count": 118,
     "metadata": {},
     "output_type": "execute_result"
    }
   ],
   "source": [
    "# Let's visualize all the possible values of the indicative classification column\n",
    "# and see how many times each one appears\n",
    "\n",
    "df['rating'].value_counts()"
   ]
  },
  {
   "cell_type": "markdown",
   "metadata": {},
   "source": [
    "In the given example, most games are rated \"E\" (Everyone), followed by \"T\" (Teen), \"M\" (Mature) and \"E10+\" (10 years old and above)."
   ]
  },
  {
   "cell_type": "code",
   "execution_count": 119,
   "metadata": {},
   "outputs": [
    {
     "data": {
      "text/plain": [
       "Index(['name', 'platform', 'platform_id', 'year_of_release', 'genre',\n",
       "       'genre_id', 'na_sales', 'eu_sales', 'jp_sales', 'other_sales',\n",
       "       'total_sales', 'critic_score', 'user_score', 'rating', 'rating_id'],\n",
       "      dtype='object')"
      ]
     },
     "execution_count": 119,
     "metadata": {},
     "output_type": "execute_result"
    }
   ],
   "source": [
    "# Checking available columns\n",
    "\n",
    "df.columns"
   ]
  },
  {
   "cell_type": "markdown",
   "metadata": {},
   "source": [
    "**Checking data distribution**\n",
    "\n",
    "The nominal variable that perhaps seems to have more to do with `rating` might be `genre`.\n",
    "\n",
    "Let's examine the unique values in the `genre` column to see if there is an uneven distribution of NaN values across different game genres. If there is an uneven distribution, we can remove NaN values based on the game's genre:"
   ]
  },
  {
   "cell_type": "code",
   "execution_count": 120,
   "metadata": {
    "scrolled": false
   },
   "outputs": [
    {
     "data": {
      "text/plain": [
       "genre         rating\n",
       "Action        T          670\n",
       "              M          596\n",
       "              E10+       468\n",
       "              E          410\n",
       "              AO           1\n",
       "              EC           1\n",
       "Adventure     E          159\n",
       "              T          114\n",
       "              M           98\n",
       "              E10+        67\n",
       "              EC           2\n",
       "Fighting      T          357\n",
       "              M           48\n",
       "              E10+        19\n",
       "              E            8\n",
       "Misc          E          449\n",
       "              T          228\n",
       "              E10+       166\n",
       "              M           13\n",
       "              EC           5\n",
       "              K-A          1\n",
       "Platform      E          354\n",
       "              E10+       141\n",
       "              T           63\n",
       "              M            3\n",
       "Puzzle        E          284\n",
       "              E10+        42\n",
       "              T           10\n",
       "Racing        E          576\n",
       "              T          167\n",
       "              E10+        95\n",
       "              M           18\n",
       "Role-Playing  T          415\n",
       "              M          161\n",
       "              E10+       111\n",
       "              E           83\n",
       "Shooter       M          553\n",
       "              T          340\n",
       "              E10+        56\n",
       "              E           47\n",
       "Simulation    E          321\n",
       "              T          186\n",
       "              E10+        47\n",
       "              M            5\n",
       "Sports        E         1162\n",
       "              T          195\n",
       "              E10+       105\n",
       "              M           16\n",
       "Strategy      T          160\n",
       "              E10+        76\n",
       "              E           68\n",
       "              M           25\n",
       "              K-A          2\n",
       "              RP           1\n",
       "Name: rating, dtype: int64"
      ]
     },
     "execution_count": 120,
     "metadata": {},
     "output_type": "execute_result"
    }
   ],
   "source": [
    "# Creating a new dataframe excluding NaN values in the \"rating\" column\n",
    "df_without_rating_nan = df.dropna(subset=['rating'])\n",
    "\n",
    "# Grouping by genre and counting the number of games in each rating category\n",
    "df_without_rating_nan.groupby('genre')['rating'].value_counts()"
   ]
  },
  {
   "cell_type": "markdown",
   "metadata": {},
   "source": [
    "Great, looks like the distribution was pretty even!\n",
    "\n",
    "Now let's use the fillna() method to fill in the NaN values in the \"rating\" column.\n",
    "\n",
    "For this, we can fill in the most common \"rating\" value for each game genre."
   ]
  },
  {
   "cell_type": "code",
   "execution_count": 121,
   "metadata": {},
   "outputs": [
    {
     "name": "stdout",
     "output_type": "stream",
     "text": [
      "The number of missing values in the \"rating\" column is 6676, which correspond to 40.59839455120409% of the data in the column.\n"
     ]
    }
   ],
   "source": [
    "# Let's review how many NaN values we have in the 'rating' column\n",
    "\n",
    "print('The number of missing values in the \"rating\" column is ' + str(df['rating'].isnull().sum()) + ', which correspond to ' + (str((df['rating' ].isnull().sum()) / len(df['rating']) * 100)) + '% of the data in the column.')"
   ]
  },
  {
   "cell_type": "code",
   "execution_count": 122,
   "metadata": {},
   "outputs": [
    {
     "data": {
      "text/plain": [
       "0"
      ]
     },
     "execution_count": 122,
     "metadata": {},
     "output_type": "execute_result"
    }
   ],
   "source": [
    "# Filling NaN values in 'rating' with the most common value of each game genre\n",
    "df['rating'] = df.groupby('genre')['rating'].apply(lambda x: x.fillna(x.mode()[0]))\n",
    "\n",
    "# Checking that there are no more NaN values in the 'rating' column\n",
    "df['rating'].isna().sum()"
   ]
  },
  {
   "cell_type": "markdown",
   "metadata": {},
   "source": [
    "**Excellent!**\n",
    "\n",
    "Let's compare the `rating` values by `genre` again now that there are no more NaN:"
   ]
  },
  {
   "cell_type": "code",
   "execution_count": 123,
   "metadata": {},
   "outputs": [
    {
     "data": {
      "text/plain": [
       "genre         rating\n",
       "Action        T         1831\n",
       "              M          596\n",
       "              E10+       468\n",
       "              E          410\n",
       "              AO           1\n",
       "              EC           1\n",
       "Adventure     E         1012\n",
       "              T          114\n",
       "              M           98\n",
       "              E10+        67\n",
       "              EC           2\n",
       "Fighting      T          762\n",
       "              M           48\n",
       "              E10+        19\n",
       "              E            8\n",
       "Misc          E         1308\n",
       "              T          228\n",
       "              E10+       166\n",
       "              M           13\n",
       "              EC           5\n",
       "              K-A          1\n",
       "Platform      E          671\n",
       "              E10+       141\n",
       "              T           63\n",
       "              M            3\n",
       "Puzzle        E          517\n",
       "              E10+        42\n",
       "              T           10\n",
       "Racing        E          946\n",
       "              T          167\n",
       "              E10+        95\n",
       "              M           18\n",
       "Role-Playing  T         1126\n",
       "              M          161\n",
       "              E10+       111\n",
       "              E           83\n",
       "Shooter       M          853\n",
       "              T          340\n",
       "              E10+        56\n",
       "              E           47\n",
       "Simulation    E          619\n",
       "              T          186\n",
       "              E10+        47\n",
       "              M            5\n",
       "Sports        E         1990\n",
       "              T          195\n",
       "              E10+       105\n",
       "              M           16\n",
       "Strategy      T          501\n",
       "              E10+        76\n",
       "              E           68\n",
       "              M           25\n",
       "              K-A          2\n",
       "              RP           1\n",
       "Name: rating, dtype: int64"
      ]
     },
     "execution_count": 123,
     "metadata": {},
     "output_type": "execute_result"
    }
   ],
   "source": [
    "# Counting the amount of each type of rating\n",
    "# according to game genre\n",
    "\n",
    "df.groupby('genre')['rating'].value_counts()"
   ]
  },
  {
   "cell_type": "markdown",
   "metadata": {},
   "source": [
    "Almost all of the most common by gender had their values at least tripled.\n",
    "\n",
    "At least now the NaN were not equal, which would result in a worse data distribution.\n",
    "\n",
    "Finally, let's check our table to move on to studies with her."
   ]
  },
  {
   "cell_type": "code",
   "execution_count": 124,
   "metadata": {},
   "outputs": [
    {
     "name": "stdout",
     "output_type": "stream",
     "text": [
      "<class 'pandas.core.frame.DataFrame'>\n",
      "RangeIndex: 16444 entries, 0 to 16443\n",
      "Data columns (total 15 columns):\n",
      " #   Column           Non-Null Count  Dtype   \n",
      "---  ------           --------------  -----   \n",
      " 0   name             16444 non-null  object  \n",
      " 1   platform         16444 non-null  object  \n",
      " 2   platform_id      16444 non-null  int8    \n",
      " 3   year_of_release  16444 non-null  float64 \n",
      " 4   genre            16444 non-null  object  \n",
      " 5   genre_id         16444 non-null  int8    \n",
      " 6   na_sales         16444 non-null  float64 \n",
      " 7   eu_sales         16444 non-null  float64 \n",
      " 8   jp_sales         16444 non-null  float64 \n",
      " 9   other_sales      16444 non-null  float64 \n",
      " 10  total_sales      16444 non-null  float64 \n",
      " 11  critic_score     16444 non-null  category\n",
      " 12  user_score       16444 non-null  category\n",
      " 13  rating           16444 non-null  object  \n",
      " 14  rating_id        16444 non-null  int8    \n",
      "dtypes: category(2), float64(6), int8(3), object(4)\n",
      "memory usage: 1.3+ MB\n"
     ]
    }
   ],
   "source": [
    "# Checking details of our dataframe\n",
    "\n",
    "df.info()"
   ]
  },
  {
   "cell_type": "markdown",
   "metadata": {},
   "source": [
    "Finally!\n",
    "\n",
    "Complete table!\n",
    "\n",
    "Let's analyze it!"
   ]
  },
  {
   "cell_type": "markdown",
   "metadata": {},
   "source": [
    "[Back to Index](#back)"
   ]
  },
  {
   "cell_type": "markdown",
   "metadata": {},
   "source": [
    "# Study of the fundamental parameters <a id='parameters1'></a>"
   ]
  },
  {
   "cell_type": "markdown",
   "metadata": {},
   "source": [
    "## Sales per year"
   ]
  },
  {
   "cell_type": "markdown",
   "metadata": {},
   "source": [
    "Let's use the `year_of_release` column to analyze how many games were released per year, since the first one we have registered.\n",
    "\n",
    "We will make use of the `.count()` method instead of `.nunique()` because the same game may have been released in different years for different platforms and have its own sales metric, even though, at its root, it is the same game released elsewhere or on another platform."
   ]
  },
  {
   "cell_type": "code",
   "execution_count": 125,
   "metadata": {},
   "outputs": [
    {
     "data": {
      "text/plain": [
       "year_of_release\n",
       "1980.0       9\n",
       "1981.0      46\n",
       "1982.0      36\n",
       "1983.0      17\n",
       "1984.0      14\n",
       "1985.0      14\n",
       "1986.0      21\n",
       "1987.0      16\n",
       "1988.0      15\n",
       "1989.0      17\n",
       "1990.0      16\n",
       "1991.0      41\n",
       "1992.0      43\n",
       "1993.0      60\n",
       "1994.0     121\n",
       "1995.0     219\n",
       "1996.0     263\n",
       "1997.0     289\n",
       "1998.0     379\n",
       "1999.0     338\n",
       "2000.0     350\n",
       "2001.0     482\n",
       "2002.0     829\n",
       "2003.0     775\n",
       "2004.0     762\n",
       "2005.0     939\n",
       "2006.0    1006\n",
       "2007.0    1197\n",
       "2008.0    1427\n",
       "2009.0    1426\n",
       "2010.0    1255\n",
       "2011.0    1136\n",
       "2012.0     653\n",
       "2013.0     544\n",
       "2014.0     581\n",
       "2015.0     606\n",
       "2016.0     502\n",
       "Name: name, dtype: int64"
      ]
     },
     "execution_count": 125,
     "metadata": {},
     "output_type": "execute_result"
    }
   ],
   "source": [
    "# Counting the number of games released each year\n",
    "\n",
    "games_per_year = df.groupby('year_of_release')['name'].count()\n",
    "\n",
    "games_per_year"
   ]
  },
  {
   "cell_type": "code",
   "execution_count": 126,
   "metadata": {},
   "outputs": [
    {
     "data": {
      "text/plain": [
       "Text(0, 0.5, 'Number of games')"
      ]
     },
     "execution_count": 126,
     "metadata": {},
     "output_type": "execute_result"
    },
    {
     "data": {
      "image/png": "[encoded data removed]",
      "text/plain": [
       "<Figure size 1008x360 with 1 Axes>"
      ]
     },
     "metadata": {
      "needs_background": "light"
     },
     "output_type": "display_data"
    }
   ],
   "source": [
    "games_per_year.plot(kind='bar', figsize=(14,5))\n",
    "plt.title('Number of games released each year year')\n",
    "plt.xlabel('Year')\n",
    "plt.ylabel('Number of games')"
   ]
  },
  {
   "cell_type": "markdown",
   "metadata": {},
   "source": [
    "As we noted earlier, criticism of games began to exist more frequently after the year 1995, probably because it was in the early 90s that we started to have more game releases per year.\n",
    "\n",
    "But let's now see how much was the total sales value in the games market and the average of this value for each game over time."
   ]
  },
  {
   "cell_type": "code",
   "execution_count": 127,
   "metadata": {},
   "outputs": [
    {
     "data": {
      "text/plain": [
       "Text(0, 0.5, 'Millions of dollars')"
      ]
     },
     "execution_count": 127,
     "metadata": {},
     "output_type": "execute_result"
    },
    {
     "data": {
      "image/png": "[encoded data removed]",
      "text/plain": [
       "<Figure size 1008x360 with 1 Axes>"
      ]
     },
     "metadata": {
      "needs_background": "light"
     },
     "output_type": "display_data"
    }
   ],
   "source": [
    "# Counting the total amount raised from game sales for each year\n",
    "\n",
    "sales_sum_per_year = df.groupby('year_of_release')['total_sales'].sum()\n",
    "\n",
    "sales_sum_per_year.plot(kind='bar', figsize=(14,5))\n",
    "plt.title('Millions of dollars sold in the video game market each year')\n",
    "plt.xlabel('Year')\n",
    "plt.ylabel('Millions of dollars')"
   ]
  },
  {
   "cell_type": "code",
   "execution_count": 128,
   "metadata": {},
   "outputs": [
    {
     "data": {
      "text/plain": [
       "Text(0, 0.5, 'Millions of dollars')"
      ]
     },
     "execution_count": 128,
     "metadata": {},
     "output_type": "execute_result"
    },
    {
     "data": {
      "image/png": "[encoded data removed]",
      "text/plain": [
       "<Figure size 1008x360 with 1 Axes>"
      ]
     },
     "metadata": {
      "needs_background": "light"
     },
     "output_type": "display_data"
    }
   ],
   "source": [
    "# Counting the total amount raised from sales for each game for each year\n",
    "\n",
    "sales_mean_per_year = df.groupby('year_of_release')['total_sales'].mean()\n",
    "\n",
    "sales_mean_per_year.plot(kind='bar', figsize=(14,5))\n",
    "plt.title('Average million dollars sold for each video game each year')\n",
    "plt.xlabel('Year')\n",
    "plt.ylabel('Millions of dollars')"
   ]
  },
  {
   "cell_type": "markdown",
   "metadata": {},
   "source": [
    "Now yes! Look how funny.\n",
    "\n",
    "The games market has increased so much since the beginning of the 90s that, although we sell many games and the sum of these sales in the market is much greater than in the beginning, each game has an individual profit much smaller than when they had more demand and less supply.\n",
    "\n",
    "**A clear example:**\n",
    "\n",
    "**Year 1980:** Lowest number of games in the market - lowest investment in the games market - profit of **over 1m per game**\n",
    "\n",
    "**Year 2008:** Highest number of games on the market - highest investment in the games market - profit of **less than 1m per game**"
   ]
  },
  {
   "cell_type": "markdown",
   "metadata": {},
   "source": [
    "## Platforms with the most sales"
   ]
  },
  {
   "cell_type": "code",
   "execution_count": 129,
   "metadata": {
    "scrolled": false
   },
   "outputs": [
    {
     "data": {
      "image/png": "[encoded data removed]",
      "text/plain": [
       "<Figure size 936x648 with 1 Axes>"
      ]
     },
     "metadata": {
      "needs_background": "light"
     },
     "output_type": "display_data"
    }
   ],
   "source": [
    "# Grouping the data by platform and year of launch and adding sales\n",
    "platform_sales_years = df.groupby(['platform', 'year_of_release'])['total_sales'].sum()\n",
    "\n",
    "# Unstacking the data to have each platform as a separate column\n",
    "platform_sales_years = platform_sales_years.unstack(level=0)\n",
    "\n",
    "# Plotting the data\n",
    "platform_sales_years.plot(figsize=(13, 9))\n",
    "\n",
    "# Defining the chart title and axis labels\n",
    "plt.title('Total Sales by Platform and Release Year')\n",
    "plt.xlabel('Launch Year')\n",
    "plt.ylabel('Total Sales (Millions of Units)')\n",
    "\n",
    "# Showing the chart\n",
    "plt.show()"
   ]
  },
  {
   "cell_type": "markdown",
   "metadata": {},
   "source": [
    "In the previous code, we create a DataFrame that contains the sum of total sales for each platform, using the groupby method from the Pandas library. The \"platform_sales\" variable receives the result of this grouping and displays the information in descending sales order.\n",
    "\n",
    "Then we created a line chart using the Matplotlib library, with the aim of graphically visualizing the evolution of sales for each platform over time. To do this, the code uses a loop to create a line chart for each platform, with total sales on the y-axis and year of release on the x-axis.\n",
    "\n",
    "- It is possible to observe that the older platforms, such as Atari 2600 and 3DO, had a peak in sales at the beginning, while the most recent highs in sales were Play Station 4 and Xbox One.\n",
    "\n",
    "\n",
    "- Between the penultimate and last years of collection, we can observe that the lines referring to all platforms indicate decline. That is, it was a year in which no platform grew.\n",
    "\n",
    "\n",
    "- Among those that were on the market (with the colored line reaching the right corner of the graph), despite having lower sales than the other platforms, the Nintendo Wii appears to be the most stable (coming on a less steep slope) and the one with the highest sales peak (2009-2010)\n",
    "\n",
    "\n",
    "- Despite being in a sharp drop in sales, Play Station 4 had its peak in about 1 year and is the one that sold the most in 2016, followed by Xbox One, with less than half of its sales. Both platforms entered the market in the same year.\n",
    "\n",
    "\n",
    "- In this graph formed by `platform_sales_years` we can also visualize **the platforms that were once popular and then had no more sales**. We do this like moving a vertical ruler from left to right and looking at all that were at the top each year. If this line does not have continuity, it fits this question. Platforms that fit this criteria are:\n",
    "     * 2600 (first dark blue line)\n",
    "     * 3DO (first orange)\n",
    "     * DC (first red)\n",
    "     * PS (brown in half)\n",
    "     * PS2 (highest pink)"
   ]
  },
  {
   "cell_type": "code",
   "execution_count": 130,
   "metadata": {},
   "outputs": [
    {
     "data": {
      "text/plain": [
       "platform\n",
       "PS2     1233.56\n",
       "X360     961.24\n",
       "PS3      931.34\n",
       "Wii      891.18\n",
       "DS       802.78\n",
       "Name: total_sales, dtype: float64"
      ]
     },
     "execution_count": 130,
     "metadata": {},
     "output_type": "execute_result"
    }
   ],
   "source": [
    "# Selecting only the platforms with the highest total sales\n",
    "top_platforms = df.groupby('platform')['total_sales'].sum().sort_values(ascending=False).head(5)\n",
    "\n",
    "top_platforms"
   ]
  },
  {
   "cell_type": "code",
   "execution_count": 131,
   "metadata": {},
   "outputs": [
    {
     "data": {
      "image/png": "[encoded data removed]",
      "text/plain": [
       "<Figure size 576x288 with 1 Axes>"
      ]
     },
     "metadata": {
      "needs_background": "light"
     },
     "output_type": "display_data"
    }
   ],
   "source": [
    "top_platforms = df.groupby('platform')['total_sales'].sum().sort_values(ascending=False).head(5).index.tolist()\n",
    "platform_sales_years = platform_sales_years[top_platforms]\n",
    "\n",
    "# Plotting the data\n",
    "platform_sales_years.plot(figsize=(8, 4))\n",
    "\n",
    "# Defining the chart title and axis labels\n",
    "plt.title('Total Sales by Platform and Release Year')\n",
    "plt.xlabel('Launch Year')\n",
    "plt.ylabel('Total Sales (Millions of Units)')\n",
    "\n",
    "# Showing the chart\n",
    "plt.show()"
   ]
  },
  {
   "cell_type": "markdown",
   "metadata": {},
   "source": [
    "Now we've basically zoomed in on the top five sales and as expected:\n",
    "\n",
    "    - PS2 and Nintendo DS no longer sell\n",
    "   \n",
    "   \n",
    "    - Nintendo Wii didn't surpass the PS2 but it was the best seller around 2008-2009\n",
    "   \n",
    "   \n",
    "    - Wii sales dropped sharply between 2009 and 2012 but were less pronounced than PS3 and X360 around 2016"
   ]
  },
  {
   "cell_type": "code",
   "execution_count": 132,
   "metadata": {},
   "outputs": [
    {
     "data": {
      "text/plain": [
       "platform\n",
       "PCFX    0.03\n",
       "GG      0.04\n",
       "3DO     0.10\n",
       "TG16    0.16\n",
       "WS      1.42\n",
       "Name: total_sales, dtype: float64"
      ]
     },
     "execution_count": 132,
     "metadata": {},
     "output_type": "execute_result"
    }
   ],
   "source": [
    "df.groupby('platform')['total_sales'].sum().sort_values(ascending=True).head()"
   ]
  },
  {
   "cell_type": "markdown",
   "metadata": {},
   "source": [
    "- The best-selling platform of all time was Play Station 2, followed by Xbox 360 and Play Station 3, both with about three-quarters of the \"winner\".\n",
    "\n",
    "\n",
    "- The platforms that sold the least were PC-FX and Game Gear(GG)."
   ]
  },
  {
   "cell_type": "code",
   "execution_count": 133,
   "metadata": {},
   "outputs": [
    {
     "data": {
      "text/html": [
       "<div>\n",
       "<style scoped>\n",
       "    .dataframe tbody tr th:only-of-type {\n",
       "        vertical-align: middle;\n",
       "    }\n",
       "\n",
       "    .dataframe tbody tr th {\n",
       "        vertical-align: top;\n",
       "    }\n",
       "\n",
       "    .dataframe thead th {\n",
       "        text-align: right;\n",
       "    }\n",
       "</style>\n",
       "<table border=\"1\" class=\"dataframe\">\n",
       "  <thead>\n",
       "    <tr style=\"text-align: right;\">\n",
       "      <th></th>\n",
       "      <th>first_year</th>\n",
       "      <th>last_year</th>\n",
       "      <th>years_on</th>\n",
       "    </tr>\n",
       "    <tr>\n",
       "      <th>platform</th>\n",
       "      <th></th>\n",
       "      <th></th>\n",
       "      <th></th>\n",
       "    </tr>\n",
       "  </thead>\n",
       "  <tbody>\n",
       "    <tr>\n",
       "      <th>PC</th>\n",
       "      <td>1985.0</td>\n",
       "      <td>2016.0</td>\n",
       "      <td>32.0</td>\n",
       "    </tr>\n",
       "    <tr>\n",
       "      <th>DS</th>\n",
       "      <td>1985.0</td>\n",
       "      <td>2013.0</td>\n",
       "      <td>29.0</td>\n",
       "    </tr>\n",
       "    <tr>\n",
       "      <th>GB</th>\n",
       "      <td>1988.0</td>\n",
       "      <td>2001.0</td>\n",
       "      <td>14.0</td>\n",
       "    </tr>\n",
       "    <tr>\n",
       "      <th>X360</th>\n",
       "      <td>2005.0</td>\n",
       "      <td>2016.0</td>\n",
       "      <td>12.0</td>\n",
       "    </tr>\n",
       "    <tr>\n",
       "      <th>PSP</th>\n",
       "      <td>2004.0</td>\n",
       "      <td>2015.0</td>\n",
       "      <td>12.0</td>\n",
       "    </tr>\n",
       "  </tbody>\n",
       "</table>\n",
       "</div>"
      ],
      "text/plain": [
       "          first_year  last_year  years_on\n",
       "platform                                 \n",
       "PC            1985.0     2016.0      32.0\n",
       "DS            1985.0     2013.0      29.0\n",
       "GB            1988.0     2001.0      14.0\n",
       "X360          2005.0     2016.0      12.0\n",
       "PSP           2004.0     2015.0      12.0"
      ]
     },
     "execution_count": 133,
     "metadata": {},
     "output_type": "execute_result"
    }
   ],
   "source": [
    "# Finding the video games that have been available the longest on the market\n",
    "\n",
    "platform_years = df.groupby('platform')['year_of_release'].agg(['min', 'max'])\n",
    "platform_years = platform_years.rename(columns={'min': 'first_year', 'max': 'last_year'})\n",
    "platform_years['years_on'] = platform_years['last_year'] - platform_years['first_year'] + 1\n",
    "platform_years.sort_values(by= 'years_on', ascending=False).head()"
   ]
  },
  {
   "cell_type": "markdown",
   "metadata": {},
   "source": [
    "Among the first 5 successful platforms with the longest sales time, the only two still on the market on the date of data collection were computers (PCs) and Xbox 360 (X360)."
   ]
  },
  {
   "cell_type": "code",
   "execution_count": 134,
   "metadata": {},
   "outputs": [
    {
     "data": {
      "text/html": [
       "<div>\n",
       "<style scoped>\n",
       "    .dataframe tbody tr th:only-of-type {\n",
       "        vertical-align: middle;\n",
       "    }\n",
       "\n",
       "    .dataframe tbody tr th {\n",
       "        vertical-align: top;\n",
       "    }\n",
       "\n",
       "    .dataframe thead th {\n",
       "        text-align: right;\n",
       "    }\n",
       "</style>\n",
       "<table border=\"1\" class=\"dataframe\">\n",
       "  <thead>\n",
       "    <tr style=\"text-align: right;\">\n",
       "      <th></th>\n",
       "      <th>first_year</th>\n",
       "      <th>last_year</th>\n",
       "      <th>years_on</th>\n",
       "    </tr>\n",
       "    <tr>\n",
       "      <th>platform</th>\n",
       "      <th></th>\n",
       "      <th></th>\n",
       "      <th></th>\n",
       "    </tr>\n",
       "  </thead>\n",
       "  <tbody>\n",
       "    <tr>\n",
       "      <th>GG</th>\n",
       "      <td>1992.0</td>\n",
       "      <td>1992.0</td>\n",
       "      <td>1.0</td>\n",
       "    </tr>\n",
       "    <tr>\n",
       "      <th>PCFX</th>\n",
       "      <td>1996.0</td>\n",
       "      <td>1996.0</td>\n",
       "      <td>1.0</td>\n",
       "    </tr>\n",
       "    <tr>\n",
       "      <th>TG16</th>\n",
       "      <td>1995.0</td>\n",
       "      <td>1995.0</td>\n",
       "      <td>1.0</td>\n",
       "    </tr>\n",
       "    <tr>\n",
       "      <th>3DO</th>\n",
       "      <td>1994.0</td>\n",
       "      <td>1995.0</td>\n",
       "      <td>2.0</td>\n",
       "    </tr>\n",
       "    <tr>\n",
       "      <th>SCD</th>\n",
       "      <td>1993.0</td>\n",
       "      <td>1994.0</td>\n",
       "      <td>2.0</td>\n",
       "    </tr>\n",
       "  </tbody>\n",
       "</table>\n",
       "</div>"
      ],
      "text/plain": [
       "          first_year  last_year  years_on\n",
       "platform                                 \n",
       "GG            1992.0     1992.0       1.0\n",
       "PCFX          1996.0     1996.0       1.0\n",
       "TG16          1995.0     1995.0       1.0\n",
       "3DO           1994.0     1995.0       2.0\n",
       "SCD           1993.0     1994.0       2.0"
      ]
     },
     "execution_count": 134,
     "metadata": {},
     "output_type": "execute_result"
    }
   ],
   "source": [
    "# Finding video games were less time available on the market\n",
    "\n",
    "platform_years.sort_values(by= 'years_on', ascending=True).head()"
   ]
  },
  {
   "cell_type": "markdown",
   "metadata": {},
   "source": [
    "- The TurboGrafx-16 (TG16), PC-FX and Game Gear(GG) video game consoles did not complete 1 full year on the market. What could have been the reason for the failure?\n",
    "\n",
    "\n",
    "- All these little successes were released in the second decade of the first video games."
   ]
  },
  {
   "cell_type": "code",
   "execution_count": 135,
   "metadata": {},
   "outputs": [
    {
     "data": {
      "text/html": [
       "<div>\n",
       "<style scoped>\n",
       "    .dataframe tbody tr th:only-of-type {\n",
       "        vertical-align: middle;\n",
       "    }\n",
       "\n",
       "    .dataframe tbody tr th {\n",
       "        vertical-align: top;\n",
       "    }\n",
       "\n",
       "    .dataframe thead th {\n",
       "        text-align: right;\n",
       "    }\n",
       "</style>\n",
       "<table border=\"1\" class=\"dataframe\">\n",
       "  <thead>\n",
       "    <tr style=\"text-align: right;\">\n",
       "      <th></th>\n",
       "      <th>first_year</th>\n",
       "      <th>last_year</th>\n",
       "      <th>years_on</th>\n",
       "    </tr>\n",
       "    <tr>\n",
       "      <th>platform</th>\n",
       "      <th></th>\n",
       "      <th></th>\n",
       "      <th></th>\n",
       "    </tr>\n",
       "  </thead>\n",
       "  <tbody>\n",
       "    <tr>\n",
       "      <th>2600</th>\n",
       "      <td>1980.0</td>\n",
       "      <td>1989.0</td>\n",
       "      <td>10.0</td>\n",
       "    </tr>\n",
       "    <tr>\n",
       "      <th>NES</th>\n",
       "      <td>1983.0</td>\n",
       "      <td>1994.0</td>\n",
       "      <td>12.0</td>\n",
       "    </tr>\n",
       "    <tr>\n",
       "      <th>DS</th>\n",
       "      <td>1985.0</td>\n",
       "      <td>2013.0</td>\n",
       "      <td>29.0</td>\n",
       "    </tr>\n",
       "    <tr>\n",
       "      <th>PC</th>\n",
       "      <td>1985.0</td>\n",
       "      <td>2016.0</td>\n",
       "      <td>32.0</td>\n",
       "    </tr>\n",
       "    <tr>\n",
       "      <th>GB</th>\n",
       "      <td>1988.0</td>\n",
       "      <td>2001.0</td>\n",
       "      <td>14.0</td>\n",
       "    </tr>\n",
       "  </tbody>\n",
       "</table>\n",
       "</div>"
      ],
      "text/plain": [
       "          first_year  last_year  years_on\n",
       "platform                                 \n",
       "2600          1980.0     1989.0      10.0\n",
       "NES           1983.0     1994.0      12.0\n",
       "DS            1985.0     2013.0      29.0\n",
       "PC            1985.0     2016.0      32.0\n",
       "GB            1988.0     2001.0      14.0"
      ]
     },
     "execution_count": 135,
     "metadata": {},
     "output_type": "execute_result"
    }
   ],
   "source": [
    "# Finding the first video games available on the market\n",
    "\n",
    "platform_years.sort_values(by= 'first_year', ascending=True).head()"
   ]
  },
  {
   "cell_type": "markdown",
   "metadata": {},
   "source": [
    "- Among the first 5 platforms launched, none \"survived\" for less than 10 years.\n",
    "\n",
    "\n",
    "- Computer games came only 5 years after the first console (Atari 2600) and remained until today.\n",
    "\n",
    "\n",
    "- The oldest console that has been around the longest is the Nintendo DS (29 years)."
   ]
  },
  {
   "cell_type": "code",
   "execution_count": 136,
   "metadata": {},
   "outputs": [
    {
     "data": {
      "text/html": [
       "<div>\n",
       "<style scoped>\n",
       "    .dataframe tbody tr th:only-of-type {\n",
       "        vertical-align: middle;\n",
       "    }\n",
       "\n",
       "    .dataframe tbody tr th {\n",
       "        vertical-align: top;\n",
       "    }\n",
       "\n",
       "    .dataframe thead th {\n",
       "        text-align: right;\n",
       "    }\n",
       "</style>\n",
       "<table border=\"1\" class=\"dataframe\">\n",
       "  <thead>\n",
       "    <tr style=\"text-align: right;\">\n",
       "      <th></th>\n",
       "      <th>first_year</th>\n",
       "      <th>last_year</th>\n",
       "      <th>years_on</th>\n",
       "    </tr>\n",
       "    <tr>\n",
       "      <th>platform</th>\n",
       "      <th></th>\n",
       "      <th></th>\n",
       "      <th></th>\n",
       "    </tr>\n",
       "  </thead>\n",
       "  <tbody>\n",
       "    <tr>\n",
       "      <th>XOne</th>\n",
       "      <td>2013.0</td>\n",
       "      <td>2016.0</td>\n",
       "      <td>4.0</td>\n",
       "    </tr>\n",
       "    <tr>\n",
       "      <th>3DS</th>\n",
       "      <td>2011.0</td>\n",
       "      <td>2016.0</td>\n",
       "      <td>6.0</td>\n",
       "    </tr>\n",
       "    <tr>\n",
       "      <th>X360</th>\n",
       "      <td>2005.0</td>\n",
       "      <td>2016.0</td>\n",
       "      <td>12.0</td>\n",
       "    </tr>\n",
       "    <tr>\n",
       "      <th>WiiU</th>\n",
       "      <td>2012.0</td>\n",
       "      <td>2016.0</td>\n",
       "      <td>5.0</td>\n",
       "    </tr>\n",
       "    <tr>\n",
       "      <th>Wii</th>\n",
       "      <td>2006.0</td>\n",
       "      <td>2016.0</td>\n",
       "      <td>11.0</td>\n",
       "    </tr>\n",
       "    <tr>\n",
       "      <th>PSV</th>\n",
       "      <td>2011.0</td>\n",
       "      <td>2016.0</td>\n",
       "      <td>6.0</td>\n",
       "    </tr>\n",
       "    <tr>\n",
       "      <th>PC</th>\n",
       "      <td>1985.0</td>\n",
       "      <td>2016.0</td>\n",
       "      <td>32.0</td>\n",
       "    </tr>\n",
       "    <tr>\n",
       "      <th>PS4</th>\n",
       "      <td>2013.0</td>\n",
       "      <td>2016.0</td>\n",
       "      <td>4.0</td>\n",
       "    </tr>\n",
       "    <tr>\n",
       "      <th>PS3</th>\n",
       "      <td>2006.0</td>\n",
       "      <td>2016.0</td>\n",
       "      <td>11.0</td>\n",
       "    </tr>\n",
       "    <tr>\n",
       "      <th>PSP</th>\n",
       "      <td>2004.0</td>\n",
       "      <td>2015.0</td>\n",
       "      <td>12.0</td>\n",
       "    </tr>\n",
       "  </tbody>\n",
       "</table>\n",
       "</div>"
      ],
      "text/plain": [
       "          first_year  last_year  years_on\n",
       "platform                                 \n",
       "XOne          2013.0     2016.0       4.0\n",
       "3DS           2011.0     2016.0       6.0\n",
       "X360          2005.0     2016.0      12.0\n",
       "WiiU          2012.0     2016.0       5.0\n",
       "Wii           2006.0     2016.0      11.0\n",
       "PSV           2011.0     2016.0       6.0\n",
       "PC            1985.0     2016.0      32.0\n",
       "PS4           2013.0     2016.0       4.0\n",
       "PS3           2006.0     2016.0      11.0\n",
       "PSP           2004.0     2015.0      12.0"
      ]
     },
     "execution_count": 136,
     "metadata": {},
     "output_type": "execute_result"
    }
   ],
   "source": [
    "# Finding video games that were available in the year of data collection\n",
    "\n",
    "platform_years.sort_values(by= 'last_year', ascending=False).head(10)"
   ]
  },
  {
   "cell_type": "markdown",
   "metadata": {},
   "source": [
    "Among the 9 video games available on the market in the year data were collected, the platform that had been around for the longest time was the computer (PC), which was 32 years old, and then the Xbox 360, the \"oldest\" console in the current group."
   ]
  },
  {
   "cell_type": "code",
   "execution_count": 137,
   "metadata": {
    "scrolled": true
   },
   "outputs": [
    {
     "data": {
      "image/png": "[encoded data removed]",
      "text/plain": [
       "<Figure size 864x288 with 1 Axes>"
      ]
     },
     "metadata": {
      "needs_background": "light"
     },
     "output_type": "display_data"
    }
   ],
   "source": [
    "# Creating a bar chart for the duration of each platform on the market\n",
    "plt.figure(figsize=(12, 4))\n",
    "plt.bar(platform_years.index, platform_years['years_on'])\n",
    "\n",
    "# Defining the axis title and labels\n",
    "plt.title('Length of Each Platform on the Market')\n",
    "plt.xlabel('Platform')\n",
    "plt.ylabel('Years in the Market')\n",
    "\n",
    "# Adjusting the rotation of x-axis labels\n",
    "plt.xticks(rotation=90)\n",
    "\n",
    "# Showing the chart\n",
    "plt.show()"
   ]
  },
  {
   "cell_type": "markdown",
   "metadata": {},
   "source": [
    "When we summarize `platform_years` in a graph, it becomes even more evident that:\n",
    "\n",
    "- The two platforms that have been on the market the longest outdistance any other by at least twice as long\n",
    "\n",
    "\n",
    "- Among the 5 platforms with the most sales (PS2, X360, PS3, Wii and DS), all were between 9 and 11 years on the market, except for DS which almost reached its 30 years of sales"
   ]
  },
  {
   "cell_type": "markdown",
   "metadata": {},
   "source": [
    "[Back to Index](#back)"
   ]
  },
  {
   "cell_type": "markdown",
   "metadata": {},
   "source": [
    "## Designing a template for 2017"
   ]
  },
  {
   "cell_type": "markdown",
   "metadata": {},
   "source": [
    "Based on our evidence and findings in the previous section, let's filter the data by disregarding platforms from previous years and focusing on potentially profitable platforms for the coming year.\n",
    "\n",
    "That is, since we don't have any data for 2017, at the very least, we need to choose only those platforms that were still active in 2016 and, who knows, maybe also consider all their games, genres and ratings for relevant prospects:"
   ]
  },
  {
   "cell_type": "code",
   "execution_count": 138,
   "metadata": {},
   "outputs": [
    {
     "data": {
      "text/plain": [
       "Index(['name', 'platform', 'platform_id', 'year_of_release', 'genre',\n",
       "       'genre_id', 'na_sales', 'eu_sales', 'jp_sales', 'other_sales',\n",
       "       'total_sales', 'critic_score', 'user_score', 'rating', 'rating_id'],\n",
       "      dtype='object')"
      ]
     },
     "execution_count": 138,
     "metadata": {},
     "output_type": "execute_result"
    }
   ],
   "source": [
    "# Let's review the columns present in our 'df'\n",
    "\n",
    "df.columns"
   ]
  },
  {
   "cell_type": "markdown",
   "metadata": {},
   "source": [
    "Before carrying out this filtering, **let's enrich** our main table, with the three new columns that deal with the first and last years of launch of games on the platform, as well as the active years:"
   ]
  },
  {
   "cell_type": "code",
   "execution_count": 139,
   "metadata": {},
   "outputs": [
    {
     "data": {
      "text/html": [
       "<div>\n",
       "<style scoped>\n",
       "    .dataframe tbody tr th:only-of-type {\n",
       "        vertical-align: middle;\n",
       "    }\n",
       "\n",
       "    .dataframe tbody tr th {\n",
       "        vertical-align: top;\n",
       "    }\n",
       "\n",
       "    .dataframe thead th {\n",
       "        text-align: right;\n",
       "    }\n",
       "</style>\n",
       "<table border=\"1\" class=\"dataframe\">\n",
       "  <thead>\n",
       "    <tr style=\"text-align: right;\">\n",
       "      <th></th>\n",
       "      <th>name</th>\n",
       "      <th>platform_id</th>\n",
       "      <th>year_of_release</th>\n",
       "      <th>genre</th>\n",
       "      <th>genre_id</th>\n",
       "      <th>na_sales</th>\n",
       "      <th>eu_sales</th>\n",
       "      <th>jp_sales</th>\n",
       "      <th>other_sales</th>\n",
       "      <th>total_sales</th>\n",
       "      <th>critic_score</th>\n",
       "      <th>user_score</th>\n",
       "      <th>rating</th>\n",
       "      <th>rating_id</th>\n",
       "      <th>first_year</th>\n",
       "      <th>last_year</th>\n",
       "      <th>years_on</th>\n",
       "    </tr>\n",
       "    <tr>\n",
       "      <th>platform</th>\n",
       "      <th></th>\n",
       "      <th></th>\n",
       "      <th></th>\n",
       "      <th></th>\n",
       "      <th></th>\n",
       "      <th></th>\n",
       "      <th></th>\n",
       "      <th></th>\n",
       "      <th></th>\n",
       "      <th></th>\n",
       "      <th></th>\n",
       "      <th></th>\n",
       "      <th></th>\n",
       "      <th></th>\n",
       "      <th></th>\n",
       "      <th></th>\n",
       "      <th></th>\n",
       "    </tr>\n",
       "  </thead>\n",
       "  <tbody>\n",
       "    <tr>\n",
       "      <th>2600</th>\n",
       "      <td>Pac-Man</td>\n",
       "      <td>0</td>\n",
       "      <td>1982.0</td>\n",
       "      <td>Puzzle</td>\n",
       "      <td>5</td>\n",
       "      <td>7.28</td>\n",
       "      <td>0.45</td>\n",
       "      <td>0.0</td>\n",
       "      <td>0.08</td>\n",
       "      <td>7.81</td>\n",
       "      <td>82.55614</td>\n",
       "      <td>82.55614</td>\n",
       "      <td>E</td>\n",
       "      <td>-1</td>\n",
       "      <td>1980.0</td>\n",
       "      <td>1989.0</td>\n",
       "      <td>10.0</td>\n",
       "    </tr>\n",
       "    <tr>\n",
       "      <th>2600</th>\n",
       "      <td>Pitfall!</td>\n",
       "      <td>0</td>\n",
       "      <td>1981.0</td>\n",
       "      <td>Platform</td>\n",
       "      <td>4</td>\n",
       "      <td>4.21</td>\n",
       "      <td>0.24</td>\n",
       "      <td>0.0</td>\n",
       "      <td>0.05</td>\n",
       "      <td>4.50</td>\n",
       "      <td>82.55614</td>\n",
       "      <td>82.55614</td>\n",
       "      <td>E</td>\n",
       "      <td>-1</td>\n",
       "      <td>1980.0</td>\n",
       "      <td>1989.0</td>\n",
       "      <td>10.0</td>\n",
       "    </tr>\n",
       "    <tr>\n",
       "      <th>2600</th>\n",
       "      <td>Asteroids</td>\n",
       "      <td>0</td>\n",
       "      <td>1980.0</td>\n",
       "      <td>Shooter</td>\n",
       "      <td>8</td>\n",
       "      <td>4.00</td>\n",
       "      <td>0.26</td>\n",
       "      <td>0.0</td>\n",
       "      <td>0.05</td>\n",
       "      <td>4.31</td>\n",
       "      <td>82.55614</td>\n",
       "      <td>82.55614</td>\n",
       "      <td>M</td>\n",
       "      <td>-1</td>\n",
       "      <td>1980.0</td>\n",
       "      <td>1989.0</td>\n",
       "      <td>10.0</td>\n",
       "    </tr>\n",
       "    <tr>\n",
       "      <th>2600</th>\n",
       "      <td>Missile Command</td>\n",
       "      <td>0</td>\n",
       "      <td>1980.0</td>\n",
       "      <td>Shooter</td>\n",
       "      <td>8</td>\n",
       "      <td>2.56</td>\n",
       "      <td>0.17</td>\n",
       "      <td>0.0</td>\n",
       "      <td>0.03</td>\n",
       "      <td>2.76</td>\n",
       "      <td>82.55614</td>\n",
       "      <td>82.55614</td>\n",
       "      <td>M</td>\n",
       "      <td>-1</td>\n",
       "      <td>1980.0</td>\n",
       "      <td>1989.0</td>\n",
       "      <td>10.0</td>\n",
       "    </tr>\n",
       "    <tr>\n",
       "      <th>2600</th>\n",
       "      <td>Frogger</td>\n",
       "      <td>0</td>\n",
       "      <td>1981.0</td>\n",
       "      <td>Action</td>\n",
       "      <td>0</td>\n",
       "      <td>2.06</td>\n",
       "      <td>0.12</td>\n",
       "      <td>0.0</td>\n",
       "      <td>0.02</td>\n",
       "      <td>2.20</td>\n",
       "      <td>82.55614</td>\n",
       "      <td>82.55614</td>\n",
       "      <td>T</td>\n",
       "      <td>-1</td>\n",
       "      <td>1980.0</td>\n",
       "      <td>1989.0</td>\n",
       "      <td>10.0</td>\n",
       "    </tr>\n",
       "  </tbody>\n",
       "</table>\n",
       "</div>"
      ],
      "text/plain": [
       "                     name  platform_id  year_of_release     genre  genre_id  \\\n",
       "platform                                                                      \n",
       "2600              Pac-Man            0           1982.0    Puzzle         5   \n",
       "2600             Pitfall!            0           1981.0  Platform         4   \n",
       "2600            Asteroids            0           1980.0   Shooter         8   \n",
       "2600      Missile Command            0           1980.0   Shooter         8   \n",
       "2600              Frogger            0           1981.0    Action         0   \n",
       "\n",
       "          na_sales  eu_sales  jp_sales  other_sales  total_sales critic_score  \\\n",
       "platform                                                                        \n",
       "2600          7.28      0.45       0.0         0.08         7.81     82.55614   \n",
       "2600          4.21      0.24       0.0         0.05         4.50     82.55614   \n",
       "2600          4.00      0.26       0.0         0.05         4.31     82.55614   \n",
       "2600          2.56      0.17       0.0         0.03         2.76     82.55614   \n",
       "2600          2.06      0.12       0.0         0.02         2.20     82.55614   \n",
       "\n",
       "         user_score rating  rating_id  first_year  last_year  years_on  \n",
       "platform                                                                \n",
       "2600       82.55614      E         -1      1980.0     1989.0      10.0  \n",
       "2600       82.55614      E         -1      1980.0     1989.0      10.0  \n",
       "2600       82.55614      M         -1      1980.0     1989.0      10.0  \n",
       "2600       82.55614      M         -1      1980.0     1989.0      10.0  \n",
       "2600       82.55614      T         -1      1980.0     1989.0      10.0  "
      ]
     },
     "execution_count": 139,
     "metadata": {},
     "output_type": "execute_result"
    }
   ],
   "source": [
    "# Merging the two DataFrames by the platform column\n",
    "# Adding the three columns first_year, last_year and years_on from the secondary df to the main df\n",
    "\n",
    "df = df.set_index('platform').merge(platform_years, how='left', left_index=True, right_index=True)\n",
    "\n",
    "# Checking the first lines\n",
    "\n",
    "df.head()"
   ]
  },
  {
   "cell_type": "markdown",
   "metadata": {},
   "source": [
    "Now we can use our `df` to create `df_new`, first filtering only the platforms that were released in 2016, as an indication that they were still active at the time, and would continue in 2017, as well as only the games released within of the last 10 years, as it was a regular success time for a platform:"
   ]
  },
  {
   "cell_type": "code",
   "execution_count": 140,
   "metadata": {},
   "outputs": [
    {
     "data": {
      "text/html": [
       "<div>\n",
       "<style scoped>\n",
       "    .dataframe tbody tr th:only-of-type {\n",
       "        vertical-align: middle;\n",
       "    }\n",
       "\n",
       "    .dataframe tbody tr th {\n",
       "        vertical-align: top;\n",
       "    }\n",
       "\n",
       "    .dataframe thead th {\n",
       "        text-align: right;\n",
       "    }\n",
       "</style>\n",
       "<table border=\"1\" class=\"dataframe\">\n",
       "  <thead>\n",
       "    <tr style=\"text-align: right;\">\n",
       "      <th></th>\n",
       "      <th>platform</th>\n",
       "      <th>name</th>\n",
       "      <th>platform_id</th>\n",
       "      <th>year_of_release</th>\n",
       "      <th>genre</th>\n",
       "      <th>genre_id</th>\n",
       "      <th>na_sales</th>\n",
       "      <th>eu_sales</th>\n",
       "      <th>jp_sales</th>\n",
       "      <th>other_sales</th>\n",
       "      <th>total_sales</th>\n",
       "      <th>critic_score</th>\n",
       "      <th>user_score</th>\n",
       "      <th>rating</th>\n",
       "      <th>rating_id</th>\n",
       "      <th>first_year</th>\n",
       "      <th>last_year</th>\n",
       "      <th>years_on</th>\n",
       "    </tr>\n",
       "  </thead>\n",
       "  <tbody>\n",
       "    <tr>\n",
       "      <th>0</th>\n",
       "      <td>3DS</td>\n",
       "      <td>Pokemon X/Pokemon Y</td>\n",
       "      <td>2</td>\n",
       "      <td>2013.0</td>\n",
       "      <td>Role-Playing</td>\n",
       "      <td>7</td>\n",
       "      <td>5.28</td>\n",
       "      <td>4.19</td>\n",
       "      <td>4.35</td>\n",
       "      <td>0.78</td>\n",
       "      <td>14.60</td>\n",
       "      <td>82.55614</td>\n",
       "      <td>82.55614</td>\n",
       "      <td>T</td>\n",
       "      <td>-1</td>\n",
       "      <td>2011.0</td>\n",
       "      <td>2016.0</td>\n",
       "      <td>6.0</td>\n",
       "    </tr>\n",
       "    <tr>\n",
       "      <th>1</th>\n",
       "      <td>3DS</td>\n",
       "      <td>Mario Kart 7</td>\n",
       "      <td>2</td>\n",
       "      <td>2011.0</td>\n",
       "      <td>Racing</td>\n",
       "      <td>6</td>\n",
       "      <td>5.03</td>\n",
       "      <td>4.02</td>\n",
       "      <td>2.69</td>\n",
       "      <td>0.91</td>\n",
       "      <td>12.65</td>\n",
       "      <td>82.55614</td>\n",
       "      <td>82.55614</td>\n",
       "      <td>E</td>\n",
       "      <td>1</td>\n",
       "      <td>2011.0</td>\n",
       "      <td>2016.0</td>\n",
       "      <td>6.0</td>\n",
       "    </tr>\n",
       "    <tr>\n",
       "      <th>2</th>\n",
       "      <td>3DS</td>\n",
       "      <td>Pokemon Omega Ruby/Pokemon Alpha Sapphire</td>\n",
       "      <td>2</td>\n",
       "      <td>2014.0</td>\n",
       "      <td>Role-Playing</td>\n",
       "      <td>7</td>\n",
       "      <td>4.35</td>\n",
       "      <td>3.49</td>\n",
       "      <td>3.10</td>\n",
       "      <td>0.74</td>\n",
       "      <td>11.68</td>\n",
       "      <td>82.55614</td>\n",
       "      <td>82.55614</td>\n",
       "      <td>T</td>\n",
       "      <td>-1</td>\n",
       "      <td>2011.0</td>\n",
       "      <td>2016.0</td>\n",
       "      <td>6.0</td>\n",
       "    </tr>\n",
       "    <tr>\n",
       "      <th>3</th>\n",
       "      <td>3DS</td>\n",
       "      <td>Super Mario 3D Land</td>\n",
       "      <td>2</td>\n",
       "      <td>2011.0</td>\n",
       "      <td>Platform</td>\n",
       "      <td>4</td>\n",
       "      <td>4.89</td>\n",
       "      <td>3.00</td>\n",
       "      <td>2.14</td>\n",
       "      <td>0.78</td>\n",
       "      <td>10.81</td>\n",
       "      <td>82.55614</td>\n",
       "      <td>82.55614</td>\n",
       "      <td>E</td>\n",
       "      <td>1</td>\n",
       "      <td>2011.0</td>\n",
       "      <td>2016.0</td>\n",
       "      <td>6.0</td>\n",
       "    </tr>\n",
       "    <tr>\n",
       "      <th>4</th>\n",
       "      <td>3DS</td>\n",
       "      <td>New Super Mario Bros. 2</td>\n",
       "      <td>2</td>\n",
       "      <td>2012.0</td>\n",
       "      <td>Platform</td>\n",
       "      <td>4</td>\n",
       "      <td>3.66</td>\n",
       "      <td>3.14</td>\n",
       "      <td>2.47</td>\n",
       "      <td>0.63</td>\n",
       "      <td>9.90</td>\n",
       "      <td>82.55614</td>\n",
       "      <td>82.55614</td>\n",
       "      <td>E</td>\n",
       "      <td>1</td>\n",
       "      <td>2011.0</td>\n",
       "      <td>2016.0</td>\n",
       "      <td>6.0</td>\n",
       "    </tr>\n",
       "  </tbody>\n",
       "</table>\n",
       "</div>"
      ],
      "text/plain": [
       "  platform                                       name  platform_id  \\\n",
       "0      3DS                        Pokemon X/Pokemon Y            2   \n",
       "1      3DS                               Mario Kart 7            2   \n",
       "2      3DS  Pokemon Omega Ruby/Pokemon Alpha Sapphire            2   \n",
       "3      3DS                        Super Mario 3D Land            2   \n",
       "4      3DS                    New Super Mario Bros. 2            2   \n",
       "\n",
       "   year_of_release         genre  genre_id  na_sales  eu_sales  jp_sales  \\\n",
       "0           2013.0  Role-Playing         7      5.28      4.19      4.35   \n",
       "1           2011.0        Racing         6      5.03      4.02      2.69   \n",
       "2           2014.0  Role-Playing         7      4.35      3.49      3.10   \n",
       "3           2011.0      Platform         4      4.89      3.00      2.14   \n",
       "4           2012.0      Platform         4      3.66      3.14      2.47   \n",
       "\n",
       "   other_sales  total_sales critic_score user_score rating  rating_id  \\\n",
       "0         0.78        14.60     82.55614   82.55614      T         -1   \n",
       "1         0.91        12.65     82.55614   82.55614      E          1   \n",
       "2         0.74        11.68     82.55614   82.55614      T         -1   \n",
       "3         0.78        10.81     82.55614   82.55614      E          1   \n",
       "4         0.63         9.90     82.55614   82.55614      E          1   \n",
       "\n",
       "   first_year  last_year  years_on  \n",
       "0      2011.0     2016.0       6.0  \n",
       "1      2011.0     2016.0       6.0  \n",
       "2      2011.0     2016.0       6.0  \n",
       "3      2011.0     2016.0       6.0  \n",
       "4      2011.0     2016.0       6.0  "
      ]
     },
     "execution_count": 140,
     "metadata": {},
     "output_type": "execute_result"
    }
   ],
   "source": [
    "# Filtering newer platforms\n",
    "\n",
    "df_new = df.query('last_year > 2015 & year_of_release > 2006')\n",
    "df_new = df_new.reset_index()\n",
    "df_new.head()"
   ]
  },
  {
   "cell_type": "code",
   "execution_count": 141,
   "metadata": {},
   "outputs": [
    {
     "name": "stdout",
     "output_type": "stream",
     "text": [
      "Our previous \"df\" had 16444 rows, while our new one has 6093, i.e. current platform game data represents 37.1% of the original table.\n"
     ]
    }
   ],
   "source": [
    "print('Our previous \"df\" had ' + str(len(df)) + ' rows, while our new one has ' + str(len(df_new)) + ', i.e. current platform game data represents ' + str((round(len(df_new)/len(df)*100, 1)\n",
    ")) + '% of the original table.')"
   ]
  },
  {
   "cell_type": "code",
   "execution_count": 142,
   "metadata": {},
   "outputs": [
    {
     "data": {
      "text/plain": [
       "Action          1654\n",
       "Sports           819\n",
       "Misc             659\n",
       "Shooter          602\n",
       "Role-Playing     535\n",
       "Adventure        432\n",
       "Racing           373\n",
       "Simulation       261\n",
       "Fighting         237\n",
       "Strategy         220\n",
       "Platform         192\n",
       "Puzzle           109\n",
       "Name: genre, dtype: int64"
      ]
     },
     "execution_count": 142,
     "metadata": {},
     "output_type": "execute_result"
    }
   ],
   "source": [
    "df_new['genre'].value_counts()"
   ]
  },
  {
   "cell_type": "markdown",
   "metadata": {},
   "source": [
    "We still have 12 game genres."
   ]
  },
  {
   "cell_type": "code",
   "execution_count": 143,
   "metadata": {},
   "outputs": [
    {
     "data": {
      "text/plain": [
       "PS3     1279\n",
       "Wii     1242\n",
       "X360    1121\n",
       "PC       724\n",
       "3DS      512\n",
       "PSV      429\n",
       "PS4      392\n",
       "XOne     247\n",
       "WiiU     147\n",
       "Name: platform, dtype: int64"
      ]
     },
     "execution_count": 143,
     "metadata": {},
     "output_type": "execute_result"
    }
   ],
   "source": [
    "df_new['platform'].value_counts()"
   ]
  },
  {
   "cell_type": "markdown",
   "metadata": {},
   "source": [
    "We only have 9 active platforms in 2016."
   ]
  },
  {
   "cell_type": "markdown",
   "metadata": {},
   "source": [
    "Let's create a box plot showing global sales by platform:"
   ]
  },
  {
   "cell_type": "code",
   "execution_count": 145,
   "metadata": {},
   "outputs": [
    {
     "data": {
      "image/png": "[encoded data removed]",
      "text/plain": [
       "<Figure size 864x576 with 1 Axes>"
      ]
     },
     "metadata": {
      "needs_background": "light"
     },
     "output_type": "display_data"
    }
   ],
   "source": [
    "# Selecting column of interest in dataframe\n",
    "global_sales = df_new['total_sales']\n",
    "\n",
    "# Defining platforms to be plotted\n",
    "platforms = ['PS3', 'Wii', 'X360', 'PC', '3DS', 'PSV', 'PS4', 'XOne', 'WiiU']\n",
    "\n",
    "# Creating a list of global sales for each platform\n",
    "data = [global_sales[df_new['platform']==p] for p in platforms]\n",
    "\n",
    "# Configuring the chart\n",
    "fig, ax = plt.subplots(figsize=(12,8))\n",
    "ax.set_title('Global Sales by Platform')\n",
    "ax.set_xlabel('Platform')\n",
    "ax.set_ylabel('Global Sales (in million units)')\n",
    "ax.boxplot(data)\n",
    "ax.set_xticklabels(platforms, rotation=45)\n",
    "\n",
    "# displaying the graph\n",
    "plt.show()"
   ]
  },
  {
   "cell_type": "markdown",
   "metadata": {},
   "source": [
    "To the naked eye, PC, PSV and 3DS are visually different but perhaps don't appear to be drastic differences given the fact that we have many *outliers* in the rest of the graph.\n",
    "\n",
    "To be able to say with more certainty or not, let's use the ANOVA statistical test using the \"f_oneway\" function of the \"scipy.stats\" module:"
   ]
  },
  {
   "cell_type": "code",
   "execution_count": 146,
   "metadata": {},
   "outputs": [
    {
     "name": "stdout",
     "output_type": "stream",
     "text": [
      "The differences in sales are statistically significant.\n"
     ]
    }
   ],
   "source": [
    "from scipy.stats import f_oneway\n",
    "\n",
    "# Defining global sales for each platform\n",
    "ps3_sales = global_sales[df_new['platform'] == 'PS3']\n",
    "wii_sales = global_sales[df_new['platform'] == 'Wii']\n",
    "x360_sales = global_sales[df_new['platform'] == 'X360']\n",
    "pc_sales = global_sales[df_new['platform'] == 'PC']\n",
    "ds_sales = global_sales[df_new['platform'] == '3DS']\n",
    "psv_sales = global_sales[df_new['platform'] == 'PSV']\n",
    "ps4_sales = global_sales[df_new['platform'] == 'PS4']\n",
    "xone_sales = global_sales[df_new['platform'] == 'XOne']\n",
    "wiiu_sales = global_sales[df_new['platform'] == 'WiiU']\n",
    "\n",
    "# Performing the ANOVA\n",
    "fvalue, pvalue = f_oneway(ps3_sales, wii_sales, x360_sales, pc_sales, ds_sales, psv_sales, ps4_sales, xone_sales, wiiu_sales)\n",
    "\n",
    "# Printing the result\n",
    "if pvalue < 0.05:\n",
    "     print(\"The differences in sales are statistically significant.\")\n",
    "else:\n",
    "     print(\"The differences in sales are not statistically significant.\")"
   ]
  },
  {
   "cell_type": "markdown",
   "metadata": {},
   "source": [
    "According to the ANOVA statistical test, we were able to confirm that the differences in sales are significant and, above all, we learned that inferences with the naked eye can bring us great complications."
   ]
  },
  {
   "cell_type": "code",
   "execution_count": 147,
   "metadata": {
    "scrolled": false
   },
   "outputs": [
    {
     "data": {
      "image/png": "[encoded data removed]",
      "text/plain": [
       "<Figure size 864x576 with 1 Axes>"
      ]
     },
     "metadata": {
      "needs_background": "light"
     },
     "output_type": "display_data"
    }
   ],
   "source": [
    "# Grouping data by platform and averaging global sales\n",
    "platform_sales = df_new.groupby('platform')['total_sales'].mean().sort_values(ascending=False)\n",
    "\n",
    "# Creating bar chart for average sales per platform\n",
    "fig, ax = plt.subplots(figsize=(12,8))\n",
    "ax.set_title('Average Sales by Platform')\n",
    "ax.set_xlabel('Platform')\n",
    "ax.set_ylabel('Average Sales (in million units)')\n",
    "ax.bar(platform_sales.index, platform_sales.values)\n",
    "ax.set_xticks(range(len(platforms)))\n",
    "ax.set_xticklabels(platform_sales.index, rotation=45)\n",
    "\n",
    "# displaying the graph\n",
    "plt.show()"
   ]
  },
  {
   "cell_type": "markdown",
   "metadata": {},
   "source": [
    "As for average sales, we have X360 in first place, followed by PS4 and PS3, as seen in the graph."
   ]
  },
  {
   "cell_type": "code",
   "execution_count": 149,
   "metadata": {},
   "outputs": [
    {
     "data": {
      "text/plain": [
       "platform\n",
       "X360    0.804077\n",
       "PS4     0.801378\n",
       "PS3     0.711790\n",
       "XOne    0.645020\n",
       "Wii     0.607110\n",
       "Name: total_sales, dtype: float64"
      ]
     },
     "execution_count": 149,
     "metadata": {},
     "output_type": "execute_result"
    }
   ],
   "source": [
    "platform_sales.head()"
   ]
  },
  {
   "cell_type": "markdown",
   "metadata": {},
   "source": [
    "[Back to Index](#back)"
   ]
  },
  {
   "cell_type": "markdown",
   "metadata": {},
   "source": [
    "## The influence of reviews on sales"
   ]
  },
  {
   "cell_type": "markdown",
   "metadata": {},
   "source": [
    "Let's use matplotlib's scatter method to plot the scatter plot, where the x-axis represents user ratings and the y-axis represents critic ratings. The size of the points will be proportional to the total sales."
   ]
  },
  {
   "cell_type": "code",
   "execution_count": 150,
   "metadata": {},
   "outputs": [
    {
     "data": {
      "image/png": "[encoded data removed]",
      "text/plain": [
       "<Figure size 576x432 with 1 Axes>"
      ]
     },
     "metadata": {
      "needs_background": "light"
     },
     "output_type": "display_data"
    }
   ],
   "source": [
    "df_ps3 = df_new[df_new['platform'] == 'PS3'][['total_sales', 'user_score', 'critic_score']]\n",
    "\n",
    "x = df_ps3['user_score']\n",
    "y = df_ps3['critic_score']\n",
    "size = df_ps3['total_sales']\n",
    "\n",
    "fig, ax = plt.subplots(figsize=(8,6))\n",
    "\n",
    "scatter = ax.scatter(x, y, s=size*100, alpha=0.5)\n",
    "\n",
    "ax.set_xlabel('User Rating')\n",
    "ax.set_ylabel('Critics Rating')\n",
    "ax.set_title('PS3 Platform Sales vs. Ratings')\n",
    "\n",
    "plt.show()"
   ]
  },
  {
   "cell_type": "markdown",
   "metadata": {},
   "source": [
    "It's even nice to see. We observe a scatter plot that almost looks like one of gradually growing lines.\n",
    "\n",
    "It's clear that sales are all about reviews."
   ]
  },
  {
   "cell_type": "code",
   "execution_count": 151,
   "metadata": {
    "scrolled": true
   },
   "outputs": [
    {
     "data": {
      "text/plain": [
       "0.6390744094183012"
      ]
     },
     "execution_count": 151,
     "metadata": {},
     "output_type": "execute_result"
    }
   ],
   "source": [
    "total_sales = df_new['total_sales']\n",
    "df_new['user_score'].corr(total_sales)\n"
   ]
  },
  {
   "cell_type": "markdown",
   "metadata": {},
   "source": [
    "As always, contrary to what our eyes judge, the numbers say that the correlation between user reviews and sales is 0.6390744094183012, which suggests a moderate positive correlation between these two variables.\n",
    "\n",
    "Probably our imputation made on user scores (# Replacing NaN values in 'user_score' with bin averages) is influential in this conclusion."
   ]
  },
  {
   "cell_type": "markdown",
   "metadata": {},
   "source": [
    "## The top four games on the top four platforms"
   ]
  },
  {
   "cell_type": "markdown",
   "metadata": {},
   "source": [
    "Let's see how different games behave on different platforms."
   ]
  },
  {
   "cell_type": "markdown",
   "metadata": {},
   "source": [
    "**The top four games**\n",
    "\n",
    "First, for our `df_new` we'll add up all the `total_sales` of rows of games with the same name and find the revenue for each game, sorting in descending order to see the top 4 sellers:"
   ]
  },
  {
   "cell_type": "code",
   "execution_count": 152,
   "metadata": {},
   "outputs": [
    {
     "data": {
      "text/html": [
       "<div>\n",
       "<style scoped>\n",
       "    .dataframe tbody tr th:only-of-type {\n",
       "        vertical-align: middle;\n",
       "    }\n",
       "\n",
       "    .dataframe tbody tr th {\n",
       "        vertical-align: top;\n",
       "    }\n",
       "\n",
       "    .dataframe thead th {\n",
       "        text-align: right;\n",
       "    }\n",
       "</style>\n",
       "<table border=\"1\" class=\"dataframe\">\n",
       "  <thead>\n",
       "    <tr style=\"text-align: right;\">\n",
       "      <th></th>\n",
       "      <th>name</th>\n",
       "      <th>total_sales</th>\n",
       "    </tr>\n",
       "  </thead>\n",
       "  <tbody>\n",
       "    <tr>\n",
       "      <th>1267</th>\n",
       "      <td>Grand Theft Auto V</td>\n",
       "      <td>56.58</td>\n",
       "    </tr>\n",
       "    <tr>\n",
       "      <th>1852</th>\n",
       "      <td>Mario Kart Wii</td>\n",
       "      <td>35.52</td>\n",
       "    </tr>\n",
       "    <tr>\n",
       "      <th>3645</th>\n",
       "      <td>Wii Sports Resort</td>\n",
       "      <td>32.77</td>\n",
       "    </tr>\n",
       "    <tr>\n",
       "      <th>437</th>\n",
       "      <td>Call of Duty: Modern Warfare 3</td>\n",
       "      <td>30.60</td>\n",
       "    </tr>\n",
       "  </tbody>\n",
       "</table>\n",
       "</div>"
      ],
      "text/plain": [
       "                                name  total_sales\n",
       "1267              Grand Theft Auto V        56.58\n",
       "1852                  Mario Kart Wii        35.52\n",
       "3645               Wii Sports Resort        32.77\n",
       "437   Call of Duty: Modern Warfare 3        30.60"
      ]
     },
     "execution_count": 152,
     "metadata": {},
     "output_type": "execute_result"
    }
   ],
   "source": [
    "df_games_added = df_new.groupby('name', as_index=False)['total_sales'].sum()\n",
    "df_games_added.sort_values(by='total_sales', ascending=False).head(4)"
   ]
  },
  {
   "cell_type": "markdown",
   "metadata": {},
   "source": [
    "What have we just discovered?\n",
    "\n",
    "When we add up the sales of the games on all the platforms on which they are available, we find that, in fact, the four games that raised the most were:\n",
    "\n",
    "- Grand Theft AutoV\n",
    "- Mario Kart Wii\n",
    "- Wii Sports Resort\n",
    "- Call of Duty: Modern Warfare 3\n",
    "\n",
    "Even the first, GTA V, grossed almost twice as much as the fourth best seller."
   ]
  },
  {
   "cell_type": "markdown",
   "metadata": {},
   "source": [
    "**The top four platforms**\n",
    "\n",
    "Second, for our `df_new` we'll add all `total_sales` from rows of platforms with the same names and find the revenue for each platform, sorting in descending order to see the 4 that sold the most:"
   ]
  },
  {
   "cell_type": "code",
   "execution_count": 153,
   "metadata": {},
   "outputs": [
    {
     "data": {
      "text/html": [
       "<div>\n",
       "<style scoped>\n",
       "    .dataframe tbody tr th:only-of-type {\n",
       "        vertical-align: middle;\n",
       "    }\n",
       "\n",
       "    .dataframe tbody tr th {\n",
       "        vertical-align: top;\n",
       "    }\n",
       "\n",
       "    .dataframe thead th {\n",
       "        text-align: right;\n",
       "    }\n",
       "</style>\n",
       "<table border=\"1\" class=\"dataframe\">\n",
       "  <thead>\n",
       "    <tr style=\"text-align: right;\">\n",
       "      <th></th>\n",
       "      <th>platform</th>\n",
       "      <th>total_sales</th>\n",
       "    </tr>\n",
       "  </thead>\n",
       "  <tbody>\n",
       "    <tr>\n",
       "      <th>2</th>\n",
       "      <td>PS3</td>\n",
       "      <td>910.38</td>\n",
       "    </tr>\n",
       "    <tr>\n",
       "      <th>7</th>\n",
       "      <td>X360</td>\n",
       "      <td>901.37</td>\n",
       "    </tr>\n",
       "    <tr>\n",
       "      <th>5</th>\n",
       "      <td>Wii</td>\n",
       "      <td>754.03</td>\n",
       "    </tr>\n",
       "    <tr>\n",
       "      <th>3</th>\n",
       "      <td>PS4</td>\n",
       "      <td>314.14</td>\n",
       "    </tr>\n",
       "  </tbody>\n",
       "</table>\n",
       "</div>"
      ],
      "text/plain": [
       "  platform  total_sales\n",
       "2      PS3       910.38\n",
       "7     X360       901.37\n",
       "5      Wii       754.03\n",
       "3      PS4       314.14"
      ]
     },
     "execution_count": 153,
     "metadata": {},
     "output_type": "execute_result"
    }
   ],
   "source": [
    "df_platforms_added = df_new.groupby('platform', as_index=False)['total_sales'].sum()\n",
    "df_platforms_added.sort_values(by='total_sales', ascending=False).head(4)"
   ]
  },
  {
   "cell_type": "markdown",
   "metadata": {},
   "source": [
    "What did we discover this time?\n",
    "\n",
    "When we add up the sales of all platforms, we find that, in fact, the four that raised the most were:\n",
    "\n",
    "- PS3\n",
    "- X360\n",
    "- Wii\n",
    "- PS4\n",
    "\n",
    "Including the first, PS3, collected almost four times more than the fourth best seller."
   ]
  },
  {
   "cell_type": "markdown",
   "metadata": {},
   "source": [
    "**Filtering with both conditions**\n",
    "\n",
    "Now let's filter our `df_new` with only the 4 most popular games and the 4 most popular platforms:"
   ]
  },
  {
   "cell_type": "code",
   "execution_count": 154,
   "metadata": {
    "scrolled": true
   },
   "outputs": [
    {
     "data": {
      "text/plain": [
       "name                            platform\n",
       "Call of Duty: Modern Warfare 3  PS3         13.33\n",
       "                                Wii          0.83\n",
       "                                X360        14.73\n",
       "Grand Theft Auto V              PS3         21.05\n",
       "                                PS4         12.62\n",
       "                                X360        16.27\n",
       "Mario Kart Wii                  Wii         35.52\n",
       "Wii Sports Resort               Wii         32.77\n",
       "Name: total_sales, dtype: float64"
      ]
     },
     "execution_count": 154,
     "metadata": {},
     "output_type": "execute_result"
    }
   ],
   "source": [
    "# Selecting only the lines that have the 4 specified games and the 4 specified platforms\n",
    "\n",
    "df_top4games_plats = df_new.query(\"name in ['Grand Theft Auto V', 'Mario Kart Wii', 'Wii Sports Resort', 'Call of Duty: Modern Warfare 3'] and platform in ['PS3', 'X360' , 'Wii', 'PS4']\")\n",
    "\n",
    "sales_by_game_platform = df_top4games_plats.groupby(['name', 'platform'])['total_sales'].sum()\n",
    "\n",
    "sales_by_game_platform"
   ]
  },
  {
   "cell_type": "code",
   "execution_count": 155,
   "metadata": {},
   "outputs": [
    {
     "data": {
      "image/png": "[encoded data removed]",
      "text/plain": [
       "<Figure size 432x288 with 1 Axes>"
      ]
     },
     "metadata": {
      "needs_background": "light"
     },
     "output_type": "display_data"
    }
   ],
   "source": [
    "import matplotlib.pyplot as plt\n",
    "\n",
    "sales_by_game_platform.unstack().plot.bar(rot=90)\n",
    "\n",
    "plt.title('Total sales by game and platform')\n",
    "plt.xlabel('Game')\n",
    "plt.ylabel('Total sales (millions)')\n",
    "plt.legend(title='Platform')\n",
    "\n",
    "plt.show()"
   ]
  },
  {
   "cell_type": "markdown",
   "metadata": {},
   "source": [
    "**Conclusion on the 4 that raised the most**\n",
    "\n",
    "- 'Mario Kart Wii' and 'Wii Sports Resort' are the 2nd and 3rd games with the most revenue but were not even sold outside of their original platform\n",
    "\n",
    "\n",
    "- 'Grand Theft Auto V' is the best-selling game if the three platforms where it was made available are added together (PS3, X360 and PS4), because if only one platform were counted, it wouldn't go beyond Nintendo Wii games\n",
    "\n",
    "\n",
    "- Although 'Call of Duty: Modern Warfare 3' was made available on 3 platforms, strangely one of them is the Wii (so much so that the collection was negligible compared to the others) and even without having been released on PS4, it is already among the 4 top selling games."
   ]
  },
  {
   "cell_type": "markdown",
   "metadata": {},
   "source": [
    "## Overall distribution of games by genre"
   ]
  },
  {
   "cell_type": "markdown",
   "metadata": {},
   "source": [
    "Let's try to see if there is any influence of game genres on sales:"
   ]
  },
  {
   "cell_type": "code",
   "execution_count": 156,
   "metadata": {},
   "outputs": [
    {
     "data": {
      "text/plain": [
       "Action          1654\n",
       "Sports           819\n",
       "Misc             659\n",
       "Shooter          602\n",
       "Role-Playing     535\n",
       "Adventure        432\n",
       "Racing           373\n",
       "Simulation       261\n",
       "Fighting         237\n",
       "Strategy         220\n",
       "Platform         192\n",
       "Puzzle           109\n",
       "Name: genre, dtype: int64"
      ]
     },
     "execution_count": 156,
     "metadata": {},
     "output_type": "execute_result"
    }
   ],
   "source": [
    "# Counting the distribution of number of games by genres\n",
    "\n",
    "genre_counts = df_new['genre'].value_counts()\n",
    "genre_counts"
   ]
  },
  {
   "cell_type": "code",
   "execution_count": 157,
   "metadata": {
    "scrolled": false
   },
   "outputs": [
    {
     "data": {
      "image/png": "[encoded data removed]",
      "text/plain": [
       "<Figure size 864x288 with 1 Axes>"
      ]
     },
     "metadata": {
      "needs_background": "light"
     },
     "output_type": "display_data"
    }
   ],
   "source": [
    "# Generating a distribution chart of games by genre\n",
    "\n",
    "fig, ax = plt.subplots(figsize=(12,4))\n",
    "\n",
    "ax.bar(genre_counts.index, genre_counts.values)\n",
    "ax.set_title('Distribution of games by genre')\n",
    "ax.set_xlabel('Gender')\n",
    "ax.set_ylabel('Count')\n",
    "ax.set_xticks(range(len(genre_counts.index)))\n",
    "ax.set_xticklabels(genre_counts.index, rotation=90)\n",
    "\n",
    "plt.show()"
   ]
  },
  {
   "cell_type": "markdown",
   "metadata": {},
   "source": [
    "It's interesting to know how many games we had of each genre.\n",
    "\n",
    "But what about the revenue, in millions of dollars, for each type?\n",
    "\n",
    "Which genre will bring more profit?"
   ]
  },
  {
   "cell_type": "code",
   "execution_count": 158,
   "metadata": {},
   "outputs": [
    {
     "data": {
      "text/plain": [
       "genre\n",
       "Action          874.46\n",
       "Shooter         658.60\n",
       "Sports          564.10\n",
       "Misc            357.74\n",
       "Role-Playing    323.47\n",
       "Racing          229.48\n",
       "Platform        192.10\n",
       "Fighting        137.51\n",
       "Simulation      111.65\n",
       "Adventure        76.33\n",
       "Strategy         46.82\n",
       "Puzzle           21.36\n",
       "Name: total_sales, dtype: float64"
      ]
     },
     "execution_count": 158,
     "metadata": {},
     "output_type": "execute_result"
    }
   ],
   "source": [
    "# Counting the sum of game collections by genres\n",
    "\n",
    "genre_sales = df_new.groupby('genre')['total_sales'].sum()\n",
    "genre_sales.sort_values(ascending=False)"
   ]
  },
  {
   "cell_type": "code",
   "execution_count": 159,
   "metadata": {},
   "outputs": [
    {
     "data": {
      "image/png": "[encoded data removed]",
      "text/plain": [
       "<Figure size 864x288 with 1 Axes>"
      ]
     },
     "metadata": {
      "needs_background": "light"
     },
     "output_type": "display_data"
    }
   ],
   "source": [
    "# Generating a graph of game collections by genre\n",
    "\n",
    "fig, ax = plt.subplots(figsize=(12,4))\n",
    "\n",
    "ax.bar(genre_sales.index, genre_sales.values)\n",
    "ax.set_title('Game collection by genre')\n",
    "ax.set_xlabel('Gender')\n",
    "ax.set_ylabel('Rank in millions of dollars')\n",
    "ax.set_xticks(range(len(genre_sales.index)))\n",
    "ax.set_xticklabels(genre_sales.index, rotation=90)\n",
    "\n",
    "plt.show()"
   ]
  },
  {
   "cell_type": "markdown",
   "metadata": {},
   "source": [
    "There it is.\n",
    "\n",
    "Specifically for these years and these platforms:\n",
    "\n",
    "- 'Action' genre had more games and also higher profit from sales\n",
    "\n",
    "\n",
    "- However, despite being the second genre with the most 'Sports' games, it ranked as the third profit generator\n",
    "\n",
    "\n",
    "- Between number of games and profit generated, it seems that each genre doesn't change much more than 2 positions in the \"ranking\"\n",
    "\n",
    "But let's see how this profit distribution would be individually for each game, using the arithmetic mean."
   ]
  },
  {
   "cell_type": "code",
   "execution_count": 160,
   "metadata": {},
   "outputs": [
    {
     "data": {
      "text/plain": [
       "genre\n",
       "Shooter         1.094020\n",
       "Platform        1.000521\n",
       "Sports          0.688767\n",
       "Racing          0.615228\n",
       "Role-Playing    0.604617\n",
       "Fighting        0.580211\n",
       "Misc            0.542853\n",
       "Action          0.528694\n",
       "Simulation      0.427778\n",
       "Strategy        0.212818\n",
       "Puzzle          0.195963\n",
       "Adventure       0.176690\n",
       "Name: total_sales, dtype: float64"
      ]
     },
     "execution_count": 160,
     "metadata": {},
     "output_type": "execute_result"
    }
   ],
   "source": [
    "# Counting the sum of average collections for each game according to its genre\n",
    "\n",
    "genre_mean = df_new.groupby('genre')['total_sales'].mean()\n",
    "genre_mean.sort_values(ascending=False)"
   ]
  },
  {
   "cell_type": "code",
   "execution_count": 161,
   "metadata": {},
   "outputs": [
    {
     "data": {
      "image/png": "[encoded data removed]",
      "text/plain": [
       "<Figure size 864x288 with 1 Axes>"
      ]
     },
     "metadata": {
      "needs_background": "light"
     },
     "output_type": "display_data"
    }
   ],
   "source": [
    "# Generating a graph of average collections for each game by genre\n",
    "\n",
    "fig, ax = plt.subplots(figsize=(12,4))\n",
    "\n",
    "ax.bar(genre_mean.index, genre_mean.values)\n",
    "ax.set_title('Average revenue for each game according to its genre')\n",
    "ax.set_xlabel('Gender')\n",
    "ax.set_ylabel('Rank in millions of dollars')\n",
    "ax.set_xticks(range(len(genre_mean.index)))\n",
    "ax.set_xticklabels(genre_mean.index, rotation=90)\n",
    "\n",
    "plt.show()"
   ]
  },
  {
   "cell_type": "markdown",
   "metadata": {},
   "source": [
    "Here it is!\n",
    "\n",
    "And now? Where did the 'Action' genre go? It ranks eighth in earnings for each game in the given genre.\n",
    "\n",
    "\n",
    "- 'Puzzle', 'Strategy' and 'Adventure' are still last in line, apparently it's not a good idea to invest in these genres if a company is really aiming for profit\n",
    "\n",
    "\n",
    "- Although 'Shooter' is in fourth place in the number of games available, it appears as the one with the highest average profit per game\n",
    "\n",
    "\n",
    "- Look then at the 'Platform' genre! He is the penultimate in number of games available, but the second to give more profit per game!\n",
    "\n",
    "Looks like we already have some ideas for investment suggestions for the following year, right?\n",
    "\n",
    "**But can we generalize on these choices?**\n",
    "\n",
    "We can see that the most profitable genres are Action, Shooter and Sports, which account for almost half of the total game sales. However, the average profitability per game is higher in genres such as Shooter, Platform and Sports.\n",
    "\n",
    "It is important to note that we cannot completely generalize about genres with high or low sales, as there are many factors that affect the sale and profitability of a game, such as the quality of the game, the platform, the marketing campaign, among others. Therefore, it's important to look at each game individually and consider factors other than genre."
   ]
  },
  {
   "cell_type": "markdown",
   "metadata": {},
   "source": [
    "[Back to Index](#back)"
   ]
  },
  {
   "cell_type": "markdown",
   "metadata": {},
   "source": [
    "# Deepening the applications <a id='parameters3'></a>"
   ]
  },
  {
   "cell_type": "markdown",
   "metadata": {},
   "source": [
    "Before moving on to our hypothesis tests, let's do our last data enrichments and analysis, focusing now on the regions in which our data are being distributed and observed.\n",
    "\n",
    "Let's start by reviewing our table:"
   ]
  },
  {
   "cell_type": "code",
   "execution_count": 162,
   "metadata": {
    "scrolled": true
   },
   "outputs": [
    {
     "data": {
      "text/plain": [
       "(6093, 18)"
      ]
     },
     "execution_count": 162,
     "metadata": {},
     "output_type": "execute_result"
    }
   ],
   "source": [
    "df_new.shape"
   ]
  },
  {
   "cell_type": "code",
   "execution_count": 163,
   "metadata": {},
   "outputs": [
    {
     "name": "stdout",
     "output_type": "stream",
     "text": [
      "<class 'pandas.core.frame.DataFrame'>\n",
      "RangeIndex: 6093 entries, 0 to 6092\n",
      "Data columns (total 18 columns):\n",
      " #   Column           Non-Null Count  Dtype   \n",
      "---  ------           --------------  -----   \n",
      " 0   platform         6093 non-null   object  \n",
      " 1   name             6093 non-null   object  \n",
      " 2   platform_id      6093 non-null   int8    \n",
      " 3   year_of_release  6093 non-null   float64 \n",
      " 4   genre            6093 non-null   object  \n",
      " 5   genre_id         6093 non-null   int8    \n",
      " 6   na_sales         6093 non-null   float64 \n",
      " 7   eu_sales         6093 non-null   float64 \n",
      " 8   jp_sales         6093 non-null   float64 \n",
      " 9   other_sales      6093 non-null   float64 \n",
      " 10  total_sales      6093 non-null   float64 \n",
      " 11  critic_score     6093 non-null   category\n",
      " 12  user_score       6093 non-null   category\n",
      " 13  rating           6093 non-null   object  \n",
      " 14  rating_id        6093 non-null   int8    \n",
      " 15  first_year       6093 non-null   float64 \n",
      " 16  last_year        6093 non-null   float64 \n",
      " 17  years_on         6093 non-null   float64 \n",
      "dtypes: category(2), float64(9), int8(3), object(4)\n",
      "memory usage: 649.4+ KB\n"
     ]
    }
   ],
   "source": [
    "df_new.info()"
   ]
  },
  {
   "cell_type": "markdown",
   "metadata": {},
   "source": [
    "We now have 6093 rows of data, sorted into 18 variables/columns.\n",
    "\n",
    "However `critic_score` and `user_score` have unexpected data types.\n",
    "\n",
    "Let's fix them:"
   ]
  },
  {
   "cell_type": "code",
   "execution_count": 164,
   "metadata": {},
   "outputs": [],
   "source": [
    "# Converting both columns to numeric\n",
    "\n",
    "df['critic_score'] = pd.to_numeric(df['critic_score'], errors='coerce')\n",
    "df['user_score'] = pd.to_numeric(df['user_score'], errors='coerce')"
   ]
  },
  {
   "cell_type": "code",
   "execution_count": 165,
   "metadata": {},
   "outputs": [
    {
     "data": {
      "text/html": [
       "<div>\n",
       "<style scoped>\n",
       "    .dataframe tbody tr th:only-of-type {\n",
       "        vertical-align: middle;\n",
       "    }\n",
       "\n",
       "    .dataframe tbody tr th {\n",
       "        vertical-align: top;\n",
       "    }\n",
       "\n",
       "    .dataframe thead th {\n",
       "        text-align: right;\n",
       "    }\n",
       "</style>\n",
       "<table border=\"1\" class=\"dataframe\">\n",
       "  <thead>\n",
       "    <tr style=\"text-align: right;\">\n",
       "      <th></th>\n",
       "      <th>platform</th>\n",
       "      <th>name</th>\n",
       "      <th>platform_id</th>\n",
       "      <th>year_of_release</th>\n",
       "      <th>genre</th>\n",
       "      <th>genre_id</th>\n",
       "      <th>na_sales</th>\n",
       "      <th>eu_sales</th>\n",
       "      <th>jp_sales</th>\n",
       "      <th>other_sales</th>\n",
       "      <th>total_sales</th>\n",
       "      <th>critic_score</th>\n",
       "      <th>user_score</th>\n",
       "      <th>rating</th>\n",
       "      <th>rating_id</th>\n",
       "      <th>first_year</th>\n",
       "      <th>last_year</th>\n",
       "      <th>years_on</th>\n",
       "    </tr>\n",
       "  </thead>\n",
       "  <tbody>\n",
       "    <tr>\n",
       "      <th>0</th>\n",
       "      <td>3DS</td>\n",
       "      <td>Pokemon X/Pokemon Y</td>\n",
       "      <td>2</td>\n",
       "      <td>2013.0</td>\n",
       "      <td>Role-Playing</td>\n",
       "      <td>7</td>\n",
       "      <td>5.28</td>\n",
       "      <td>4.19</td>\n",
       "      <td>4.35</td>\n",
       "      <td>0.78</td>\n",
       "      <td>14.60</td>\n",
       "      <td>82.55614</td>\n",
       "      <td>82.55614</td>\n",
       "      <td>T</td>\n",
       "      <td>-1</td>\n",
       "      <td>2011.0</td>\n",
       "      <td>2016.0</td>\n",
       "      <td>6.0</td>\n",
       "    </tr>\n",
       "    <tr>\n",
       "      <th>1</th>\n",
       "      <td>3DS</td>\n",
       "      <td>Mario Kart 7</td>\n",
       "      <td>2</td>\n",
       "      <td>2011.0</td>\n",
       "      <td>Racing</td>\n",
       "      <td>6</td>\n",
       "      <td>5.03</td>\n",
       "      <td>4.02</td>\n",
       "      <td>2.69</td>\n",
       "      <td>0.91</td>\n",
       "      <td>12.65</td>\n",
       "      <td>82.55614</td>\n",
       "      <td>82.55614</td>\n",
       "      <td>E</td>\n",
       "      <td>1</td>\n",
       "      <td>2011.0</td>\n",
       "      <td>2016.0</td>\n",
       "      <td>6.0</td>\n",
       "    </tr>\n",
       "    <tr>\n",
       "      <th>2</th>\n",
       "      <td>3DS</td>\n",
       "      <td>Pokemon Omega Ruby/Pokemon Alpha Sapphire</td>\n",
       "      <td>2</td>\n",
       "      <td>2014.0</td>\n",
       "      <td>Role-Playing</td>\n",
       "      <td>7</td>\n",
       "      <td>4.35</td>\n",
       "      <td>3.49</td>\n",
       "      <td>3.10</td>\n",
       "      <td>0.74</td>\n",
       "      <td>11.68</td>\n",
       "      <td>82.55614</td>\n",
       "      <td>82.55614</td>\n",
       "      <td>T</td>\n",
       "      <td>-1</td>\n",
       "      <td>2011.0</td>\n",
       "      <td>2016.0</td>\n",
       "      <td>6.0</td>\n",
       "    </tr>\n",
       "    <tr>\n",
       "      <th>3</th>\n",
       "      <td>3DS</td>\n",
       "      <td>Super Mario 3D Land</td>\n",
       "      <td>2</td>\n",
       "      <td>2011.0</td>\n",
       "      <td>Platform</td>\n",
       "      <td>4</td>\n",
       "      <td>4.89</td>\n",
       "      <td>3.00</td>\n",
       "      <td>2.14</td>\n",
       "      <td>0.78</td>\n",
       "      <td>10.81</td>\n",
       "      <td>82.55614</td>\n",
       "      <td>82.55614</td>\n",
       "      <td>E</td>\n",
       "      <td>1</td>\n",
       "      <td>2011.0</td>\n",
       "      <td>2016.0</td>\n",
       "      <td>6.0</td>\n",
       "    </tr>\n",
       "    <tr>\n",
       "      <th>4</th>\n",
       "      <td>3DS</td>\n",
       "      <td>New Super Mario Bros. 2</td>\n",
       "      <td>2</td>\n",
       "      <td>2012.0</td>\n",
       "      <td>Platform</td>\n",
       "      <td>4</td>\n",
       "      <td>3.66</td>\n",
       "      <td>3.14</td>\n",
       "      <td>2.47</td>\n",
       "      <td>0.63</td>\n",
       "      <td>9.90</td>\n",
       "      <td>82.55614</td>\n",
       "      <td>82.55614</td>\n",
       "      <td>E</td>\n",
       "      <td>1</td>\n",
       "      <td>2011.0</td>\n",
       "      <td>2016.0</td>\n",
       "      <td>6.0</td>\n",
       "    </tr>\n",
       "  </tbody>\n",
       "</table>\n",
       "</div>"
      ],
      "text/plain": [
       "  platform                                       name  platform_id  \\\n",
       "0      3DS                        Pokemon X/Pokemon Y            2   \n",
       "1      3DS                               Mario Kart 7            2   \n",
       "2      3DS  Pokemon Omega Ruby/Pokemon Alpha Sapphire            2   \n",
       "3      3DS                        Super Mario 3D Land            2   \n",
       "4      3DS                    New Super Mario Bros. 2            2   \n",
       "\n",
       "   year_of_release         genre  genre_id  na_sales  eu_sales  jp_sales  \\\n",
       "0           2013.0  Role-Playing         7      5.28      4.19      4.35   \n",
       "1           2011.0        Racing         6      5.03      4.02      2.69   \n",
       "2           2014.0  Role-Playing         7      4.35      3.49      3.10   \n",
       "3           2011.0      Platform         4      4.89      3.00      2.14   \n",
       "4           2012.0      Platform         4      3.66      3.14      2.47   \n",
       "\n",
       "   other_sales  total_sales critic_score user_score rating  rating_id  \\\n",
       "0         0.78        14.60     82.55614   82.55614      T         -1   \n",
       "1         0.91        12.65     82.55614   82.55614      E          1   \n",
       "2         0.74        11.68     82.55614   82.55614      T         -1   \n",
       "3         0.78        10.81     82.55614   82.55614      E          1   \n",
       "4         0.63         9.90     82.55614   82.55614      E          1   \n",
       "\n",
       "   first_year  last_year  years_on  \n",
       "0      2011.0     2016.0       6.0  \n",
       "1      2011.0     2016.0       6.0  \n",
       "2      2011.0     2016.0       6.0  \n",
       "3      2011.0     2016.0       6.0  \n",
       "4      2011.0     2016.0       6.0  "
      ]
     },
     "execution_count": 165,
     "metadata": {},
     "output_type": "execute_result"
    }
   ],
   "source": [
    "df_new.head()"
   ]
  },
  {
   "cell_type": "markdown",
   "metadata": {},
   "source": [
    "## Creating a user profile for each region"
   ]
  },
  {
   "cell_type": "code",
   "execution_count": 166,
   "metadata": {},
   "outputs": [],
   "source": [
    "# North America (NA) Region User\n",
    "na_user = df_new[['na_sales', 'platform', 'genre', 'rating']]\n",
    "\n",
    "# Europe Region User (EU)\n",
    "eu_user = df_new[['eu_sales', 'platform', 'genre', 'rating']]\n",
    "\n",
    "# Japan Region User (JP)\n",
    "jp_user = df_new[['jp_sales', 'platform', 'genre', 'rating']]"
   ]
  },
  {
   "cell_type": "markdown",
   "metadata": {},
   "source": [
    "## Top 5 platforms by region"
   ]
  },
  {
   "cell_type": "markdown",
   "metadata": {},
   "source": [
    "Let's group data from the platforms used to compare this data from each region:"
   ]
  },
  {
   "cell_type": "code",
   "execution_count": 167,
   "metadata": {},
   "outputs": [
    {
     "data": {
      "text/plain": [
       "platform\n",
       "X360    553.68\n",
       "Wii     416.01\n",
       "PS3     381.29\n",
       "PS4     108.74\n",
       "XOne     93.12\n",
       "Name: na_sales, dtype: float64"
      ]
     },
     "execution_count": 167,
     "metadata": {},
     "output_type": "execute_result"
    }
   ],
   "source": [
    "# Platforms in the North America (NA) Region\n",
    "na_top_platforms = na_user.groupby('platform')['na_sales'].sum().sort_values(ascending=False).head(5)\n",
    "na_top_platforms"
   ]
  },
  {
   "cell_type": "code",
   "execution_count": 168,
   "metadata": {},
   "outputs": [
    {
     "data": {
      "text/plain": [
       "platform\n",
       "PS3     319.83\n",
       "X360    257.05\n",
       "Wii     214.70\n",
       "PS4     141.09\n",
       "PC       98.38\n",
       "Name: eu_sales, dtype: float64"
      ]
     },
     "execution_count": 168,
     "metadata": {},
     "output_type": "execute_result"
    }
   ],
   "source": [
    "# Platforms in Europe Region (EU)\n",
    "eu_top_platforms = eu_user.groupby('platform')['eu_sales'].sum().sort_values(ascending=False).head(5)\n",
    "eu_top_platforms"
   ]
  },
  {
   "cell_type": "code",
   "execution_count": 169,
   "metadata": {
    "scrolled": true
   },
   "outputs": [
    {
     "data": {
      "text/plain": [
       "platform\n",
       "3DS    100.62\n",
       "PS3     78.33\n",
       "Wii     59.13\n",
       "PSV     21.84\n",
       "PS4     15.96\n",
       "Name: jp_sales, dtype: float64"
      ]
     },
     "execution_count": 169,
     "metadata": {},
     "output_type": "execute_result"
    }
   ],
   "source": [
    "# Platforms in Japan Region (JP)\n",
    "jp_top_platforms = jp_user.groupby('platform')['jp_sales'].sum().sort_values(ascending=False).head(5)\n",
    "jp_top_platforms"
   ]
  },
  {
   "cell_type": "markdown",
   "metadata": {},
   "source": [
    "**By looking at the top five platforms in each region**, we can see some variations in market shares. In North America, the most popular platforms are X360, Wii and PS3, while in Europe, the most popular platforms are PS3, X360 and Wii. In Japan, the most popular platform is 3DS, followed by PS3 and Wii.\n",
    "\n",
    "Furthermore, market shares of platforms can vary greatly from region to region. For example, the PS4 is fourth in sales in North America, but second in Europe. Already in Japan, the PS4 is in fifth place and the 3DS leads with a wide advantage. These differences may be related to several factors, such as cultural preferences, launch of exclusive games for a certain platform in each region, differences in the price of consoles, among others."
   ]
  },
  {
   "cell_type": "markdown",
   "metadata": {},
   "source": [
    "## Top 5 genres by region"
   ]
  },
  {
   "cell_type": "code",
   "execution_count": 170,
   "metadata": {},
   "outputs": [
    {
     "data": {
      "text/plain": [
       "genre\n",
       "Action          406.28\n",
       "Shooter         338.84\n",
       "Sports          285.46\n",
       "Misc            200.42\n",
       "Role-Playing    130.83\n",
       "Name: na_sales, dtype: float64"
      ]
     },
     "execution_count": 170,
     "metadata": {},
     "output_type": "execute_result"
    }
   ],
   "source": [
    "# Genres in the North America (NA) Region\n",
    "na_top_genres = na_user.groupby('genre')['na_sales'].sum().sort_values(ascending=False).head(5)\n",
    "na_top_genres"
   ]
  },
  {
   "cell_type": "code",
   "execution_count": 171,
   "metadata": {},
   "outputs": [
    {
     "data": {
      "text/plain": [
       "genre\n",
       "Action     296.28\n",
       "Shooter    225.86\n",
       "Sports     191.22\n",
       "Misc       101.23\n",
       "Racing      94.33\n",
       "Name: eu_sales, dtype: float64"
      ]
     },
     "execution_count": 171,
     "metadata": {},
     "output_type": "execute_result"
    }
   ],
   "source": [
    "# Genres in Europe Region (EU)\n",
    "eu_top_genres = eu_user.groupby('genre')['eu_sales'].sum().sort_values(ascending=False).head(5)\n",
    "eu_top_genres"
   ]
  },
  {
   "cell_type": "code",
   "execution_count": 172,
   "metadata": {},
   "outputs": [
    {
     "data": {
      "text/plain": [
       "genre\n",
       "Role-Playing    78.49\n",
       "Action          71.77\n",
       "Sports          27.16\n",
       "Misc            23.07\n",
       "Platform        22.54\n",
       "Name: jp_sales, dtype: float64"
      ]
     },
     "execution_count": 172,
     "metadata": {},
     "output_type": "execute_result"
    }
   ],
   "source": [
    "# Genres in Region Japan (JP)\n",
    "jp_top_genres = jp_user.groupby('genre')['jp_sales'].sum().sort_values(ascending=False).head(5)\n",
    "jp_top_genres"
   ]
  },
  {
   "cell_type": "markdown",
   "metadata": {},
   "source": [
    "**The difference in the top five genres across the three regions** can be explained by player preferences in each market. In North America and Europe, the best-selling genres are action, shooting and sports, while in Japan, the most popular genre is RPG. This could be due to cultural and historical differences in gaming preferences, as well as differences in player tastes and habits in each region.\n",
    "\n",
    "Apparently 'Action' and 'Sports' are the ones that remain within the top three preferences across all regions."
   ]
  },
  {
   "cell_type": "markdown",
   "metadata": {},
   "source": [
    "[Back to Index](#back)"
   ]
  },
  {
   "cell_type": "markdown",
   "metadata": {},
   "source": [
    "## Effect of ESRB rating on sales by region"
   ]
  },
  {
   "cell_type": "code",
   "execution_count": 173,
   "metadata": {},
   "outputs": [
    {
     "data": {
      "text/plain": [
       "rating\n",
       "M       561.49\n",
       "E       545.50\n",
       "T       397.32\n",
       "E10+    224.88\n",
       "EC        0.71\n",
       "RP        0.00\n",
       "Name: na_sales, dtype: float64"
      ]
     },
     "execution_count": 173,
     "metadata": {},
     "output_type": "execute_result"
    }
   ],
   "source": [
    "# ESRB Ranking on Sales in the North America (NA) Region\n",
    "na_sales_by_rating = na_user.groupby('rating')['na_sales'].sum()\n",
    "na_sales_by_rating.sort_values(ascending=False)"
   ]
  },
  {
   "cell_type": "code",
   "execution_count": 174,
   "metadata": {},
   "outputs": [
    {
     "data": {
      "text/plain": [
       "rating\n",
       "M       401.43\n",
       "E       397.19\n",
       "T       253.40\n",
       "E10+    130.06\n",
       "RP        0.03\n",
       "EC        0.00\n",
       "Name: eu_sales, dtype: float64"
      ]
     },
     "execution_count": 174,
     "metadata": {},
     "output_type": "execute_result"
    }
   ],
   "source": [
    "# ESRB Sales Rank in Europe Region (EU)\n",
    "eu_sales_by_rating = eu_user.groupby('rating')['eu_sales'].sum()\n",
    "eu_sales_by_rating.sort_values(ascending=False)"
   ]
  },
  {
   "cell_type": "code",
   "execution_count": 175,
   "metadata": {},
   "outputs": [
    {
     "data": {
      "text/plain": [
       "rating\n",
       "T       138.26\n",
       "E       108.45\n",
       "M        40.69\n",
       "E10+     12.65\n",
       "EC        0.00\n",
       "RP        0.00\n",
       "Name: jp_sales, dtype: float64"
      ]
     },
     "execution_count": 175,
     "metadata": {},
     "output_type": "execute_result"
    }
   ],
   "source": [
    "# ESRB Sales Rank in Japan Region (JP)\n",
    "jp_sales_by_rating = jp_user.groupby('rating')['jp_sales'].sum()\n",
    "jp_sales_by_rating.sort_values(ascending=False)"
   ]
  },
  {
   "cell_type": "markdown",
   "metadata": {},
   "source": [
    "Yes, **ESRB ratings affect sales in individual regions**. We can see that the M (mature) grade is the best seller in North America, while the T (teen) grade is the best seller in Japan. In Europe, the M rating is the most sold, but the difference with other ratings is not as big as in North America. This could indicate that audiences in these regions have different preferences regarding ESRB ratings."
   ]
  },
  {
   "cell_type": "markdown",
   "metadata": {},
   "source": [
    "# Testing hypotheses <a id='testing hypothesis'></a>"
   ]
  },
  {
   "cell_type": "markdown",
   "metadata": {},
   "source": [
    "In this penultimate section, we will carry out some tests to verify the following hypotheses:\n",
    "\n",
    "     1 Are the average user ratings of the Xbox One and PC platforms the same?\n",
    "\n",
    "     2 Are the average user ratings for the Action and Sports genres different?"
   ]
  },
  {
   "cell_type": "markdown",
   "metadata": {},
   "source": [
    "## Hypothesis 1"
   ]
  },
  {
   "cell_type": "markdown",
   "metadata": {},
   "source": [
    "Let's start by testing hypothesis 1 that `user_score` for Xbox One and PC are the same.\n",
    "\n",
    "To test the hypothesis that the mean ratings of Xbox One and PC platform users are the same, we need to establish the null and alternative hypotheses:\n",
    "\n",
    "Null hypothesis (H0): The mean ratings of Xbox One platform users are equal to the mean ratings of PC platform users.\n",
    "\n",
    "Alternative hypothesis (H1): The mean ratings of Xbox One platform users are different from the mean ratings of PC platform users.\n",
    "\n",
    "To test the hypothesis, we can use a two-sample t-test, considering that the ratings of users of each platform form an independent sample. The alpha value is set to 0.01 to determine the significance level of the test."
   ]
  },
  {
   "cell_type": "code",
   "execution_count": 176,
   "metadata": {
    "scrolled": true
   },
   "outputs": [
    {
     "name": "stdout",
     "output_type": "stream",
     "text": [
      "p-value: 3.77459958062316e-14\n",
      "We reject the null hypothesis\n",
      "Xbox One User Average: 69.18823267067658\n",
      "User average for PC: 65.8781403397615\n"
     ]
    }
   ],
   "source": [
    "# Defining the samples for each platform\n",
    "xbox_one_user_score = df_new.query('platform == \"XOne\"')['user_score']\n",
    "pc_user_score = df_new.query('platform == \"PC\"')['user_score']\n",
    "\n",
    "# Removing null values\n",
    "xbox_one_user_score = xbox_one_user_score.dropna()\n",
    "pc_user_score = pc_user_score.dropna()\n",
    "\n",
    "# Hypothesis test\n",
    "alpha = 0.01\n",
    "\n",
    "results = st.ttest_ind(xbox_one_user_score, pc_user_score, equal_var=False)\n",
    "\n",
    "print('p-value:', results.pvalue)\n",
    "\n",
    "# Conclusion\n",
    "if results.pvalue < alpha:\n",
    "     print(\"We reject the null hypothesis\")\n",
    "else:\n",
    "     print(\"We failed to reject the null hypothesis\")\n",
    "\n",
    "print('Xbox One User Average:', xbox_one_user_score.astype(float).mean())\n",
    "print('User average for PC:', pc_user_score.astype(float).mean())"
   ]
  },
  {
   "cell_type": "code",
   "execution_count": 177,
   "metadata": {},
   "outputs": [
    {
     "name": "stdout",
     "output_type": "stream",
     "text": [
      "Levene test p value: 4.986540883938057e-23\n",
      "Two-sample t-test p-value: 3.77459958062316e-14\n"
     ]
    }
   ],
   "source": [
    "# Performing equality of variances test using Levene's test\n",
    "stat, p = st.levene(xbox_one_user_score, pc_user_score)\n",
    "\n",
    "# Printing the p-value of the Levene test\n",
    "print(\"Levene test p value:\", p)\n",
    "\n",
    "# Setting the \"equal_var\" parameter in the two-sample t-test\n",
    "if p > 0.05:\n",
    "     equal_var = True\n",
    "else:\n",
    "     equal_var = False\n",
    "\n",
    "# Performing the two-sample t-test with the \"equal_var\" parameter set\n",
    "results = st.ttest_ind(xbox_one_user_score, pc_user_score, equal_var=equal_var)\n",
    "\n",
    "# Printing the p-value of the two-sample t-test\n",
    "print(\"Two-sample t-test p-value:\", results.pvalue)"
   ]
  },
  {
   "cell_type": "markdown",
   "metadata": {},
   "source": [
    "Based on the hypothesis test, we can conclude that **there is a significant difference between the average user ratings between the Xbox One and PC platforms**, as the p-value of 3.77459958062316e-14 is less than the significance level alpha of 0.01. Therefore, we reject the null hypothesis that the means are equal.\n",
    "\n",
    "Additionally, we note that the average user rating for Xbox One is 69.19, while the average for PC is 65.88. This suggests that Xbox One users tend to rate games more positively than PC users, on average. However, it's important to note that differences in averages could be due to factors other than the platform itself, such as differences in the type of games available on each platform or demographic differences between users.\n",
    "\n",
    "Based on the **Levene test results**, we were able to assess that the sample variances of user ratings for Xbox One and PC are significantly different, with a p-value of 4.986540883938057e-23. This leads us to use the parameter equal_var=False in the two-sample t-test, as it indicates that the variances of the two samples are not equal.\n",
    "\n",
    "Furthermore, based on a two-sample t-test p-value of 3.77459958062316e-14, we reject the null hypothesis that Xbox One and PC user rating means are the same. This means that **there is a significant difference between the two platform averages**, with Xbox One users tending to rate games more positively than PC users, on average.\n",
    "\n",
    "However, it's important to remember that differences in averages can be influenced by factors other than platform, such as the type of game available or demographic differences between users."
   ]
  },
  {
   "cell_type": "markdown",
   "metadata": {},
   "source": [
    "[Back to Index](#back)"
   ]
  },
  {
   "cell_type": "markdown",
   "metadata": {},
   "source": [
    "## Hypothesis 2"
   ]
  },
  {
   "cell_type": "markdown",
   "metadata": {},
   "source": [
    "Null hypothesis: Average user ratings for the Action and Sports genres are the same.\n",
    "Alternative hypothesis: The average user ratings for the Action and Sports genres are different.\n",
    "\n",
    "To test this hypothesis, let's sample average user ratings for the Action and Sports genres, then perform a two-sample t-test to see if the difference between the averages is statistically significant."
   ]
  },
  {
   "cell_type": "code",
   "execution_count": 178,
   "metadata": {},
   "outputs": [
    {
     "name": "stdout",
     "output_type": "stream",
     "text": [
      "p-value: 0.0002653971176586424\n",
      "We reject the null hypothesis\n",
      "User average for the Action genre: 68.14117422594337\n",
      "User average for gender Sports: 69.02732297263704\n"
     ]
    }
   ],
   "source": [
    "# Defining the samples for each genre\n",
    "action_user_score = df_new.query('genre == \"Action\"')['user_score']\n",
    "sports_user_score = df_new.query('genre == \"Sports\"')['user_score']\n",
    "\n",
    "# Removing null values\n",
    "action_user_score = action_user_score.dropna()\n",
    "sports_user_score = sports_user_score.dropna()\n",
    "\n",
    "# Hypothesis test\n",
    "alpha = 0.01\n",
    "\n",
    "results = st.ttest_ind(action_user_score, sports_user_score, equal_var=False)\n",
    "\n",
    "print('p-value:', results.pvalue)\n",
    "\n",
    "# Conclusion\n",
    "if results.pvalue < alpha:\n",
    "     print(\"We reject the null hypothesis\")\n",
    "else:\n",
    "     print(\"We failed to reject the null hypothesis\")\n",
    "\n",
    "print('User average for the Action genre:', action_user_score.astype(float).mean())\n",
    "print('User average for gender Sports:', sports_user_score.astype(float).mean())"
   ]
  },
  {
   "cell_type": "code",
   "execution_count": 179,
   "metadata": {},
   "outputs": [
    {
     "name": "stdout",
     "output_type": "stream",
     "text": [
      "Levene test p value: 0.00022597226758896757\n",
      "Two-sample t-test p-value: 0.0002653971176586424\n"
     ]
    }
   ],
   "source": [
    "# Performing equality of variances test using Levene's test\n",
    "stat, p = st.levene(action_user_score, sports_user_score)\n",
    "\n",
    "# Printing the p-value of the Levene test\n",
    "print(\"Levene test p value:\", p)\n",
    "\n",
    "# Setting the \"equal_var\" parameter in the two-sample t-test\n",
    "if p > 0.05:\n",
    "     equal_var = True\n",
    "else:\n",
    "     equal_var = False\n",
    "\n",
    "# Performing the two-sample t-test with the \"equal_var\" parameter set\n",
    "results = st.ttest_ind(action_user_score, sports_user_score, equal_var=equal_var)\n",
    "\n",
    "# Printing the p-value of the two-sample t-test\n",
    "print(\"Two-sample t-test p-value:\", results.pvalue)"
   ]
  },
  {
   "cell_type": "markdown",
   "metadata": {},
   "source": [
    "Based on the two-sample t-test with different variances, we found a p-value of 0.000028122790066034325, which is less than the alpha significance level of 0.01. This leads us to reject the null hypothesis that mean user ratings for the Action and Sports genres are the same, and **accept the alternative hypothesis that they are different**. The user average for the Sports genre (69.03) is slightly higher than the user average for the Action genre (68.14), with a difference of about 0.89 points on the 0-100 rating scale .\n",
    "\n",
    "Therefore, based on the available data, we can conclude that the average user ratings for the Action and Sports genres are statistically different and that **users on average rate Sports games slightly higher than Action games** . However, it is important to emphasize that other factors, such as sample size and data representativeness, can influence the results and additional limitations must be considered when interpreting these results."
   ]
  },
  {
   "cell_type": "markdown",
   "metadata": {},
   "source": [
    "[Back to Index](#back)"
   ]
  },
  {
   "cell_type": "markdown",
   "metadata": {},
   "source": [
    "# General conclusion <a id='general_conclusion'></a>"
   ]
  },
  {
   "cell_type": "markdown",
   "metadata": {},
   "source": [
    "In this project, exploratory analyzes were performed on a data set of electronic games, with the aim of finding patterns and insights that can guide game development and release decisions.\n",
    "\n",
    "Game genres that are more successful than others were identified, which can be used to guide decision-making in the development of new games, as well as it was found that games with high ratings by users and critics tend to have a greater success.\n",
    "\n",
    "It has also been observed that games released on newer platforms are more likely to be successful than games released on older platforms. From these conclusions, insights were proposed, such as focusing on the development of games in the most successful genres and investing in advertising campaigns for games with high ratings.\n",
    "\n",
    "In addition, average user ratings for different platforms and game genres were analyzed. It was observed that users' receptiveness to the Xbox One and PC platforms is similar, which can guide investment in game development for both platforms. It was also observed that the average user ratings for the Action and Sports genres are different, which can guide the investment decision in a certain game genre.\n",
    "\n",
    "Then, the evolution of sales for each platform over time was analyzed. It was observed that the older platforms had a sales peak at the beginning, while the newer platforms showed highs in more recent sales. It was also observed that Nintendo Wii showed the greatest stability and had the highest sales peak in 2009-2010, while PlayStation 4 and Xbox One had their peak in about 1 year and entered the market in the same year.\n",
    "\n",
    "From these conclusions, it can be suggested to invest in game development for more recent platforms and invest in platforms that have greater stability and have had greater sales success, as well as focusing on the development of games of the most successful genres and with high ratings. by users and critics.\n",
    "\n",
    "Based on the results of the hypothesis tests performed, we can conclude that the average user ratings for the Action and Sports genres are significantly different. The results indicate that the Sports genre is slightly better evaluated by users than the Action genre. However, it is important to note that differences in average ratings may not be as significant from a practical point of view, and other variables may also influence the choice of investment in a particular game genre.\n",
    "\n",
    "Therefore, we can suggest that the decision to invest in a particular game genre takes into account not only average user ratings, but also other relevant factors such as market demand and current consumer trends. Additionally, it is important to remember that exploratory data analysis is a powerful tool, but it must be used in conjunction with other relevant information and considerations for making informed and successful business decisions.\n",
    "\n",
    "In summary, this project demonstrated the importance of exploratory data analysis in identifying patterns and insights that can guide game development and release decisions. The conclusions reached can be used to guide investments in platforms and game genres that are more likely to succeed and to create more effective marketing strategies."
   ]
  },
  {
   "cell_type": "markdown",
   "metadata": {},
   "source": [
    "[Back to Index](#back)"
   ]
  }
 ],
 "metadata": {
  "kernelspec": {
   "display_name": "Python 3 (ipykernel)",
   "language": "python",
   "name": "python3"
  },
  "language_info": {
   "codemirror_mode": {
    "name": "ipython",
    "version": 3
   },
   "file_extension": ".py",
   "mimetype": "text/x-python",
   "name": "python",
   "nbconvert_exporter": "python",
   "pygments_lexer": "ipython3",
   "version": "3.9.5"
  },
  "toc": {
   "base_numbering": "1",
   "nav_menu": {},
   "number_sections": true,
   "sideBar": true,
   "skip_h1_title": false,
   "title_cell": "Table of Contents",
   "title_sidebar": "Contents",
   "toc_cell": false,
   "toc_position": {
    "height": "calc(100% - 180px)",
    "left": "10px",
    "top": "150px",
    "width": "346.475px"
   },
   "toc_section_display": true,
   "toc_window_display": true
  }
 },
 "nbformat": 4,
 "nbformat_minor": 2
}
